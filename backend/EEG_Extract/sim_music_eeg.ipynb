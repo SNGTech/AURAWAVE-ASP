{
 "cells": [
  {
   "cell_type": "code",
   "execution_count": null,
   "metadata": {},
   "outputs": [],
   "source": [
    "from extract import EEGExtract\n",
    "import time\n",
    "from datetime import datetime\n",
    "import influxdb_client\n",
    "from influxdb_client.client.write_api import ASYNCHRONOUS\n",
    "import matplotlib.pyplot as plt\n",
    "import matplotlib\n",
    "from matplotlib.animation import FuncAnimation\n",
    "from matplotlib import animation\n",
    "import mne\n",
    "from mne.stats import bootstrap_confidence_interval\n",
    "import numpy as np\n",
    "from tqdm import tqdm\n",
    "\n",
    "plt.style.use('https://github.com/dhaitz/matplotlib-stylesheets/raw/master/pitayasmoothie-light.mplstyle')"
   ]
  },
  {
   "cell_type": "code",
   "execution_count": null,
   "metadata": {},
   "outputs": [],
   "source": [
    "EEG = EEGExtract('eeg_music_dataset', '010')\n",
    "\n",
    "# In seconds\n",
    "start, stop = 0, 5\n",
    "\n",
    "data = EEG.extract('Fp1', start, stop)\n",
    "\n",
    "print(data)"
   ]
  },
  {
   "cell_type": "markdown",
   "metadata": {},
   "source": [
    "Static EEG Data at Fp1"
   ]
  },
  {
   "cell_type": "code",
   "execution_count": null,
   "metadata": {},
   "outputs": [],
   "source": [
    "%matplotlib inline\n",
    "\n",
    "fig, ax = plt.subplots(figsize=(20, 5))\n",
    "ax.plot(data[1], data[0].T)\n",
    "ax.set_title(\"EEG Data of Fp1\")\n",
    "plt.show()"
   ]
  }
 ],
 "metadata": {
  "kernelspec": {
   "display_name": ".venv",
   "language": "python",
   "name": "python3"
  },
  "language_info": {
   "name": "python",
   "version": "3.11.5"
  }
 },
 "nbformat": 4,
 "nbformat_minor": 2
}
