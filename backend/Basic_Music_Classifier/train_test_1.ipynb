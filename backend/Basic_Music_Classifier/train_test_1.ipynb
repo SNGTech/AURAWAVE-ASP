{
 "cells": [
  {
   "cell_type": "code",
   "execution_count": 2,
   "metadata": {},
   "outputs": [],
   "source": [
    "%matplotlib qt"
   ]
  },
  {
   "cell_type": "code",
   "execution_count": 1,
   "metadata": {},
   "outputs": [
    {
     "name": "stdout",
     "output_type": "stream",
     "text": [
      "MNE-BIDS Version: 0.12\n"
     ]
    }
   ],
   "source": [
    "import pandas as pd\n",
    "import numpy as np\n",
    "\n",
    "import mne\n",
    "import matplotlib.pyplot as plt\n",
    "from mne.datasets import sample\n",
    "import mne_bids\n",
    "from mne_bids import print_dir_tree, read_raw_bids, make_report, find_matching_paths, BIDSPath\n",
    "import os\n",
    "import os.path as op\n",
    "from pathlib import Path\n",
    "from tqdm import tqdm\n",
    "import time\n",
    "\n",
    "\n",
    "# # Enable GPU Acceleration with CUDA for MNE\n",
    "\n",
    "# mne.utils.set_config('MNE_USE_CUDA', 'true')\n",
    "# mne.cuda.init_cuda(verbose=True)\n",
    "print(\"MNE-BIDS Version:\", mne_bids.__version__)"
   ]
  },
  {
   "cell_type": "code",
   "execution_count": 2,
   "metadata": {},
   "outputs": [
    {
     "data": {
      "text/html": [
       "<div>\n",
       "<style scoped>\n",
       "    .dataframe tbody tr th:only-of-type {\n",
       "        vertical-align: middle;\n",
       "    }\n",
       "\n",
       "    .dataframe tbody tr th {\n",
       "        vertical-align: top;\n",
       "    }\n",
       "\n",
       "    .dataframe thead th {\n",
       "        text-align: right;\n",
       "    }\n",
       "</style>\n",
       "<table border=\"1\" class=\"dataframe\">\n",
       "  <thead>\n",
       "    <tr style=\"text-align: right;\">\n",
       "      <th></th>\n",
       "      <th>participant_id</th>\n",
       "      <th>Gender</th>\n",
       "      <th>Age</th>\n",
       "      <th>Group</th>\n",
       "      <th>MMSE</th>\n",
       "    </tr>\n",
       "  </thead>\n",
       "  <tbody>\n",
       "    <tr>\n",
       "      <th>0</th>\n",
       "      <td>sub-001</td>\n",
       "      <td>F</td>\n",
       "      <td>57</td>\n",
       "      <td>A</td>\n",
       "      <td>16</td>\n",
       "    </tr>\n",
       "    <tr>\n",
       "      <th>1</th>\n",
       "      <td>sub-002</td>\n",
       "      <td>F</td>\n",
       "      <td>78</td>\n",
       "      <td>A</td>\n",
       "      <td>22</td>\n",
       "    </tr>\n",
       "    <tr>\n",
       "      <th>2</th>\n",
       "      <td>sub-003</td>\n",
       "      <td>M</td>\n",
       "      <td>70</td>\n",
       "      <td>A</td>\n",
       "      <td>14</td>\n",
       "    </tr>\n",
       "    <tr>\n",
       "      <th>3</th>\n",
       "      <td>sub-004</td>\n",
       "      <td>F</td>\n",
       "      <td>67</td>\n",
       "      <td>A</td>\n",
       "      <td>20</td>\n",
       "    </tr>\n",
       "    <tr>\n",
       "      <th>4</th>\n",
       "      <td>sub-005</td>\n",
       "      <td>M</td>\n",
       "      <td>70</td>\n",
       "      <td>A</td>\n",
       "      <td>22</td>\n",
       "    </tr>\n",
       "  </tbody>\n",
       "</table>\n",
       "</div>"
      ],
      "text/plain": [
       "  participant_id Gender  Age Group  MMSE\n",
       "0        sub-001      F   57     A    16\n",
       "1        sub-002      F   78     A    22\n",
       "2        sub-003      M   70     A    14\n",
       "3        sub-004      F   67     A    20\n",
       "4        sub-005      M   70     A    22"
      ]
     },
     "execution_count": 2,
     "metadata": {},
     "output_type": "execute_result"
    }
   ],
   "source": [
    "patients = pd.read_csv('./ds004504/participants.tsv', sep='\\t')\n",
    "\n",
    "patients.head()"
   ]
  },
  {
   "cell_type": "code",
   "execution_count": 7,
   "metadata": {},
   "outputs": [],
   "source": [
    "def get_bids_path(dataset: str, sub: str) -> BIDSPath:\n",
    "    bids_path = BIDSPath(\n",
    "        subject=sub,\n",
    "        task='eyesclosed',\n",
    "        suffix='eeg',\n",
    "        extension = '.set',\n",
    "        datatype='eeg',\n",
    "        root = f'./{dataset}'\n",
    "    )\n",
    "\n",
    "    return bids_path"
   ]
  },
  {
   "cell_type": "code",
   "execution_count": 8,
   "metadata": {},
   "outputs": [
    {
     "name": "stdout",
     "output_type": "stream",
     "text": [
      "Found 88 patients...\n"
     ]
    },
    {
     "name": "stderr",
     "output_type": "stream",
     "text": [
      "  0%|          | 0/88 [00:00<?, ?it/s]C:\\Users\\couts\\AppData\\Local\\Temp\\ipykernel_5832\\325607674.py:6: RuntimeWarning: Data will be preloaded. preload=False or a string preload is not supported when the data is stored in the .set file\n",
      "  raw = read_raw_bids(bids_path=bids_path, verbose=False)\n",
      "C:\\Users\\couts\\AppData\\Local\\Temp\\ipykernel_5832\\325607674.py:6: RuntimeWarning: Did not find any events.tsv associated with sub-001_task-eyesclosed.\n",
      "\n",
      "The search_str was \"ds004504\\sub-001\\**\\eeg\\sub-001*events.tsv\"\n",
      "  raw = read_raw_bids(bids_path=bids_path, verbose=False)\n",
      "  1%|          | 1/88 [00:00<01:12,  1.20it/s]C:\\Users\\couts\\AppData\\Local\\Temp\\ipykernel_5832\\325607674.py:6: RuntimeWarning: Data will be preloaded. preload=False or a string preload is not supported when the data is stored in the .set file\n",
      "  raw = read_raw_bids(bids_path=bids_path, verbose=False)\n",
      "C:\\Users\\couts\\AppData\\Local\\Temp\\ipykernel_5832\\325607674.py:6: RuntimeWarning: Did not find any events.tsv associated with sub-002_task-eyesclosed.\n",
      "\n",
      "The search_str was \"ds004504\\sub-002\\**\\eeg\\sub-002*events.tsv\"\n",
      "  raw = read_raw_bids(bids_path=bids_path, verbose=False)\n",
      "  2%|▏         | 2/88 [00:01<00:38,  2.21it/s]"
     ]
    },
    {
     "name": "stdout",
     "output_type": "stream",
     "text": [
      "Read sub-sub-001 raw EEG info\n",
      "Read sub-sub-002 raw EEG info\n"
     ]
    },
    {
     "name": "stderr",
     "output_type": "stream",
     "text": [
      "C:\\Users\\couts\\AppData\\Local\\Temp\\ipykernel_5832\\325607674.py:6: RuntimeWarning: Data will be preloaded. preload=False or a string preload is not supported when the data is stored in the .set file\n",
      "  raw = read_raw_bids(bids_path=bids_path, verbose=False)\n",
      "C:\\Users\\couts\\AppData\\Local\\Temp\\ipykernel_5832\\325607674.py:6: RuntimeWarning: Did not find any events.tsv associated with sub-003_task-eyesclosed.\n",
      "\n",
      "The search_str was \"ds004504\\sub-003\\**\\eeg\\sub-003*events.tsv\"\n",
      "  raw = read_raw_bids(bids_path=bids_path, verbose=False)\n",
      "C:\\Users\\couts\\AppData\\Local\\Temp\\ipykernel_5832\\325607674.py:6: RuntimeWarning: Data will be preloaded. preload=False or a string preload is not supported when the data is stored in the .set file\n",
      "  raw = read_raw_bids(bids_path=bids_path, verbose=False)\n",
      "C:\\Users\\couts\\AppData\\Local\\Temp\\ipykernel_5832\\325607674.py:6: RuntimeWarning: Did not find any events.tsv associated with sub-004_task-eyesclosed.\n",
      "\n",
      "The search_str was \"ds004504\\sub-004\\**\\eeg\\sub-004*events.tsv\"\n",
      "  raw = read_raw_bids(bids_path=bids_path, verbose=False)\n",
      "  5%|▍         | 4/88 [00:01<00:21,  4.00it/s]"
     ]
    },
    {
     "name": "stdout",
     "output_type": "stream",
     "text": [
      "Read sub-sub-003 raw EEG info\n",
      "Read sub-sub-004 raw EEG info\n"
     ]
    },
    {
     "name": "stderr",
     "output_type": "stream",
     "text": [
      "C:\\Users\\couts\\AppData\\Local\\Temp\\ipykernel_5832\\325607674.py:6: RuntimeWarning: Data will be preloaded. preload=False or a string preload is not supported when the data is stored in the .set file\n",
      "  raw = read_raw_bids(bids_path=bids_path, verbose=False)\n",
      "C:\\Users\\couts\\AppData\\Local\\Temp\\ipykernel_5832\\325607674.py:6: RuntimeWarning: Did not find any events.tsv associated with sub-005_task-eyesclosed.\n",
      "\n",
      "The search_str was \"ds004504\\sub-005\\**\\eeg\\sub-005*events.tsv\"\n",
      "  raw = read_raw_bids(bids_path=bids_path, verbose=False)\n",
      "  6%|▌         | 5/88 [00:01<00:19,  4.25it/s]C:\\Users\\couts\\AppData\\Local\\Temp\\ipykernel_5832\\325607674.py:6: RuntimeWarning: Data will be preloaded. preload=False or a string preload is not supported when the data is stored in the .set file\n",
      "  raw = read_raw_bids(bids_path=bids_path, verbose=False)\n",
      "C:\\Users\\couts\\AppData\\Local\\Temp\\ipykernel_5832\\325607674.py:6: RuntimeWarning: Did not find any events.tsv associated with sub-006_task-eyesclosed.\n",
      "\n",
      "The search_str was \"ds004504\\sub-006\\**\\eeg\\sub-006*events.tsv\"\n",
      "  raw = read_raw_bids(bids_path=bids_path, verbose=False)\n",
      "  7%|▋         | 6/88 [00:01<00:17,  4.59it/s]"
     ]
    },
    {
     "name": "stdout",
     "output_type": "stream",
     "text": [
      "Read sub-sub-005 raw EEG info\n",
      "Read sub-sub-006 raw EEG info\n"
     ]
    },
    {
     "name": "stderr",
     "output_type": "stream",
     "text": [
      "C:\\Users\\couts\\AppData\\Local\\Temp\\ipykernel_5832\\325607674.py:6: RuntimeWarning: Data will be preloaded. preload=False or a string preload is not supported when the data is stored in the .set file\n",
      "  raw = read_raw_bids(bids_path=bids_path, verbose=False)\n",
      "C:\\Users\\couts\\AppData\\Local\\Temp\\ipykernel_5832\\325607674.py:6: RuntimeWarning: Did not find any events.tsv associated with sub-007_task-eyesclosed.\n",
      "\n",
      "The search_str was \"ds004504\\sub-007\\**\\eeg\\sub-007*events.tsv\"\n",
      "  raw = read_raw_bids(bids_path=bids_path, verbose=False)\n",
      "  8%|▊         | 7/88 [00:01<00:17,  4.54it/s]C:\\Users\\couts\\AppData\\Local\\Temp\\ipykernel_5832\\325607674.py:6: RuntimeWarning: Data will be preloaded. preload=False or a string preload is not supported when the data is stored in the .set file\n",
      "  raw = read_raw_bids(bids_path=bids_path, verbose=False)\n",
      "C:\\Users\\couts\\AppData\\Local\\Temp\\ipykernel_5832\\325607674.py:6: RuntimeWarning: Did not find any events.tsv associated with sub-008_task-eyesclosed.\n",
      "\n",
      "The search_str was \"ds004504\\sub-008\\**\\eeg\\sub-008*events.tsv\"\n",
      "  raw = read_raw_bids(bids_path=bids_path, verbose=False)\n",
      "  9%|▉         | 8/88 [00:02<00:16,  4.77it/s]"
     ]
    },
    {
     "name": "stdout",
     "output_type": "stream",
     "text": [
      "Read sub-sub-007 raw EEG info\n",
      "Read sub-sub-008 raw EEG info\n"
     ]
    },
    {
     "name": "stderr",
     "output_type": "stream",
     "text": [
      "C:\\Users\\couts\\AppData\\Local\\Temp\\ipykernel_5832\\325607674.py:6: RuntimeWarning: Data will be preloaded. preload=False or a string preload is not supported when the data is stored in the .set file\n",
      "  raw = read_raw_bids(bids_path=bids_path, verbose=False)\n",
      "C:\\Users\\couts\\AppData\\Local\\Temp\\ipykernel_5832\\325607674.py:6: RuntimeWarning: Did not find any events.tsv associated with sub-009_task-eyesclosed.\n",
      "\n",
      "The search_str was \"ds004504\\sub-009\\**\\eeg\\sub-009*events.tsv\"\n",
      "  raw = read_raw_bids(bids_path=bids_path, verbose=False)\n",
      " 10%|█         | 9/88 [00:02<00:15,  5.10it/s]C:\\Users\\couts\\AppData\\Local\\Temp\\ipykernel_5832\\325607674.py:6: RuntimeWarning: Data will be preloaded. preload=False or a string preload is not supported when the data is stored in the .set file\n",
      "  raw = read_raw_bids(bids_path=bids_path, verbose=False)\n"
     ]
    },
    {
     "name": "stdout",
     "output_type": "stream",
     "text": [
      "Read sub-sub-009 raw EEG info\n"
     ]
    },
    {
     "name": "stderr",
     "output_type": "stream",
     "text": [
      "C:\\Users\\couts\\AppData\\Local\\Temp\\ipykernel_5832\\325607674.py:6: RuntimeWarning: Did not find any events.tsv associated with sub-010_task-eyesclosed.\n",
      "\n",
      "The search_str was \"ds004504\\sub-010\\**\\eeg\\sub-010*events.tsv\"\n",
      "  raw = read_raw_bids(bids_path=bids_path, verbose=False)\n",
      " 11%|█▏        | 10/88 [00:02<00:17,  4.47it/s]C:\\Users\\couts\\AppData\\Local\\Temp\\ipykernel_5832\\325607674.py:6: RuntimeWarning: Data will be preloaded. preload=False or a string preload is not supported when the data is stored in the .set file\n",
      "  raw = read_raw_bids(bids_path=bids_path, verbose=False)\n",
      "C:\\Users\\couts\\AppData\\Local\\Temp\\ipykernel_5832\\325607674.py:6: RuntimeWarning: Did not find any events.tsv associated with sub-011_task-eyesclosed.\n",
      "\n",
      "The search_str was \"ds004504\\sub-011\\**\\eeg\\sub-011*events.tsv\"\n",
      "  raw = read_raw_bids(bids_path=bids_path, verbose=False)\n",
      " 12%|█▎        | 11/88 [00:02<00:16,  4.76it/s]"
     ]
    },
    {
     "name": "stdout",
     "output_type": "stream",
     "text": [
      "Read sub-sub-010 raw EEG info\n",
      "Read sub-sub-011 raw EEG info\n"
     ]
    },
    {
     "name": "stderr",
     "output_type": "stream",
     "text": [
      "C:\\Users\\couts\\AppData\\Local\\Temp\\ipykernel_5832\\325607674.py:6: RuntimeWarning: Data will be preloaded. preload=False or a string preload is not supported when the data is stored in the .set file\n",
      "  raw = read_raw_bids(bids_path=bids_path, verbose=False)\n",
      "C:\\Users\\couts\\AppData\\Local\\Temp\\ipykernel_5832\\325607674.py:6: RuntimeWarning: Did not find any events.tsv associated with sub-012_task-eyesclosed.\n",
      "\n",
      "The search_str was \"ds004504\\sub-012\\**\\eeg\\sub-012*events.tsv\"\n",
      "  raw = read_raw_bids(bids_path=bids_path, verbose=False)\n",
      " 14%|█▎        | 12/88 [00:02<00:15,  4.78it/s]C:\\Users\\couts\\AppData\\Local\\Temp\\ipykernel_5832\\325607674.py:6: RuntimeWarning: Data will be preloaded. preload=False or a string preload is not supported when the data is stored in the .set file\n",
      "  raw = read_raw_bids(bids_path=bids_path, verbose=False)\n"
     ]
    },
    {
     "name": "stdout",
     "output_type": "stream",
     "text": [
      "Read sub-sub-012 raw EEG info\n"
     ]
    },
    {
     "name": "stderr",
     "output_type": "stream",
     "text": [
      "C:\\Users\\couts\\AppData\\Local\\Temp\\ipykernel_5832\\325607674.py:6: RuntimeWarning: Did not find any events.tsv associated with sub-013_task-eyesclosed.\n",
      "\n",
      "The search_str was \"ds004504\\sub-013\\**\\eeg\\sub-013*events.tsv\"\n",
      "  raw = read_raw_bids(bids_path=bids_path, verbose=False)\n",
      " 15%|█▍        | 13/88 [00:03<00:15,  4.71it/s]C:\\Users\\couts\\AppData\\Local\\Temp\\ipykernel_5832\\325607674.py:6: RuntimeWarning: Data will be preloaded. preload=False or a string preload is not supported when the data is stored in the .set file\n",
      "  raw = read_raw_bids(bids_path=bids_path, verbose=False)\n"
     ]
    },
    {
     "name": "stdout",
     "output_type": "stream",
     "text": [
      "Read sub-sub-013 raw EEG info\n"
     ]
    },
    {
     "name": "stderr",
     "output_type": "stream",
     "text": [
      "C:\\Users\\couts\\AppData\\Local\\Temp\\ipykernel_5832\\325607674.py:6: RuntimeWarning: Did not find any events.tsv associated with sub-014_task-eyesclosed.\n",
      "\n",
      "The search_str was \"ds004504\\sub-014\\**\\eeg\\sub-014*events.tsv\"\n",
      "  raw = read_raw_bids(bids_path=bids_path, verbose=False)\n",
      " 16%|█▌        | 14/88 [00:03<00:15,  4.69it/s]C:\\Users\\couts\\AppData\\Local\\Temp\\ipykernel_5832\\325607674.py:6: RuntimeWarning: Data will be preloaded. preload=False or a string preload is not supported when the data is stored in the .set file\n",
      "  raw = read_raw_bids(bids_path=bids_path, verbose=False)\n"
     ]
    },
    {
     "name": "stdout",
     "output_type": "stream",
     "text": [
      "Read sub-sub-014 raw EEG info\n"
     ]
    },
    {
     "name": "stderr",
     "output_type": "stream",
     "text": [
      "C:\\Users\\couts\\AppData\\Local\\Temp\\ipykernel_5832\\325607674.py:6: RuntimeWarning: Did not find any events.tsv associated with sub-015_task-eyesclosed.\n",
      "\n",
      "The search_str was \"ds004504\\sub-015\\**\\eeg\\sub-015*events.tsv\"\n",
      "  raw = read_raw_bids(bids_path=bids_path, verbose=False)\n",
      " 17%|█▋        | 15/88 [00:03<00:15,  4.64it/s]C:\\Users\\couts\\AppData\\Local\\Temp\\ipykernel_5832\\325607674.py:6: RuntimeWarning: Data will be preloaded. preload=False or a string preload is not supported when the data is stored in the .set file\n",
      "  raw = read_raw_bids(bids_path=bids_path, verbose=False)\n"
     ]
    },
    {
     "name": "stdout",
     "output_type": "stream",
     "text": [
      "Read sub-sub-015 raw EEG info\n"
     ]
    },
    {
     "name": "stderr",
     "output_type": "stream",
     "text": [
      "C:\\Users\\couts\\AppData\\Local\\Temp\\ipykernel_5832\\325607674.py:6: RuntimeWarning: Did not find any events.tsv associated with sub-016_task-eyesclosed.\n",
      "\n",
      "The search_str was \"ds004504\\sub-016\\**\\eeg\\sub-016*events.tsv\"\n",
      "  raw = read_raw_bids(bids_path=bids_path, verbose=False)\n",
      " 18%|█▊        | 16/88 [00:03<00:16,  4.42it/s]C:\\Users\\couts\\AppData\\Local\\Temp\\ipykernel_5832\\325607674.py:6: RuntimeWarning: Data will be preloaded. preload=False or a string preload is not supported when the data is stored in the .set file\n",
      "  raw = read_raw_bids(bids_path=bids_path, verbose=False)\n"
     ]
    },
    {
     "name": "stdout",
     "output_type": "stream",
     "text": [
      "Read sub-sub-016 raw EEG info\n"
     ]
    },
    {
     "name": "stderr",
     "output_type": "stream",
     "text": [
      "C:\\Users\\couts\\AppData\\Local\\Temp\\ipykernel_5832\\325607674.py:6: RuntimeWarning: Did not find any events.tsv associated with sub-017_task-eyesclosed.\n",
      "\n",
      "The search_str was \"ds004504\\sub-017\\**\\eeg\\sub-017*events.tsv\"\n",
      "  raw = read_raw_bids(bids_path=bids_path, verbose=False)\n",
      " 19%|█▉        | 17/88 [00:04<00:15,  4.50it/s]C:\\Users\\couts\\AppData\\Local\\Temp\\ipykernel_5832\\325607674.py:6: RuntimeWarning: Data will be preloaded. preload=False or a string preload is not supported when the data is stored in the .set file\n",
      "  raw = read_raw_bids(bids_path=bids_path, verbose=False)\n",
      "C:\\Users\\couts\\AppData\\Local\\Temp\\ipykernel_5832\\325607674.py:6: RuntimeWarning: Did not find any events.tsv associated with sub-018_task-eyesclosed.\n",
      "\n",
      "The search_str was \"ds004504\\sub-018\\**\\eeg\\sub-018*events.tsv\"\n",
      "  raw = read_raw_bids(bids_path=bids_path, verbose=False)\n",
      " 20%|██        | 18/88 [00:04<00:14,  4.70it/s]"
     ]
    },
    {
     "name": "stdout",
     "output_type": "stream",
     "text": [
      "Read sub-sub-017 raw EEG info\n",
      "Read sub-sub-018 raw EEG info\n"
     ]
    },
    {
     "name": "stderr",
     "output_type": "stream",
     "text": [
      "C:\\Users\\couts\\AppData\\Local\\Temp\\ipykernel_5832\\325607674.py:6: RuntimeWarning: Data will be preloaded. preload=False or a string preload is not supported when the data is stored in the .set file\n",
      "  raw = read_raw_bids(bids_path=bids_path, verbose=False)\n",
      "C:\\Users\\couts\\AppData\\Local\\Temp\\ipykernel_5832\\325607674.py:6: RuntimeWarning: Did not find any events.tsv associated with sub-019_task-eyesclosed.\n",
      "\n",
      "The search_str was \"ds004504\\sub-019\\**\\eeg\\sub-019*events.tsv\"\n",
      "  raw = read_raw_bids(bids_path=bids_path, verbose=False)\n",
      " 22%|██▏       | 19/88 [00:04<00:15,  4.46it/s]"
     ]
    },
    {
     "name": "stdout",
     "output_type": "stream",
     "text": [
      "Read sub-sub-019 raw EEG info\n"
     ]
    },
    {
     "name": "stderr",
     "output_type": "stream",
     "text": [
      "C:\\Users\\couts\\AppData\\Local\\Temp\\ipykernel_5832\\325607674.py:6: RuntimeWarning: Data will be preloaded. preload=False or a string preload is not supported when the data is stored in the .set file\n",
      "  raw = read_raw_bids(bids_path=bids_path, verbose=False)\n",
      "C:\\Users\\couts\\AppData\\Local\\Temp\\ipykernel_5832\\325607674.py:6: RuntimeWarning: Did not find any events.tsv associated with sub-020_task-eyesclosed.\n",
      "\n",
      "The search_str was \"ds004504\\sub-020\\**\\eeg\\sub-020*events.tsv\"\n",
      "  raw = read_raw_bids(bids_path=bids_path, verbose=False)\n",
      " 23%|██▎       | 20/88 [00:04<00:16,  4.14it/s]"
     ]
    },
    {
     "name": "stdout",
     "output_type": "stream",
     "text": [
      "Read sub-sub-020 raw EEG info\n"
     ]
    },
    {
     "name": "stderr",
     "output_type": "stream",
     "text": [
      "C:\\Users\\couts\\AppData\\Local\\Temp\\ipykernel_5832\\325607674.py:6: RuntimeWarning: Data will be preloaded. preload=False or a string preload is not supported when the data is stored in the .set file\n",
      "  raw = read_raw_bids(bids_path=bids_path, verbose=False)\n",
      "C:\\Users\\couts\\AppData\\Local\\Temp\\ipykernel_5832\\325607674.py:6: RuntimeWarning: Did not find any events.tsv associated with sub-021_task-eyesclosed.\n",
      "\n",
      "The search_str was \"ds004504\\sub-021\\**\\eeg\\sub-021*events.tsv\"\n",
      "  raw = read_raw_bids(bids_path=bids_path, verbose=False)\n",
      " 24%|██▍       | 21/88 [00:04<00:16,  4.12it/s]C:\\Users\\couts\\AppData\\Local\\Temp\\ipykernel_5832\\325607674.py:6: RuntimeWarning: Data will be preloaded. preload=False or a string preload is not supported when the data is stored in the .set file\n",
      "  raw = read_raw_bids(bids_path=bids_path, verbose=False)\n",
      "C:\\Users\\couts\\AppData\\Local\\Temp\\ipykernel_5832\\325607674.py:6: RuntimeWarning: Did not find any events.tsv associated with sub-022_task-eyesclosed.\n",
      "\n",
      "The search_str was \"ds004504\\sub-022\\**\\eeg\\sub-022*events.tsv\"\n",
      "  raw = read_raw_bids(bids_path=bids_path, verbose=False)\n",
      " 25%|██▌       | 22/88 [00:05<00:14,  4.52it/s]"
     ]
    },
    {
     "name": "stdout",
     "output_type": "stream",
     "text": [
      "Read sub-sub-021 raw EEG info\n",
      "Read sub-sub-022 raw EEG info\n"
     ]
    },
    {
     "name": "stderr",
     "output_type": "stream",
     "text": [
      "C:\\Users\\couts\\AppData\\Local\\Temp\\ipykernel_5832\\325607674.py:6: RuntimeWarning: Data will be preloaded. preload=False or a string preload is not supported when the data is stored in the .set file\n",
      "  raw = read_raw_bids(bids_path=bids_path, verbose=False)\n",
      "C:\\Users\\couts\\AppData\\Local\\Temp\\ipykernel_5832\\325607674.py:6: RuntimeWarning: Did not find any events.tsv associated with sub-023_task-eyesclosed.\n",
      "\n",
      "The search_str was \"ds004504\\sub-023\\**\\eeg\\sub-023*events.tsv\"\n",
      "  raw = read_raw_bids(bids_path=bids_path, verbose=False)\n",
      " 26%|██▌       | 23/88 [00:05<00:14,  4.51it/s]C:\\Users\\couts\\AppData\\Local\\Temp\\ipykernel_5832\\325607674.py:6: RuntimeWarning: Data will be preloaded. preload=False or a string preload is not supported when the data is stored in the .set file\n",
      "  raw = read_raw_bids(bids_path=bids_path, verbose=False)\n",
      "C:\\Users\\couts\\AppData\\Local\\Temp\\ipykernel_5832\\325607674.py:6: RuntimeWarning: Did not find any events.tsv associated with sub-024_task-eyesclosed.\n",
      "\n",
      "The search_str was \"ds004504\\sub-024\\**\\eeg\\sub-024*events.tsv\"\n",
      "  raw = read_raw_bids(bids_path=bids_path, verbose=False)\n",
      " 27%|██▋       | 24/88 [00:05<00:13,  4.74it/s]"
     ]
    },
    {
     "name": "stdout",
     "output_type": "stream",
     "text": [
      "Read sub-sub-023 raw EEG info\n",
      "Read sub-sub-024 raw EEG info\n"
     ]
    },
    {
     "name": "stderr",
     "output_type": "stream",
     "text": [
      "C:\\Users\\couts\\AppData\\Local\\Temp\\ipykernel_5832\\325607674.py:6: RuntimeWarning: Data will be preloaded. preload=False or a string preload is not supported when the data is stored in the .set file\n",
      "  raw = read_raw_bids(bids_path=bids_path, verbose=False)\n",
      "C:\\Users\\couts\\AppData\\Local\\Temp\\ipykernel_5832\\325607674.py:6: RuntimeWarning: Did not find any events.tsv associated with sub-025_task-eyesclosed.\n",
      "\n",
      "The search_str was \"ds004504\\sub-025\\**\\eeg\\sub-025*events.tsv\"\n",
      "  raw = read_raw_bids(bids_path=bids_path, verbose=False)\n",
      " 28%|██▊       | 25/88 [00:05<00:12,  4.96it/s]C:\\Users\\couts\\AppData\\Local\\Temp\\ipykernel_5832\\325607674.py:6: RuntimeWarning: Data will be preloaded. preload=False or a string preload is not supported when the data is stored in the .set file\n",
      "  raw = read_raw_bids(bids_path=bids_path, verbose=False)\n"
     ]
    },
    {
     "name": "stdout",
     "output_type": "stream",
     "text": [
      "Read sub-sub-025 raw EEG info\n"
     ]
    },
    {
     "name": "stderr",
     "output_type": "stream",
     "text": [
      "C:\\Users\\couts\\AppData\\Local\\Temp\\ipykernel_5832\\325607674.py:6: RuntimeWarning: Did not find any events.tsv associated with sub-026_task-eyesclosed.\n",
      "\n",
      "The search_str was \"ds004504\\sub-026\\**\\eeg\\sub-026*events.tsv\"\n",
      "  raw = read_raw_bids(bids_path=bids_path, verbose=False)\n",
      " 30%|██▉       | 26/88 [00:06<00:13,  4.58it/s]C:\\Users\\couts\\AppData\\Local\\Temp\\ipykernel_5832\\325607674.py:6: RuntimeWarning: Data will be preloaded. preload=False or a string preload is not supported when the data is stored in the .set file\n",
      "  raw = read_raw_bids(bids_path=bids_path, verbose=False)\n",
      "C:\\Users\\couts\\AppData\\Local\\Temp\\ipykernel_5832\\325607674.py:6: RuntimeWarning: Did not find any events.tsv associated with sub-027_task-eyesclosed.\n",
      "\n",
      "The search_str was \"ds004504\\sub-027\\**\\eeg\\sub-027*events.tsv\"\n",
      "  raw = read_raw_bids(bids_path=bids_path, verbose=False)\n"
     ]
    },
    {
     "name": "stdout",
     "output_type": "stream",
     "text": [
      "Read sub-sub-026 raw EEG info\n"
     ]
    },
    {
     "name": "stderr",
     "output_type": "stream",
     "text": [
      " 31%|███       | 27/88 [00:06<00:13,  4.69it/s]C:\\Users\\couts\\AppData\\Local\\Temp\\ipykernel_5832\\325607674.py:6: RuntimeWarning: Data will be preloaded. preload=False or a string preload is not supported when the data is stored in the .set file\n",
      "  raw = read_raw_bids(bids_path=bids_path, verbose=False)\n",
      "C:\\Users\\couts\\AppData\\Local\\Temp\\ipykernel_5832\\325607674.py:6: RuntimeWarning: Did not find any events.tsv associated with sub-028_task-eyesclosed.\n",
      "\n",
      "The search_str was \"ds004504\\sub-028\\**\\eeg\\sub-028*events.tsv\"\n",
      "  raw = read_raw_bids(bids_path=bids_path, verbose=False)\n",
      " 32%|███▏      | 28/88 [00:06<00:12,  4.87it/s]"
     ]
    },
    {
     "name": "stdout",
     "output_type": "stream",
     "text": [
      "Read sub-sub-027 raw EEG info\n",
      "Read sub-sub-028 raw EEG info\n"
     ]
    },
    {
     "name": "stderr",
     "output_type": "stream",
     "text": [
      "C:\\Users\\couts\\AppData\\Local\\Temp\\ipykernel_5832\\325607674.py:6: RuntimeWarning: Data will be preloaded. preload=False or a string preload is not supported when the data is stored in the .set file\n",
      "  raw = read_raw_bids(bids_path=bids_path, verbose=False)\n",
      "C:\\Users\\couts\\AppData\\Local\\Temp\\ipykernel_5832\\325607674.py:6: RuntimeWarning: Did not find any events.tsv associated with sub-029_task-eyesclosed.\n",
      "\n",
      "The search_str was \"ds004504\\sub-029\\**\\eeg\\sub-029*events.tsv\"\n",
      "  raw = read_raw_bids(bids_path=bids_path, verbose=False)\n",
      " 33%|███▎      | 29/88 [00:06<00:11,  4.96it/s]C:\\Users\\couts\\AppData\\Local\\Temp\\ipykernel_5832\\325607674.py:6: RuntimeWarning: Data will be preloaded. preload=False or a string preload is not supported when the data is stored in the .set file\n",
      "  raw = read_raw_bids(bids_path=bids_path, verbose=False)\n",
      "C:\\Users\\couts\\AppData\\Local\\Temp\\ipykernel_5832\\325607674.py:6: RuntimeWarning: Did not find any events.tsv associated with sub-030_task-eyesclosed.\n",
      "\n",
      "The search_str was \"ds004504\\sub-030\\**\\eeg\\sub-030*events.tsv\"\n",
      "  raw = read_raw_bids(bids_path=bids_path, verbose=False)\n",
      " 34%|███▍      | 30/88 [00:06<00:11,  5.19it/s]"
     ]
    },
    {
     "name": "stdout",
     "output_type": "stream",
     "text": [
      "Read sub-sub-029 raw EEG info\n",
      "Read sub-sub-030 raw EEG info\n"
     ]
    },
    {
     "name": "stderr",
     "output_type": "stream",
     "text": [
      "C:\\Users\\couts\\AppData\\Local\\Temp\\ipykernel_5832\\325607674.py:6: RuntimeWarning: Data will be preloaded. preload=False or a string preload is not supported when the data is stored in the .set file\n",
      "  raw = read_raw_bids(bids_path=bids_path, verbose=False)\n",
      "C:\\Users\\couts\\AppData\\Local\\Temp\\ipykernel_5832\\325607674.py:6: RuntimeWarning: Did not find any events.tsv associated with sub-031_task-eyesclosed.\n",
      "\n",
      "The search_str was \"ds004504\\sub-031\\**\\eeg\\sub-031*events.tsv\"\n",
      "  raw = read_raw_bids(bids_path=bids_path, verbose=False)\n",
      " 35%|███▌      | 31/88 [00:07<00:12,  4.59it/s]C:\\Users\\couts\\AppData\\Local\\Temp\\ipykernel_5832\\325607674.py:6: RuntimeWarning: Data will be preloaded. preload=False or a string preload is not supported when the data is stored in the .set file\n",
      "  raw = read_raw_bids(bids_path=bids_path, verbose=False)\n"
     ]
    },
    {
     "name": "stdout",
     "output_type": "stream",
     "text": [
      "Read sub-sub-031 raw EEG info\n"
     ]
    },
    {
     "name": "stderr",
     "output_type": "stream",
     "text": [
      "C:\\Users\\couts\\AppData\\Local\\Temp\\ipykernel_5832\\325607674.py:6: RuntimeWarning: Did not find any events.tsv associated with sub-032_task-eyesclosed.\n",
      "\n",
      "The search_str was \"ds004504\\sub-032\\**\\eeg\\sub-032*events.tsv\"\n",
      "  raw = read_raw_bids(bids_path=bids_path, verbose=False)\n",
      " 36%|███▋      | 32/88 [00:07<00:12,  4.66it/s]C:\\Users\\couts\\AppData\\Local\\Temp\\ipykernel_5832\\325607674.py:6: RuntimeWarning: Data will be preloaded. preload=False or a string preload is not supported when the data is stored in the .set file\n",
      "  raw = read_raw_bids(bids_path=bids_path, verbose=False)\n",
      "C:\\Users\\couts\\AppData\\Local\\Temp\\ipykernel_5832\\325607674.py:6: RuntimeWarning: Did not find any events.tsv associated with sub-033_task-eyesclosed.\n",
      "\n",
      "The search_str was \"ds004504\\sub-033\\**\\eeg\\sub-033*events.tsv\"\n",
      "  raw = read_raw_bids(bids_path=bids_path, verbose=False)\n"
     ]
    },
    {
     "name": "stdout",
     "output_type": "stream",
     "text": [
      "Read sub-sub-032 raw EEG info\n"
     ]
    },
    {
     "name": "stderr",
     "output_type": "stream",
     "text": [
      " 38%|███▊      | 33/88 [00:07<00:11,  4.71it/s]"
     ]
    },
    {
     "name": "stdout",
     "output_type": "stream",
     "text": [
      "Read sub-sub-033 raw EEG info\n"
     ]
    },
    {
     "name": "stderr",
     "output_type": "stream",
     "text": [
      "C:\\Users\\couts\\AppData\\Local\\Temp\\ipykernel_5832\\325607674.py:6: RuntimeWarning: Data will be preloaded. preload=False or a string preload is not supported when the data is stored in the .set file\n",
      "  raw = read_raw_bids(bids_path=bids_path, verbose=False)\n",
      "C:\\Users\\couts\\AppData\\Local\\Temp\\ipykernel_5832\\325607674.py:6: RuntimeWarning: Did not find any events.tsv associated with sub-034_task-eyesclosed.\n",
      "\n",
      "The search_str was \"ds004504\\sub-034\\**\\eeg\\sub-034*events.tsv\"\n",
      "  raw = read_raw_bids(bids_path=bids_path, verbose=False)\n",
      " 39%|███▊      | 34/88 [00:07<00:11,  4.57it/s]C:\\Users\\couts\\AppData\\Local\\Temp\\ipykernel_5832\\325607674.py:6: RuntimeWarning: Data will be preloaded. preload=False or a string preload is not supported when the data is stored in the .set file\n",
      "  raw = read_raw_bids(bids_path=bids_path, verbose=False)\n",
      "C:\\Users\\couts\\AppData\\Local\\Temp\\ipykernel_5832\\325607674.py:6: RuntimeWarning: Did not find any events.tsv associated with sub-035_task-eyesclosed.\n",
      "\n",
      "The search_str was \"ds004504\\sub-035\\**\\eeg\\sub-035*events.tsv\"\n",
      "  raw = read_raw_bids(bids_path=bids_path, verbose=False)\n",
      " 40%|███▉      | 35/88 [00:07<00:11,  4.80it/s]"
     ]
    },
    {
     "name": "stdout",
     "output_type": "stream",
     "text": [
      "Read sub-sub-034 raw EEG info\n",
      "Read sub-sub-035 raw EEG info\n"
     ]
    },
    {
     "name": "stderr",
     "output_type": "stream",
     "text": [
      "C:\\Users\\couts\\AppData\\Local\\Temp\\ipykernel_5832\\325607674.py:6: RuntimeWarning: Data will be preloaded. preload=False or a string preload is not supported when the data is stored in the .set file\n",
      "  raw = read_raw_bids(bids_path=bids_path, verbose=False)\n",
      "C:\\Users\\couts\\AppData\\Local\\Temp\\ipykernel_5832\\325607674.py:6: RuntimeWarning: Did not find any events.tsv associated with sub-036_task-eyesclosed.\n",
      "\n",
      "The search_str was \"ds004504\\sub-036\\**\\eeg\\sub-036*events.tsv\"\n",
      "  raw = read_raw_bids(bids_path=bids_path, verbose=False)\n",
      " 41%|████      | 36/88 [00:08<00:10,  4.81it/s]C:\\Users\\couts\\AppData\\Local\\Temp\\ipykernel_5832\\325607674.py:6: RuntimeWarning: Data will be preloaded. preload=False or a string preload is not supported when the data is stored in the .set file\n",
      "  raw = read_raw_bids(bids_path=bids_path, verbose=False)\n",
      "C:\\Users\\couts\\AppData\\Local\\Temp\\ipykernel_5832\\325607674.py:6: RuntimeWarning: Did not find any events.tsv associated with sub-037_task-eyesclosed.\n",
      "\n",
      "The search_str was \"ds004504\\sub-037\\**\\eeg\\sub-037*events.tsv\"\n",
      "  raw = read_raw_bids(bids_path=bids_path, verbose=False)\n"
     ]
    },
    {
     "name": "stdout",
     "output_type": "stream",
     "text": [
      "Read sub-sub-036 raw EEG info\n"
     ]
    },
    {
     "name": "stderr",
     "output_type": "stream",
     "text": [
      " 42%|████▏     | 37/88 [00:08<00:10,  4.92it/s]C:\\Users\\couts\\AppData\\Local\\Temp\\ipykernel_5832\\325607674.py:6: RuntimeWarning: Data will be preloaded. preload=False or a string preload is not supported when the data is stored in the .set file\n",
      "  raw = read_raw_bids(bids_path=bids_path, verbose=False)\n"
     ]
    },
    {
     "name": "stdout",
     "output_type": "stream",
     "text": [
      "Read sub-sub-037 raw EEG info\n"
     ]
    },
    {
     "name": "stderr",
     "output_type": "stream",
     "text": [
      "C:\\Users\\couts\\AppData\\Local\\Temp\\ipykernel_5832\\325607674.py:6: RuntimeWarning: Did not find any events.tsv associated with sub-038_task-eyesclosed.\n",
      "\n",
      "The search_str was \"ds004504\\sub-038\\**\\eeg\\sub-038*events.tsv\"\n",
      "  raw = read_raw_bids(bids_path=bids_path, verbose=False)\n",
      " 43%|████▎     | 38/88 [00:08<00:10,  4.62it/s]C:\\Users\\couts\\AppData\\Local\\Temp\\ipykernel_5832\\325607674.py:6: RuntimeWarning: Data will be preloaded. preload=False or a string preload is not supported when the data is stored in the .set file\n",
      "  raw = read_raw_bids(bids_path=bids_path, verbose=False)\n"
     ]
    },
    {
     "name": "stdout",
     "output_type": "stream",
     "text": [
      "Read sub-sub-038 raw EEG info\n"
     ]
    },
    {
     "name": "stderr",
     "output_type": "stream",
     "text": [
      "C:\\Users\\couts\\AppData\\Local\\Temp\\ipykernel_5832\\325607674.py:6: RuntimeWarning: Did not find any events.tsv associated with sub-039_task-eyesclosed.\n",
      "\n",
      "The search_str was \"ds004504\\sub-039\\**\\eeg\\sub-039*events.tsv\"\n",
      "  raw = read_raw_bids(bids_path=bids_path, verbose=False)\n",
      " 44%|████▍     | 39/88 [00:08<00:10,  4.55it/s]C:\\Users\\couts\\AppData\\Local\\Temp\\ipykernel_5832\\325607674.py:6: RuntimeWarning: Data will be preloaded. preload=False or a string preload is not supported when the data is stored in the .set file\n",
      "  raw = read_raw_bids(bids_path=bids_path, verbose=False)\n"
     ]
    },
    {
     "name": "stdout",
     "output_type": "stream",
     "text": [
      "Read sub-sub-039 raw EEG info\n"
     ]
    },
    {
     "name": "stderr",
     "output_type": "stream",
     "text": [
      "C:\\Users\\couts\\AppData\\Local\\Temp\\ipykernel_5832\\325607674.py:6: RuntimeWarning: Did not find any events.tsv associated with sub-040_task-eyesclosed.\n",
      "\n",
      "The search_str was \"ds004504\\sub-040\\**\\eeg\\sub-040*events.tsv\"\n",
      "  raw = read_raw_bids(bids_path=bids_path, verbose=False)\n",
      " 45%|████▌     | 40/88 [00:09<00:11,  4.20it/s]C:\\Users\\couts\\AppData\\Local\\Temp\\ipykernel_5832\\325607674.py:6: RuntimeWarning: Data will be preloaded. preload=False or a string preload is not supported when the data is stored in the .set file\n",
      "  raw = read_raw_bids(bids_path=bids_path, verbose=False)\n"
     ]
    },
    {
     "name": "stdout",
     "output_type": "stream",
     "text": [
      "Read sub-sub-040 raw EEG info\n"
     ]
    },
    {
     "name": "stderr",
     "output_type": "stream",
     "text": [
      "C:\\Users\\couts\\AppData\\Local\\Temp\\ipykernel_5832\\325607674.py:6: RuntimeWarning: Did not find any events.tsv associated with sub-041_task-eyesclosed.\n",
      "\n",
      "The search_str was \"ds004504\\sub-041\\**\\eeg\\sub-041*events.tsv\"\n",
      "  raw = read_raw_bids(bids_path=bids_path, verbose=False)\n",
      " 47%|████▋     | 41/88 [00:09<00:10,  4.31it/s]C:\\Users\\couts\\AppData\\Local\\Temp\\ipykernel_5832\\325607674.py:6: RuntimeWarning: Data will be preloaded. preload=False or a string preload is not supported when the data is stored in the .set file\n",
      "  raw = read_raw_bids(bids_path=bids_path, verbose=False)\n"
     ]
    },
    {
     "name": "stdout",
     "output_type": "stream",
     "text": [
      "Read sub-sub-041 raw EEG info\n"
     ]
    },
    {
     "name": "stderr",
     "output_type": "stream",
     "text": [
      "C:\\Users\\couts\\AppData\\Local\\Temp\\ipykernel_5832\\325607674.py:6: RuntimeWarning: Did not find any events.tsv associated with sub-042_task-eyesclosed.\n",
      "\n",
      "The search_str was \"ds004504\\sub-042\\**\\eeg\\sub-042*events.tsv\"\n",
      "  raw = read_raw_bids(bids_path=bids_path, verbose=False)\n",
      " 48%|████▊     | 42/88 [00:09<00:10,  4.27it/s]C:\\Users\\couts\\AppData\\Local\\Temp\\ipykernel_5832\\325607674.py:6: RuntimeWarning: Data will be preloaded. preload=False or a string preload is not supported when the data is stored in the .set file\n",
      "  raw = read_raw_bids(bids_path=bids_path, verbose=False)\n"
     ]
    },
    {
     "name": "stdout",
     "output_type": "stream",
     "text": [
      "Read sub-sub-042 raw EEG info\n"
     ]
    },
    {
     "name": "stderr",
     "output_type": "stream",
     "text": [
      "C:\\Users\\couts\\AppData\\Local\\Temp\\ipykernel_5832\\325607674.py:6: RuntimeWarning: Did not find any events.tsv associated with sub-043_task-eyesclosed.\n",
      "\n",
      "The search_str was \"ds004504\\sub-043\\**\\eeg\\sub-043*events.tsv\"\n",
      "  raw = read_raw_bids(bids_path=bids_path, verbose=False)\n",
      " 49%|████▉     | 43/88 [00:09<00:10,  4.33it/s]C:\\Users\\couts\\AppData\\Local\\Temp\\ipykernel_5832\\325607674.py:6: RuntimeWarning: Data will be preloaded. preload=False or a string preload is not supported when the data is stored in the .set file\n",
      "  raw = read_raw_bids(bids_path=bids_path, verbose=False)\n",
      "C:\\Users\\couts\\AppData\\Local\\Temp\\ipykernel_5832\\325607674.py:6: RuntimeWarning: Did not find any events.tsv associated with sub-044_task-eyesclosed.\n",
      "\n",
      "The search_str was \"ds004504\\sub-044\\**\\eeg\\sub-044*events.tsv\"\n",
      "  raw = read_raw_bids(bids_path=bids_path, verbose=False)\n"
     ]
    },
    {
     "name": "stdout",
     "output_type": "stream",
     "text": [
      "Read sub-sub-043 raw EEG info\n"
     ]
    },
    {
     "name": "stderr",
     "output_type": "stream",
     "text": [
      " 50%|█████     | 44/88 [00:09<00:09,  4.42it/s]"
     ]
    },
    {
     "name": "stdout",
     "output_type": "stream",
     "text": [
      "Read sub-sub-044 raw EEG info\n"
     ]
    },
    {
     "name": "stderr",
     "output_type": "stream",
     "text": [
      "C:\\Users\\couts\\AppData\\Local\\Temp\\ipykernel_5832\\325607674.py:6: RuntimeWarning: Data will be preloaded. preload=False or a string preload is not supported when the data is stored in the .set file\n",
      "  raw = read_raw_bids(bids_path=bids_path, verbose=False)\n",
      "C:\\Users\\couts\\AppData\\Local\\Temp\\ipykernel_5832\\325607674.py:6: RuntimeWarning: Did not find any events.tsv associated with sub-045_task-eyesclosed.\n",
      "\n",
      "The search_str was \"ds004504\\sub-045\\**\\eeg\\sub-045*events.tsv\"\n",
      "  raw = read_raw_bids(bids_path=bids_path, verbose=False)\n",
      " 51%|█████     | 45/88 [00:10<00:09,  4.35it/s]C:\\Users\\couts\\AppData\\Local\\Temp\\ipykernel_5832\\325607674.py:6: RuntimeWarning: Data will be preloaded. preload=False or a string preload is not supported when the data is stored in the .set file\n",
      "  raw = read_raw_bids(bids_path=bids_path, verbose=False)\n"
     ]
    },
    {
     "name": "stdout",
     "output_type": "stream",
     "text": [
      "Read sub-sub-045 raw EEG info\n"
     ]
    },
    {
     "name": "stderr",
     "output_type": "stream",
     "text": [
      "C:\\Users\\couts\\AppData\\Local\\Temp\\ipykernel_5832\\325607674.py:6: RuntimeWarning: Did not find any events.tsv associated with sub-046_task-eyesclosed.\n",
      "\n",
      "The search_str was \"ds004504\\sub-046\\**\\eeg\\sub-046*events.tsv\"\n",
      "  raw = read_raw_bids(bids_path=bids_path, verbose=False)\n",
      " 52%|█████▏    | 46/88 [00:11<00:19,  2.13it/s]C:\\Users\\couts\\AppData\\Local\\Temp\\ipykernel_5832\\325607674.py:6: RuntimeWarning: Data will be preloaded. preload=False or a string preload is not supported when the data is stored in the .set file\n",
      "  raw = read_raw_bids(bids_path=bids_path, verbose=False)\n"
     ]
    },
    {
     "name": "stdout",
     "output_type": "stream",
     "text": [
      "Read sub-sub-046 raw EEG info\n"
     ]
    },
    {
     "name": "stderr",
     "output_type": "stream",
     "text": [
      "C:\\Users\\couts\\AppData\\Local\\Temp\\ipykernel_5832\\325607674.py:6: RuntimeWarning: Did not find any events.tsv associated with sub-047_task-eyesclosed.\n",
      "\n",
      "The search_str was \"ds004504\\sub-047\\**\\eeg\\sub-047*events.tsv\"\n",
      "  raw = read_raw_bids(bids_path=bids_path, verbose=False)\n",
      " 53%|█████▎    | 47/88 [00:11<00:16,  2.44it/s]"
     ]
    },
    {
     "name": "stdout",
     "output_type": "stream",
     "text": [
      "Read sub-sub-047 raw EEG info\n"
     ]
    },
    {
     "name": "stderr",
     "output_type": "stream",
     "text": [
      "C:\\Users\\couts\\AppData\\Local\\Temp\\ipykernel_5832\\325607674.py:6: RuntimeWarning: Data will be preloaded. preload=False or a string preload is not supported when the data is stored in the .set file\n",
      "  raw = read_raw_bids(bids_path=bids_path, verbose=False)\n",
      "C:\\Users\\couts\\AppData\\Local\\Temp\\ipykernel_5832\\325607674.py:6: RuntimeWarning: Did not find any events.tsv associated with sub-048_task-eyesclosed.\n",
      "\n",
      "The search_str was \"ds004504\\sub-048\\**\\eeg\\sub-048*events.tsv\"\n",
      "  raw = read_raw_bids(bids_path=bids_path, verbose=False)\n",
      " 55%|█████▍    | 48/88 [00:11<00:17,  2.25it/s]C:\\Users\\couts\\AppData\\Local\\Temp\\ipykernel_5832\\325607674.py:6: RuntimeWarning: Data will be preloaded. preload=False or a string preload is not supported when the data is stored in the .set file\n",
      "  raw = read_raw_bids(bids_path=bids_path, verbose=False)\n"
     ]
    },
    {
     "name": "stdout",
     "output_type": "stream",
     "text": [
      "Read sub-sub-048 raw EEG info\n"
     ]
    },
    {
     "name": "stderr",
     "output_type": "stream",
     "text": [
      "C:\\Users\\couts\\AppData\\Local\\Temp\\ipykernel_5832\\325607674.py:6: RuntimeWarning: Did not find any events.tsv associated with sub-049_task-eyesclosed.\n",
      "\n",
      "The search_str was \"ds004504\\sub-049\\**\\eeg\\sub-049*events.tsv\"\n",
      "  raw = read_raw_bids(bids_path=bids_path, verbose=False)\n",
      " 56%|█████▌    | 49/88 [00:12<00:15,  2.47it/s]C:\\Users\\couts\\AppData\\Local\\Temp\\ipykernel_5832\\325607674.py:6: RuntimeWarning: Data will be preloaded. preload=False or a string preload is not supported when the data is stored in the .set file\n",
      "  raw = read_raw_bids(bids_path=bids_path, verbose=False)\n"
     ]
    },
    {
     "name": "stdout",
     "output_type": "stream",
     "text": [
      "Read sub-sub-049 raw EEG info\n"
     ]
    },
    {
     "name": "stderr",
     "output_type": "stream",
     "text": [
      "C:\\Users\\couts\\AppData\\Local\\Temp\\ipykernel_5832\\325607674.py:6: RuntimeWarning: Did not find any events.tsv associated with sub-050_task-eyesclosed.\n",
      "\n",
      "The search_str was \"ds004504\\sub-050\\**\\eeg\\sub-050*events.tsv\"\n",
      "  raw = read_raw_bids(bids_path=bids_path, verbose=False)\n",
      " 57%|█████▋    | 50/88 [00:12<00:15,  2.41it/s]C:\\Users\\couts\\AppData\\Local\\Temp\\ipykernel_5832\\325607674.py:6: RuntimeWarning: Data will be preloaded. preload=False or a string preload is not supported when the data is stored in the .set file\n",
      "  raw = read_raw_bids(bids_path=bids_path, verbose=False)\n"
     ]
    },
    {
     "name": "stdout",
     "output_type": "stream",
     "text": [
      "Read sub-sub-050 raw EEG info\n"
     ]
    },
    {
     "name": "stderr",
     "output_type": "stream",
     "text": [
      "C:\\Users\\couts\\AppData\\Local\\Temp\\ipykernel_5832\\325607674.py:6: RuntimeWarning: Did not find any events.tsv associated with sub-051_task-eyesclosed.\n",
      "\n",
      "The search_str was \"ds004504\\sub-051\\**\\eeg\\sub-051*events.tsv\"\n",
      "  raw = read_raw_bids(bids_path=bids_path, verbose=False)\n",
      " 58%|█████▊    | 51/88 [00:13<00:14,  2.48it/s]C:\\Users\\couts\\AppData\\Local\\Temp\\ipykernel_5832\\325607674.py:6: RuntimeWarning: Data will be preloaded. preload=False or a string preload is not supported when the data is stored in the .set file\n",
      "  raw = read_raw_bids(bids_path=bids_path, verbose=False)\n"
     ]
    },
    {
     "name": "stdout",
     "output_type": "stream",
     "text": [
      "Read sub-sub-051 raw EEG info\n"
     ]
    },
    {
     "name": "stderr",
     "output_type": "stream",
     "text": [
      "C:\\Users\\couts\\AppData\\Local\\Temp\\ipykernel_5832\\325607674.py:6: RuntimeWarning: Did not find any events.tsv associated with sub-052_task-eyesclosed.\n",
      "\n",
      "The search_str was \"ds004504\\sub-052\\**\\eeg\\sub-052*events.tsv\"\n",
      "  raw = read_raw_bids(bids_path=bids_path, verbose=False)\n",
      " 59%|█████▉    | 52/88 [00:13<00:13,  2.71it/s]C:\\Users\\couts\\AppData\\Local\\Temp\\ipykernel_5832\\325607674.py:6: RuntimeWarning: Data will be preloaded. preload=False or a string preload is not supported when the data is stored in the .set file\n",
      "  raw = read_raw_bids(bids_path=bids_path, verbose=False)\n"
     ]
    },
    {
     "name": "stdout",
     "output_type": "stream",
     "text": [
      "Read sub-sub-052 raw EEG info\n"
     ]
    },
    {
     "name": "stderr",
     "output_type": "stream",
     "text": [
      "C:\\Users\\couts\\AppData\\Local\\Temp\\ipykernel_5832\\325607674.py:6: RuntimeWarning: Did not find any events.tsv associated with sub-053_task-eyesclosed.\n",
      "\n",
      "The search_str was \"ds004504\\sub-053\\**\\eeg\\sub-053*events.tsv\"\n",
      "  raw = read_raw_bids(bids_path=bids_path, verbose=False)\n",
      " 60%|██████    | 53/88 [00:13<00:12,  2.85it/s]C:\\Users\\couts\\AppData\\Local\\Temp\\ipykernel_5832\\325607674.py:6: RuntimeWarning: Data will be preloaded. preload=False or a string preload is not supported when the data is stored in the .set file\n",
      "  raw = read_raw_bids(bids_path=bids_path, verbose=False)\n"
     ]
    },
    {
     "name": "stdout",
     "output_type": "stream",
     "text": [
      "Read sub-sub-053 raw EEG info\n"
     ]
    },
    {
     "name": "stderr",
     "output_type": "stream",
     "text": [
      "C:\\Users\\couts\\AppData\\Local\\Temp\\ipykernel_5832\\325607674.py:6: RuntimeWarning: Did not find any events.tsv associated with sub-054_task-eyesclosed.\n",
      "\n",
      "The search_str was \"ds004504\\sub-054\\**\\eeg\\sub-054*events.tsv\"\n",
      "  raw = read_raw_bids(bids_path=bids_path, verbose=False)\n",
      " 61%|██████▏   | 54/88 [00:14<00:11,  2.89it/s]C:\\Users\\couts\\AppData\\Local\\Temp\\ipykernel_5832\\325607674.py:6: RuntimeWarning: Data will be preloaded. preload=False or a string preload is not supported when the data is stored in the .set file\n",
      "  raw = read_raw_bids(bids_path=bids_path, verbose=False)\n"
     ]
    },
    {
     "name": "stdout",
     "output_type": "stream",
     "text": [
      "Read sub-sub-054 raw EEG info\n"
     ]
    },
    {
     "name": "stderr",
     "output_type": "stream",
     "text": [
      "C:\\Users\\couts\\AppData\\Local\\Temp\\ipykernel_5832\\325607674.py:6: RuntimeWarning: Did not find any events.tsv associated with sub-055_task-eyesclosed.\n",
      "\n",
      "The search_str was \"ds004504\\sub-055\\**\\eeg\\sub-055*events.tsv\"\n",
      "  raw = read_raw_bids(bids_path=bids_path, verbose=False)\n",
      " 62%|██████▎   | 55/88 [00:14<00:10,  3.17it/s]C:\\Users\\couts\\AppData\\Local\\Temp\\ipykernel_5832\\325607674.py:6: RuntimeWarning: Data will be preloaded. preload=False or a string preload is not supported when the data is stored in the .set file\n",
      "  raw = read_raw_bids(bids_path=bids_path, verbose=False)\n"
     ]
    },
    {
     "name": "stdout",
     "output_type": "stream",
     "text": [
      "Read sub-sub-055 raw EEG info\n"
     ]
    },
    {
     "name": "stderr",
     "output_type": "stream",
     "text": [
      "C:\\Users\\couts\\AppData\\Local\\Temp\\ipykernel_5832\\325607674.py:6: RuntimeWarning: Did not find any events.tsv associated with sub-056_task-eyesclosed.\n",
      "\n",
      "The search_str was \"ds004504\\sub-056\\**\\eeg\\sub-056*events.tsv\"\n",
      "  raw = read_raw_bids(bids_path=bids_path, verbose=False)\n",
      " 64%|██████▎   | 56/88 [00:14<00:11,  2.70it/s]C:\\Users\\couts\\AppData\\Local\\Temp\\ipykernel_5832\\325607674.py:6: RuntimeWarning: Data will be preloaded. preload=False or a string preload is not supported when the data is stored in the .set file\n",
      "  raw = read_raw_bids(bids_path=bids_path, verbose=False)\n"
     ]
    },
    {
     "name": "stdout",
     "output_type": "stream",
     "text": [
      "Read sub-sub-056 raw EEG info\n"
     ]
    },
    {
     "name": "stderr",
     "output_type": "stream",
     "text": [
      "C:\\Users\\couts\\AppData\\Local\\Temp\\ipykernel_5832\\325607674.py:6: RuntimeWarning: Did not find any events.tsv associated with sub-057_task-eyesclosed.\n",
      "\n",
      "The search_str was \"ds004504\\sub-057\\**\\eeg\\sub-057*events.tsv\"\n",
      "  raw = read_raw_bids(bids_path=bids_path, verbose=False)\n",
      " 65%|██████▍   | 57/88 [00:15<00:10,  2.97it/s]C:\\Users\\couts\\AppData\\Local\\Temp\\ipykernel_5832\\325607674.py:6: RuntimeWarning: Data will be preloaded. preload=False or a string preload is not supported when the data is stored in the .set file\n",
      "  raw = read_raw_bids(bids_path=bids_path, verbose=False)\n"
     ]
    },
    {
     "name": "stdout",
     "output_type": "stream",
     "text": [
      "Read sub-sub-057 raw EEG info\n"
     ]
    },
    {
     "name": "stderr",
     "output_type": "stream",
     "text": [
      "C:\\Users\\couts\\AppData\\Local\\Temp\\ipykernel_5832\\325607674.py:6: RuntimeWarning: Did not find any events.tsv associated with sub-058_task-eyesclosed.\n",
      "\n",
      "The search_str was \"ds004504\\sub-058\\**\\eeg\\sub-058*events.tsv\"\n",
      "  raw = read_raw_bids(bids_path=bids_path, verbose=False)\n",
      " 66%|██████▌   | 58/88 [00:15<00:09,  3.30it/s]C:\\Users\\couts\\AppData\\Local\\Temp\\ipykernel_5832\\325607674.py:6: RuntimeWarning: Data will be preloaded. preload=False or a string preload is not supported when the data is stored in the .set file\n",
      "  raw = read_raw_bids(bids_path=bids_path, verbose=False)\n"
     ]
    },
    {
     "name": "stdout",
     "output_type": "stream",
     "text": [
      "Read sub-sub-058 raw EEG info\n"
     ]
    },
    {
     "name": "stderr",
     "output_type": "stream",
     "text": [
      "C:\\Users\\couts\\AppData\\Local\\Temp\\ipykernel_5832\\325607674.py:6: RuntimeWarning: Did not find any events.tsv associated with sub-059_task-eyesclosed.\n",
      "\n",
      "The search_str was \"ds004504\\sub-059\\**\\eeg\\sub-059*events.tsv\"\n",
      "  raw = read_raw_bids(bids_path=bids_path, verbose=False)\n",
      " 67%|██████▋   | 59/88 [00:15<00:08,  3.48it/s]C:\\Users\\couts\\AppData\\Local\\Temp\\ipykernel_5832\\325607674.py:6: RuntimeWarning: Data will be preloaded. preload=False or a string preload is not supported when the data is stored in the .set file\n",
      "  raw = read_raw_bids(bids_path=bids_path, verbose=False)\n"
     ]
    },
    {
     "name": "stdout",
     "output_type": "stream",
     "text": [
      "Read sub-sub-059 raw EEG info\n"
     ]
    },
    {
     "name": "stderr",
     "output_type": "stream",
     "text": [
      "C:\\Users\\couts\\AppData\\Local\\Temp\\ipykernel_5832\\325607674.py:6: RuntimeWarning: Did not find any events.tsv associated with sub-060_task-eyesclosed.\n",
      "\n",
      "The search_str was \"ds004504\\sub-060\\**\\eeg\\sub-060*events.tsv\"\n",
      "  raw = read_raw_bids(bids_path=bids_path, verbose=False)\n",
      " 68%|██████▊   | 60/88 [00:15<00:07,  3.67it/s]C:\\Users\\couts\\AppData\\Local\\Temp\\ipykernel_5832\\325607674.py:6: RuntimeWarning: Data will be preloaded. preload=False or a string preload is not supported when the data is stored in the .set file\n",
      "  raw = read_raw_bids(bids_path=bids_path, verbose=False)\n"
     ]
    },
    {
     "name": "stdout",
     "output_type": "stream",
     "text": [
      "Read sub-sub-060 raw EEG info\n"
     ]
    },
    {
     "name": "stderr",
     "output_type": "stream",
     "text": [
      "C:\\Users\\couts\\AppData\\Local\\Temp\\ipykernel_5832\\325607674.py:6: RuntimeWarning: Did not find any events.tsv associated with sub-061_task-eyesclosed.\n",
      "\n",
      "The search_str was \"ds004504\\sub-061\\**\\eeg\\sub-061*events.tsv\"\n",
      "  raw = read_raw_bids(bids_path=bids_path, verbose=False)\n",
      " 69%|██████▉   | 61/88 [00:16<00:07,  3.47it/s]C:\\Users\\couts\\AppData\\Local\\Temp\\ipykernel_5832\\325607674.py:6: RuntimeWarning: Data will be preloaded. preload=False or a string preload is not supported when the data is stored in the .set file\n",
      "  raw = read_raw_bids(bids_path=bids_path, verbose=False)\n"
     ]
    },
    {
     "name": "stdout",
     "output_type": "stream",
     "text": [
      "Read sub-sub-061 raw EEG info\n"
     ]
    },
    {
     "name": "stderr",
     "output_type": "stream",
     "text": [
      "C:\\Users\\couts\\AppData\\Local\\Temp\\ipykernel_5832\\325607674.py:6: RuntimeWarning: Did not find any events.tsv associated with sub-062_task-eyesclosed.\n",
      "\n",
      "The search_str was \"ds004504\\sub-062\\**\\eeg\\sub-062*events.tsv\"\n",
      "  raw = read_raw_bids(bids_path=bids_path, verbose=False)\n",
      " 70%|███████   | 62/88 [00:16<00:07,  3.41it/s]C:\\Users\\couts\\AppData\\Local\\Temp\\ipykernel_5832\\325607674.py:6: RuntimeWarning: Data will be preloaded. preload=False or a string preload is not supported when the data is stored in the .set file\n",
      "  raw = read_raw_bids(bids_path=bids_path, verbose=False)\n"
     ]
    },
    {
     "name": "stdout",
     "output_type": "stream",
     "text": [
      "Read sub-sub-062 raw EEG info\n"
     ]
    },
    {
     "name": "stderr",
     "output_type": "stream",
     "text": [
      "C:\\Users\\couts\\AppData\\Local\\Temp\\ipykernel_5832\\325607674.py:6: RuntimeWarning: Did not find any events.tsv associated with sub-063_task-eyesclosed.\n",
      "\n",
      "The search_str was \"ds004504\\sub-063\\**\\eeg\\sub-063*events.tsv\"\n",
      "  raw = read_raw_bids(bids_path=bids_path, verbose=False)\n",
      " 72%|███████▏  | 63/88 [00:16<00:07,  3.35it/s]C:\\Users\\couts\\AppData\\Local\\Temp\\ipykernel_5832\\325607674.py:6: RuntimeWarning: Data will be preloaded. preload=False or a string preload is not supported when the data is stored in the .set file\n",
      "  raw = read_raw_bids(bids_path=bids_path, verbose=False)\n"
     ]
    },
    {
     "name": "stdout",
     "output_type": "stream",
     "text": [
      "Read sub-sub-063 raw EEG info\n"
     ]
    },
    {
     "name": "stderr",
     "output_type": "stream",
     "text": [
      "C:\\Users\\couts\\AppData\\Local\\Temp\\ipykernel_5832\\325607674.py:6: RuntimeWarning: Did not find any events.tsv associated with sub-064_task-eyesclosed.\n",
      "\n",
      "The search_str was \"ds004504\\sub-064\\**\\eeg\\sub-064*events.tsv\"\n",
      "  raw = read_raw_bids(bids_path=bids_path, verbose=False)\n",
      " 73%|███████▎  | 64/88 [00:17<00:07,  3.13it/s]C:\\Users\\couts\\AppData\\Local\\Temp\\ipykernel_5832\\325607674.py:6: RuntimeWarning: Data will be preloaded. preload=False or a string preload is not supported when the data is stored in the .set file\n",
      "  raw = read_raw_bids(bids_path=bids_path, verbose=False)\n"
     ]
    },
    {
     "name": "stdout",
     "output_type": "stream",
     "text": [
      "Read sub-sub-064 raw EEG info\n"
     ]
    },
    {
     "name": "stderr",
     "output_type": "stream",
     "text": [
      "C:\\Users\\couts\\AppData\\Local\\Temp\\ipykernel_5832\\325607674.py:6: RuntimeWarning: Did not find any events.tsv associated with sub-065_task-eyesclosed.\n",
      "\n",
      "The search_str was \"ds004504\\sub-065\\**\\eeg\\sub-065*events.tsv\"\n",
      "  raw = read_raw_bids(bids_path=bids_path, verbose=False)\n",
      " 74%|███████▍  | 65/88 [00:17<00:06,  3.29it/s]C:\\Users\\couts\\AppData\\Local\\Temp\\ipykernel_5832\\325607674.py:6: RuntimeWarning: Data will be preloaded. preload=False or a string preload is not supported when the data is stored in the .set file\n",
      "  raw = read_raw_bids(bids_path=bids_path, verbose=False)\n",
      "C:\\Users\\couts\\AppData\\Local\\Temp\\ipykernel_5832\\325607674.py:6: RuntimeWarning: Did not find any events.tsv associated with sub-066_task-eyesclosed.\n",
      "\n",
      "The search_str was \"ds004504\\sub-066\\**\\eeg\\sub-066*events.tsv\"\n",
      "  raw = read_raw_bids(bids_path=bids_path, verbose=False)\n"
     ]
    },
    {
     "name": "stdout",
     "output_type": "stream",
     "text": [
      "Read sub-sub-065 raw EEG info\n"
     ]
    },
    {
     "name": "stderr",
     "output_type": "stream",
     "text": [
      " 75%|███████▌  | 66/88 [00:17<00:06,  3.65it/s]"
     ]
    },
    {
     "name": "stdout",
     "output_type": "stream",
     "text": [
      "Read sub-sub-066 raw EEG info\n"
     ]
    },
    {
     "name": "stderr",
     "output_type": "stream",
     "text": [
      "C:\\Users\\couts\\AppData\\Local\\Temp\\ipykernel_5832\\325607674.py:6: RuntimeWarning: Data will be preloaded. preload=False or a string preload is not supported when the data is stored in the .set file\n",
      "  raw = read_raw_bids(bids_path=bids_path, verbose=False)\n",
      "C:\\Users\\couts\\AppData\\Local\\Temp\\ipykernel_5832\\325607674.py:6: RuntimeWarning: Did not find any events.tsv associated with sub-067_task-eyesclosed.\n",
      "\n",
      "The search_str was \"ds004504\\sub-067\\**\\eeg\\sub-067*events.tsv\"\n",
      "  raw = read_raw_bids(bids_path=bids_path, verbose=False)\n",
      " 76%|███████▌  | 67/88 [00:17<00:05,  3.52it/s]C:\\Users\\couts\\AppData\\Local\\Temp\\ipykernel_5832\\325607674.py:6: RuntimeWarning: Data will be preloaded. preload=False or a string preload is not supported when the data is stored in the .set file\n",
      "  raw = read_raw_bids(bids_path=bids_path, verbose=False)\n"
     ]
    },
    {
     "name": "stdout",
     "output_type": "stream",
     "text": [
      "Read sub-sub-067 raw EEG info\n"
     ]
    },
    {
     "name": "stderr",
     "output_type": "stream",
     "text": [
      "C:\\Users\\couts\\AppData\\Local\\Temp\\ipykernel_5832\\325607674.py:6: RuntimeWarning: Did not find any events.tsv associated with sub-068_task-eyesclosed.\n",
      "\n",
      "The search_str was \"ds004504\\sub-068\\**\\eeg\\sub-068*events.tsv\"\n",
      "  raw = read_raw_bids(bids_path=bids_path, verbose=False)\n",
      " 77%|███████▋  | 68/88 [00:18<00:05,  3.63it/s]C:\\Users\\couts\\AppData\\Local\\Temp\\ipykernel_5832\\325607674.py:6: RuntimeWarning: Data will be preloaded. preload=False or a string preload is not supported when the data is stored in the .set file\n",
      "  raw = read_raw_bids(bids_path=bids_path, verbose=False)\n"
     ]
    },
    {
     "name": "stdout",
     "output_type": "stream",
     "text": [
      "Read sub-sub-068 raw EEG info\n"
     ]
    },
    {
     "name": "stderr",
     "output_type": "stream",
     "text": [
      "C:\\Users\\couts\\AppData\\Local\\Temp\\ipykernel_5832\\325607674.py:6: RuntimeWarning: Did not find any events.tsv associated with sub-069_task-eyesclosed.\n",
      "\n",
      "The search_str was \"ds004504\\sub-069\\**\\eeg\\sub-069*events.tsv\"\n",
      "  raw = read_raw_bids(bids_path=bids_path, verbose=False)\n",
      " 78%|███████▊  | 69/88 [00:18<00:04,  3.84it/s]C:\\Users\\couts\\AppData\\Local\\Temp\\ipykernel_5832\\325607674.py:6: RuntimeWarning: Data will be preloaded. preload=False or a string preload is not supported when the data is stored in the .set file\n",
      "  raw = read_raw_bids(bids_path=bids_path, verbose=False)\n"
     ]
    },
    {
     "name": "stdout",
     "output_type": "stream",
     "text": [
      "Read sub-sub-069 raw EEG info\n"
     ]
    },
    {
     "name": "stderr",
     "output_type": "stream",
     "text": [
      "C:\\Users\\couts\\AppData\\Local\\Temp\\ipykernel_5832\\325607674.py:6: RuntimeWarning: Did not find any events.tsv associated with sub-070_task-eyesclosed.\n",
      "\n",
      "The search_str was \"ds004504\\sub-070\\**\\eeg\\sub-070*events.tsv\"\n",
      "  raw = read_raw_bids(bids_path=bids_path, verbose=False)\n",
      " 80%|███████▉  | 70/88 [00:18<00:04,  3.99it/s]C:\\Users\\couts\\AppData\\Local\\Temp\\ipykernel_5832\\325607674.py:6: RuntimeWarning: Data will be preloaded. preload=False or a string preload is not supported when the data is stored in the .set file\n",
      "  raw = read_raw_bids(bids_path=bids_path, verbose=False)\n"
     ]
    },
    {
     "name": "stdout",
     "output_type": "stream",
     "text": [
      "Read sub-sub-070 raw EEG info\n"
     ]
    },
    {
     "name": "stderr",
     "output_type": "stream",
     "text": [
      "C:\\Users\\couts\\AppData\\Local\\Temp\\ipykernel_5832\\325607674.py:6: RuntimeWarning: Did not find any events.tsv associated with sub-071_task-eyesclosed.\n",
      "\n",
      "The search_str was \"ds004504\\sub-071\\**\\eeg\\sub-071*events.tsv\"\n",
      "  raw = read_raw_bids(bids_path=bids_path, verbose=False)\n",
      " 81%|████████  | 71/88 [00:18<00:04,  3.78it/s]C:\\Users\\couts\\AppData\\Local\\Temp\\ipykernel_5832\\325607674.py:6: RuntimeWarning: Data will be preloaded. preload=False or a string preload is not supported when the data is stored in the .set file\n",
      "  raw = read_raw_bids(bids_path=bids_path, verbose=False)\n"
     ]
    },
    {
     "name": "stdout",
     "output_type": "stream",
     "text": [
      "Read sub-sub-071 raw EEG info\n"
     ]
    },
    {
     "name": "stderr",
     "output_type": "stream",
     "text": [
      "C:\\Users\\couts\\AppData\\Local\\Temp\\ipykernel_5832\\325607674.py:6: RuntimeWarning: Did not find any events.tsv associated with sub-072_task-eyesclosed.\n",
      "\n",
      "The search_str was \"ds004504\\sub-072\\**\\eeg\\sub-072*events.tsv\"\n",
      "  raw = read_raw_bids(bids_path=bids_path, verbose=False)\n",
      " 82%|████████▏ | 72/88 [00:19<00:04,  3.89it/s]C:\\Users\\couts\\AppData\\Local\\Temp\\ipykernel_5832\\325607674.py:6: RuntimeWarning: Data will be preloaded. preload=False or a string preload is not supported when the data is stored in the .set file\n",
      "  raw = read_raw_bids(bids_path=bids_path, verbose=False)\n"
     ]
    },
    {
     "name": "stdout",
     "output_type": "stream",
     "text": [
      "Read sub-sub-072 raw EEG info\n"
     ]
    },
    {
     "name": "stderr",
     "output_type": "stream",
     "text": [
      "C:\\Users\\couts\\AppData\\Local\\Temp\\ipykernel_5832\\325607674.py:6: RuntimeWarning: Did not find any events.tsv associated with sub-073_task-eyesclosed.\n",
      "\n",
      "The search_str was \"ds004504\\sub-073\\**\\eeg\\sub-073*events.tsv\"\n",
      "  raw = read_raw_bids(bids_path=bids_path, verbose=False)\n",
      " 83%|████████▎ | 73/88 [00:19<00:03,  3.85it/s]C:\\Users\\couts\\AppData\\Local\\Temp\\ipykernel_5832\\325607674.py:6: RuntimeWarning: Data will be preloaded. preload=False or a string preload is not supported when the data is stored in the .set file\n",
      "  raw = read_raw_bids(bids_path=bids_path, verbose=False)\n"
     ]
    },
    {
     "name": "stdout",
     "output_type": "stream",
     "text": [
      "Read sub-sub-073 raw EEG info\n"
     ]
    },
    {
     "name": "stderr",
     "output_type": "stream",
     "text": [
      "C:\\Users\\couts\\AppData\\Local\\Temp\\ipykernel_5832\\325607674.py:6: RuntimeWarning: Did not find any events.tsv associated with sub-074_task-eyesclosed.\n",
      "\n",
      "The search_str was \"ds004504\\sub-074\\**\\eeg\\sub-074*events.tsv\"\n",
      "  raw = read_raw_bids(bids_path=bids_path, verbose=False)\n",
      " 84%|████████▍ | 74/88 [00:19<00:05,  2.72it/s]C:\\Users\\couts\\AppData\\Local\\Temp\\ipykernel_5832\\325607674.py:6: RuntimeWarning: Data will be preloaded. preload=False or a string preload is not supported when the data is stored in the .set file\n",
      "  raw = read_raw_bids(bids_path=bids_path, verbose=False)\n"
     ]
    },
    {
     "name": "stdout",
     "output_type": "stream",
     "text": [
      "Read sub-sub-074 raw EEG info\n"
     ]
    },
    {
     "name": "stderr",
     "output_type": "stream",
     "text": [
      "C:\\Users\\couts\\AppData\\Local\\Temp\\ipykernel_5832\\325607674.py:6: RuntimeWarning: Did not find any events.tsv associated with sub-075_task-eyesclosed.\n",
      "\n",
      "The search_str was \"ds004504\\sub-075\\**\\eeg\\sub-075*events.tsv\"\n",
      "  raw = read_raw_bids(bids_path=bids_path, verbose=False)\n",
      " 85%|████████▌ | 75/88 [00:20<00:04,  3.06it/s]C:\\Users\\couts\\AppData\\Local\\Temp\\ipykernel_5832\\325607674.py:6: RuntimeWarning: Data will be preloaded. preload=False or a string preload is not supported when the data is stored in the .set file\n",
      "  raw = read_raw_bids(bids_path=bids_path, verbose=False)\n"
     ]
    },
    {
     "name": "stdout",
     "output_type": "stream",
     "text": [
      "Read sub-sub-075 raw EEG info\n"
     ]
    },
    {
     "name": "stderr",
     "output_type": "stream",
     "text": [
      "C:\\Users\\couts\\AppData\\Local\\Temp\\ipykernel_5832\\325607674.py:6: RuntimeWarning: Did not find any events.tsv associated with sub-076_task-eyesclosed.\n",
      "\n",
      "The search_str was \"ds004504\\sub-076\\**\\eeg\\sub-076*events.tsv\"\n",
      "  raw = read_raw_bids(bids_path=bids_path, verbose=False)\n",
      " 86%|████████▋ | 76/88 [00:20<00:04,  2.95it/s]C:\\Users\\couts\\AppData\\Local\\Temp\\ipykernel_5832\\325607674.py:6: RuntimeWarning: Data will be preloaded. preload=False or a string preload is not supported when the data is stored in the .set file\n",
      "  raw = read_raw_bids(bids_path=bids_path, verbose=False)\n"
     ]
    },
    {
     "name": "stdout",
     "output_type": "stream",
     "text": [
      "Read sub-sub-076 raw EEG info\n"
     ]
    },
    {
     "name": "stderr",
     "output_type": "stream",
     "text": [
      "C:\\Users\\couts\\AppData\\Local\\Temp\\ipykernel_5832\\325607674.py:6: RuntimeWarning: Did not find any events.tsv associated with sub-077_task-eyesclosed.\n",
      "\n",
      "The search_str was \"ds004504\\sub-077\\**\\eeg\\sub-077*events.tsv\"\n",
      "  raw = read_raw_bids(bids_path=bids_path, verbose=False)\n",
      " 88%|████████▊ | 77/88 [00:20<00:03,  3.06it/s]C:\\Users\\couts\\AppData\\Local\\Temp\\ipykernel_5832\\325607674.py:6: RuntimeWarning: Data will be preloaded. preload=False or a string preload is not supported when the data is stored in the .set file\n",
      "  raw = read_raw_bids(bids_path=bids_path, verbose=False)\n"
     ]
    },
    {
     "name": "stdout",
     "output_type": "stream",
     "text": [
      "Read sub-sub-077 raw EEG info\n"
     ]
    },
    {
     "name": "stderr",
     "output_type": "stream",
     "text": [
      "C:\\Users\\couts\\AppData\\Local\\Temp\\ipykernel_5832\\325607674.py:6: RuntimeWarning: Did not find any events.tsv associated with sub-078_task-eyesclosed.\n",
      "\n",
      "The search_str was \"ds004504\\sub-078\\**\\eeg\\sub-078*events.tsv\"\n",
      "  raw = read_raw_bids(bids_path=bids_path, verbose=False)\n",
      " 89%|████████▊ | 78/88 [00:21<00:03,  3.06it/s]C:\\Users\\couts\\AppData\\Local\\Temp\\ipykernel_5832\\325607674.py:6: RuntimeWarning: Data will be preloaded. preload=False or a string preload is not supported when the data is stored in the .set file\n",
      "  raw = read_raw_bids(bids_path=bids_path, verbose=False)\n"
     ]
    },
    {
     "name": "stdout",
     "output_type": "stream",
     "text": [
      "Read sub-sub-078 raw EEG info\n"
     ]
    },
    {
     "name": "stderr",
     "output_type": "stream",
     "text": [
      "C:\\Users\\couts\\AppData\\Local\\Temp\\ipykernel_5832\\325607674.py:6: RuntimeWarning: Did not find any events.tsv associated with sub-079_task-eyesclosed.\n",
      "\n",
      "The search_str was \"ds004504\\sub-079\\**\\eeg\\sub-079*events.tsv\"\n",
      "  raw = read_raw_bids(bids_path=bids_path, verbose=False)\n",
      " 90%|████████▉ | 79/88 [00:21<00:02,  3.33it/s]C:\\Users\\couts\\AppData\\Local\\Temp\\ipykernel_5832\\325607674.py:6: RuntimeWarning: Data will be preloaded. preload=False or a string preload is not supported when the data is stored in the .set file\n",
      "  raw = read_raw_bids(bids_path=bids_path, verbose=False)\n"
     ]
    },
    {
     "name": "stdout",
     "output_type": "stream",
     "text": [
      "Read sub-sub-079 raw EEG info\n"
     ]
    },
    {
     "name": "stderr",
     "output_type": "stream",
     "text": [
      "C:\\Users\\couts\\AppData\\Local\\Temp\\ipykernel_5832\\325607674.py:6: RuntimeWarning: Did not find any events.tsv associated with sub-080_task-eyesclosed.\n",
      "\n",
      "The search_str was \"ds004504\\sub-080\\**\\eeg\\sub-080*events.tsv\"\n",
      "  raw = read_raw_bids(bids_path=bids_path, verbose=False)\n",
      " 91%|█████████ | 80/88 [00:21<00:02,  3.36it/s]C:\\Users\\couts\\AppData\\Local\\Temp\\ipykernel_5832\\325607674.py:6: RuntimeWarning: Data will be preloaded. preload=False or a string preload is not supported when the data is stored in the .set file\n",
      "  raw = read_raw_bids(bids_path=bids_path, verbose=False)\n"
     ]
    },
    {
     "name": "stdout",
     "output_type": "stream",
     "text": [
      "Read sub-sub-080 raw EEG info\n"
     ]
    },
    {
     "name": "stderr",
     "output_type": "stream",
     "text": [
      "C:\\Users\\couts\\AppData\\Local\\Temp\\ipykernel_5832\\325607674.py:6: RuntimeWarning: Did not find any events.tsv associated with sub-081_task-eyesclosed.\n",
      "\n",
      "The search_str was \"ds004504\\sub-081\\**\\eeg\\sub-081*events.tsv\"\n",
      "  raw = read_raw_bids(bids_path=bids_path, verbose=False)\n",
      " 92%|█████████▏| 81/88 [00:22<00:02,  3.30it/s]C:\\Users\\couts\\AppData\\Local\\Temp\\ipykernel_5832\\325607674.py:6: RuntimeWarning: Data will be preloaded. preload=False or a string preload is not supported when the data is stored in the .set file\n",
      "  raw = read_raw_bids(bids_path=bids_path, verbose=False)\n"
     ]
    },
    {
     "name": "stdout",
     "output_type": "stream",
     "text": [
      "Read sub-sub-081 raw EEG info\n"
     ]
    },
    {
     "name": "stderr",
     "output_type": "stream",
     "text": [
      "C:\\Users\\couts\\AppData\\Local\\Temp\\ipykernel_5832\\325607674.py:6: RuntimeWarning: Did not find any events.tsv associated with sub-082_task-eyesclosed.\n",
      "\n",
      "The search_str was \"ds004504\\sub-082\\**\\eeg\\sub-082*events.tsv\"\n",
      "  raw = read_raw_bids(bids_path=bids_path, verbose=False)\n",
      " 93%|█████████▎| 82/88 [00:22<00:01,  3.21it/s]C:\\Users\\couts\\AppData\\Local\\Temp\\ipykernel_5832\\325607674.py:6: RuntimeWarning: Data will be preloaded. preload=False or a string preload is not supported when the data is stored in the .set file\n",
      "  raw = read_raw_bids(bids_path=bids_path, verbose=False)\n"
     ]
    },
    {
     "name": "stdout",
     "output_type": "stream",
     "text": [
      "Read sub-sub-082 raw EEG info\n"
     ]
    },
    {
     "name": "stderr",
     "output_type": "stream",
     "text": [
      "C:\\Users\\couts\\AppData\\Local\\Temp\\ipykernel_5832\\325607674.py:6: RuntimeWarning: Did not find any events.tsv associated with sub-083_task-eyesclosed.\n",
      "\n",
      "The search_str was \"ds004504\\sub-083\\**\\eeg\\sub-083*events.tsv\"\n",
      "  raw = read_raw_bids(bids_path=bids_path, verbose=False)\n",
      " 94%|█████████▍| 83/88 [00:22<00:01,  3.30it/s]C:\\Users\\couts\\AppData\\Local\\Temp\\ipykernel_5832\\325607674.py:6: RuntimeWarning: Data will be preloaded. preload=False or a string preload is not supported when the data is stored in the .set file\n",
      "  raw = read_raw_bids(bids_path=bids_path, verbose=False)\n"
     ]
    },
    {
     "name": "stdout",
     "output_type": "stream",
     "text": [
      "Read sub-sub-083 raw EEG info\n"
     ]
    },
    {
     "name": "stderr",
     "output_type": "stream",
     "text": [
      "C:\\Users\\couts\\AppData\\Local\\Temp\\ipykernel_5832\\325607674.py:6: RuntimeWarning: Did not find any events.tsv associated with sub-084_task-eyesclosed.\n",
      "\n",
      "The search_str was \"ds004504\\sub-084\\**\\eeg\\sub-084*events.tsv\"\n",
      "  raw = read_raw_bids(bids_path=bids_path, verbose=False)\n",
      " 95%|█████████▌| 84/88 [00:22<00:01,  3.64it/s]C:\\Users\\couts\\AppData\\Local\\Temp\\ipykernel_5832\\325607674.py:6: RuntimeWarning: Data will be preloaded. preload=False or a string preload is not supported when the data is stored in the .set file\n",
      "  raw = read_raw_bids(bids_path=bids_path, verbose=False)\n",
      "C:\\Users\\couts\\AppData\\Local\\Temp\\ipykernel_5832\\325607674.py:6: RuntimeWarning: Did not find any events.tsv associated with sub-085_task-eyesclosed.\n",
      "\n",
      "The search_str was \"ds004504\\sub-085\\**\\eeg\\sub-085*events.tsv\"\n",
      "  raw = read_raw_bids(bids_path=bids_path, verbose=False)\n"
     ]
    },
    {
     "name": "stdout",
     "output_type": "stream",
     "text": [
      "Read sub-sub-084 raw EEG info\n"
     ]
    },
    {
     "name": "stderr",
     "output_type": "stream",
     "text": [
      " 97%|█████████▋| 85/88 [00:23<00:00,  3.92it/s]C:\\Users\\couts\\AppData\\Local\\Temp\\ipykernel_5832\\325607674.py:6: RuntimeWarning: Data will be preloaded. preload=False or a string preload is not supported when the data is stored in the .set file\n",
      "  raw = read_raw_bids(bids_path=bids_path, verbose=False)\n"
     ]
    },
    {
     "name": "stdout",
     "output_type": "stream",
     "text": [
      "Read sub-sub-085 raw EEG info\n"
     ]
    },
    {
     "name": "stderr",
     "output_type": "stream",
     "text": [
      "C:\\Users\\couts\\AppData\\Local\\Temp\\ipykernel_5832\\325607674.py:6: RuntimeWarning: Did not find any events.tsv associated with sub-086_task-eyesclosed.\n",
      "\n",
      "The search_str was \"ds004504\\sub-086\\**\\eeg\\sub-086*events.tsv\"\n",
      "  raw = read_raw_bids(bids_path=bids_path, verbose=False)\n",
      " 98%|█████████▊| 86/88 [00:23<00:00,  4.14it/s]C:\\Users\\couts\\AppData\\Local\\Temp\\ipykernel_5832\\325607674.py:6: RuntimeWarning: Data will be preloaded. preload=False or a string preload is not supported when the data is stored in the .set file\n",
      "  raw = read_raw_bids(bids_path=bids_path, verbose=False)\n",
      "C:\\Users\\couts\\AppData\\Local\\Temp\\ipykernel_5832\\325607674.py:6: RuntimeWarning: Did not find any events.tsv associated with sub-087_task-eyesclosed.\n",
      "\n",
      "The search_str was \"ds004504\\sub-087\\**\\eeg\\sub-087*events.tsv\"\n",
      "  raw = read_raw_bids(bids_path=bids_path, verbose=False)\n",
      " 99%|█████████▉| 87/88 [00:23<00:00,  4.51it/s]"
     ]
    },
    {
     "name": "stdout",
     "output_type": "stream",
     "text": [
      "Read sub-sub-086 raw EEG info\n",
      "Read sub-sub-087 raw EEG info\n"
     ]
    },
    {
     "name": "stderr",
     "output_type": "stream",
     "text": [
      "C:\\Users\\couts\\AppData\\Local\\Temp\\ipykernel_5832\\325607674.py:6: RuntimeWarning: Data will be preloaded. preload=False or a string preload is not supported when the data is stored in the .set file\n",
      "  raw = read_raw_bids(bids_path=bids_path, verbose=False)\n",
      "C:\\Users\\couts\\AppData\\Local\\Temp\\ipykernel_5832\\325607674.py:6: RuntimeWarning: Did not find any events.tsv associated with sub-088_task-eyesclosed.\n",
      "\n",
      "The search_str was \"ds004504\\sub-088\\**\\eeg\\sub-088*events.tsv\"\n",
      "  raw = read_raw_bids(bids_path=bids_path, verbose=False)\n",
      "100%|██████████| 88/88 [00:23<00:00,  3.71it/s]"
     ]
    },
    {
     "name": "stdout",
     "output_type": "stream",
     "text": [
      "Read sub-sub-088 raw EEG info\n"
     ]
    },
    {
     "name": "stderr",
     "output_type": "stream",
     "text": [
      "\n"
     ]
    }
   ],
   "source": [
    "print(f\"Found {patients.shape[0]} patients...\")\n",
    "raws = []\n",
    "\n",
    "for sub in tqdm(patients['participant_id']):\n",
    "    bids_path = get_bids_path(\"ds004504\", sub.replace(\"sub-\", \"\"))\n",
    "    raw = read_raw_bids(bids_path=bids_path, verbose=False)\n",
    "    raws.append(raw)\n",
    "    print(f\"Read sub-{sub} raw EEG info\")"
   ]
  },
  {
   "cell_type": "code",
   "execution_count": 9,
   "metadata": {},
   "outputs": [],
   "source": [
    "def split_into_freq_bands(raw: mne.io.Raw):\n",
    "    iter_freqs = [(\"delta\", 1, 3), (\"theta\", 4, 7), (\"gamma\", 30, 100), (\"beta\", 13, 30), (\"alpha\", 8, 12)]\n",
    "    freq_map = []\n",
    "    gfp_band_max = []\n",
    "\n",
    "    for band, l_freq, h_freq in iter_freqs:\n",
    "        raw_copy = raw.copy()\n",
    "\n",
    "        filtered = raw_copy.filter(l_freq, h_freq, l_trans_bandwidth=1, h_trans_bandwidth=1, verbose=False)\n",
    "        freq_map.append(((band, l_freq, h_freq), filtered))\n",
    "\n",
    "    for (band, l_freq, h_freq), raw in freq_map:\n",
    "        times = raw[:, :][1] * 1e3 # Convert to ms\n",
    "        gfp = np.sum(raw[:, :][0] ** 2, axis=0)\n",
    "        gfp = mne.baseline.rescale(gfp, times, baseline=(None, 0), verbose=False)\n",
    "\n",
    "        gfp_band_max.append((band, np.max(gfp).astype('float64')))\n",
    "\n",
    "    return gfp_band_max"
   ]
  },
  {
   "cell_type": "code",
   "execution_count": 10,
   "metadata": {},
   "outputs": [
    {
     "name": "stderr",
     "output_type": "stream",
     "text": [
      "88it [02:23,  1.63s/it]\n"
     ]
    },
    {
     "data": {
      "text/html": [
       "<div>\n",
       "<style scoped>\n",
       "    .dataframe tbody tr th:only-of-type {\n",
       "        vertical-align: middle;\n",
       "    }\n",
       "\n",
       "    .dataframe tbody tr th {\n",
       "        vertical-align: top;\n",
       "    }\n",
       "\n",
       "    .dataframe thead th {\n",
       "        text-align: right;\n",
       "    }\n",
       "</style>\n",
       "<table border=\"1\" class=\"dataframe\">\n",
       "  <thead>\n",
       "    <tr style=\"text-align: right;\">\n",
       "      <th></th>\n",
       "      <th>participant_id</th>\n",
       "      <th>Gender</th>\n",
       "      <th>Age</th>\n",
       "      <th>Group</th>\n",
       "      <th>MMSE</th>\n",
       "      <th>alpha</th>\n",
       "      <th>beta</th>\n",
       "      <th>gamma</th>\n",
       "      <th>theta</th>\n",
       "      <th>delta</th>\n",
       "      <th>max_freq_band</th>\n",
       "    </tr>\n",
       "  </thead>\n",
       "  <tbody>\n",
       "    <tr>\n",
       "      <th>0</th>\n",
       "      <td>sub-001</td>\n",
       "      <td>F</td>\n",
       "      <td>57</td>\n",
       "      <td>A</td>\n",
       "      <td>16</td>\n",
       "      <td>4.487562e-09</td>\n",
       "      <td>8.151255e-09</td>\n",
       "      <td>3.232289e-08</td>\n",
       "      <td>1.807745e-08</td>\n",
       "      <td>1.829355e-07</td>\n",
       "      <td>delta</td>\n",
       "    </tr>\n",
       "    <tr>\n",
       "      <th>1</th>\n",
       "      <td>sub-002</td>\n",
       "      <td>F</td>\n",
       "      <td>78</td>\n",
       "      <td>A</td>\n",
       "      <td>22</td>\n",
       "      <td>6.760981e-09</td>\n",
       "      <td>9.113942e-08</td>\n",
       "      <td>4.419606e-07</td>\n",
       "      <td>1.837055e-08</td>\n",
       "      <td>1.923307e-07</td>\n",
       "      <td>gamma</td>\n",
       "    </tr>\n",
       "    <tr>\n",
       "      <th>2</th>\n",
       "      <td>sub-003</td>\n",
       "      <td>M</td>\n",
       "      <td>70</td>\n",
       "      <td>A</td>\n",
       "      <td>14</td>\n",
       "      <td>6.869602e-09</td>\n",
       "      <td>3.701308e-09</td>\n",
       "      <td>1.263973e-08</td>\n",
       "      <td>1.718834e-08</td>\n",
       "      <td>1.345857e-07</td>\n",
       "      <td>delta</td>\n",
       "    </tr>\n",
       "    <tr>\n",
       "      <th>3</th>\n",
       "      <td>sub-004</td>\n",
       "      <td>F</td>\n",
       "      <td>67</td>\n",
       "      <td>A</td>\n",
       "      <td>20</td>\n",
       "      <td>5.240635e-09</td>\n",
       "      <td>1.678292e-07</td>\n",
       "      <td>4.503802e-07</td>\n",
       "      <td>3.691043e-08</td>\n",
       "      <td>2.171671e-06</td>\n",
       "      <td>delta</td>\n",
       "    </tr>\n",
       "    <tr>\n",
       "      <th>4</th>\n",
       "      <td>sub-005</td>\n",
       "      <td>M</td>\n",
       "      <td>70</td>\n",
       "      <td>A</td>\n",
       "      <td>22</td>\n",
       "      <td>1.503867e-07</td>\n",
       "      <td>1.952402e-07</td>\n",
       "      <td>7.413559e-07</td>\n",
       "      <td>3.448303e-07</td>\n",
       "      <td>9.152342e-07</td>\n",
       "      <td>delta</td>\n",
       "    </tr>\n",
       "    <tr>\n",
       "      <th>...</th>\n",
       "      <td>...</td>\n",
       "      <td>...</td>\n",
       "      <td>...</td>\n",
       "      <td>...</td>\n",
       "      <td>...</td>\n",
       "      <td>...</td>\n",
       "      <td>...</td>\n",
       "      <td>...</td>\n",
       "      <td>...</td>\n",
       "      <td>...</td>\n",
       "      <td>...</td>\n",
       "    </tr>\n",
       "    <tr>\n",
       "      <th>83</th>\n",
       "      <td>sub-084</td>\n",
       "      <td>F</td>\n",
       "      <td>71</td>\n",
       "      <td>F</td>\n",
       "      <td>24</td>\n",
       "      <td>5.435743e-09</td>\n",
       "      <td>3.720120e-08</td>\n",
       "      <td>4.874184e-07</td>\n",
       "      <td>1.177971e-08</td>\n",
       "      <td>1.238972e-07</td>\n",
       "      <td>gamma</td>\n",
       "    </tr>\n",
       "    <tr>\n",
       "      <th>84</th>\n",
       "      <td>sub-085</td>\n",
       "      <td>M</td>\n",
       "      <td>64</td>\n",
       "      <td>F</td>\n",
       "      <td>26</td>\n",
       "      <td>3.665966e-06</td>\n",
       "      <td>3.740734e-06</td>\n",
       "      <td>2.424464e-05</td>\n",
       "      <td>5.355802e-06</td>\n",
       "      <td>1.635907e-05</td>\n",
       "      <td>gamma</td>\n",
       "    </tr>\n",
       "    <tr>\n",
       "      <th>85</th>\n",
       "      <td>sub-086</td>\n",
       "      <td>M</td>\n",
       "      <td>49</td>\n",
       "      <td>F</td>\n",
       "      <td>26</td>\n",
       "      <td>3.067600e-08</td>\n",
       "      <td>2.072875e-07</td>\n",
       "      <td>9.462461e-07</td>\n",
       "      <td>2.062545e-08</td>\n",
       "      <td>8.242793e-07</td>\n",
       "      <td>gamma</td>\n",
       "    </tr>\n",
       "    <tr>\n",
       "      <th>86</th>\n",
       "      <td>sub-087</td>\n",
       "      <td>M</td>\n",
       "      <td>73</td>\n",
       "      <td>F</td>\n",
       "      <td>24</td>\n",
       "      <td>1.201528e-08</td>\n",
       "      <td>2.685936e-08</td>\n",
       "      <td>3.601303e-08</td>\n",
       "      <td>7.484330e-08</td>\n",
       "      <td>3.437138e-07</td>\n",
       "      <td>delta</td>\n",
       "    </tr>\n",
       "    <tr>\n",
       "      <th>87</th>\n",
       "      <td>sub-088</td>\n",
       "      <td>M</td>\n",
       "      <td>55</td>\n",
       "      <td>F</td>\n",
       "      <td>24</td>\n",
       "      <td>7.041661e-09</td>\n",
       "      <td>1.424399e-08</td>\n",
       "      <td>2.986120e-07</td>\n",
       "      <td>1.632258e-08</td>\n",
       "      <td>2.093207e-07</td>\n",
       "      <td>gamma</td>\n",
       "    </tr>\n",
       "  </tbody>\n",
       "</table>\n",
       "<p>88 rows × 11 columns</p>\n",
       "</div>"
      ],
      "text/plain": [
       "   participant_id Gender  Age Group  MMSE         alpha          beta  \\\n",
       "0         sub-001      F   57     A    16  4.487562e-09  8.151255e-09   \n",
       "1         sub-002      F   78     A    22  6.760981e-09  9.113942e-08   \n",
       "2         sub-003      M   70     A    14  6.869602e-09  3.701308e-09   \n",
       "3         sub-004      F   67     A    20  5.240635e-09  1.678292e-07   \n",
       "4         sub-005      M   70     A    22  1.503867e-07  1.952402e-07   \n",
       "..            ...    ...  ...   ...   ...           ...           ...   \n",
       "83        sub-084      F   71     F    24  5.435743e-09  3.720120e-08   \n",
       "84        sub-085      M   64     F    26  3.665966e-06  3.740734e-06   \n",
       "85        sub-086      M   49     F    26  3.067600e-08  2.072875e-07   \n",
       "86        sub-087      M   73     F    24  1.201528e-08  2.685936e-08   \n",
       "87        sub-088      M   55     F    24  7.041661e-09  1.424399e-08   \n",
       "\n",
       "           gamma         theta         delta max_freq_band  \n",
       "0   3.232289e-08  1.807745e-08  1.829355e-07         delta  \n",
       "1   4.419606e-07  1.837055e-08  1.923307e-07         gamma  \n",
       "2   1.263973e-08  1.718834e-08  1.345857e-07         delta  \n",
       "3   4.503802e-07  3.691043e-08  2.171671e-06         delta  \n",
       "4   7.413559e-07  3.448303e-07  9.152342e-07         delta  \n",
       "..           ...           ...           ...           ...  \n",
       "83  4.874184e-07  1.177971e-08  1.238972e-07         gamma  \n",
       "84  2.424464e-05  5.355802e-06  1.635907e-05         gamma  \n",
       "85  9.462461e-07  2.062545e-08  8.242793e-07         gamma  \n",
       "86  3.601303e-08  7.484330e-08  3.437138e-07         delta  \n",
       "87  2.986120e-07  1.632258e-08  2.093207e-07         gamma  \n",
       "\n",
       "[88 rows x 11 columns]"
      ]
     },
     "execution_count": 10,
     "metadata": {},
     "output_type": "execute_result"
    }
   ],
   "source": [
    "patients['alpha'] = 0.0\n",
    "patients['beta'] = 0.0\n",
    "patients['gamma'] = 0.0\n",
    "patients['theta'] = 0.0\n",
    "patients['delta'] = 0.0\n",
    "patients['max_freq_band'] = ''\n",
    "\n",
    "for i, raw in tqdm(enumerate(raws)):\n",
    "    freq_bands = split_into_freq_bands(raw)\n",
    "    for band, gfp_max in freq_bands:\n",
    "        patients.loc[i, band] = gfp_max\n",
    "    patients.loc[i, 'max_freq_band'] = freq_bands[np.argmax([x[1] for x in freq_bands])][0]\n",
    "\n",
    "patients"
   ]
  },
  {
   "cell_type": "code",
   "execution_count": 11,
   "metadata": {},
   "outputs": [],
   "source": [
    "patients.to_csv(\"./own_datasets/pre.csv\", index=False)"
   ]
  },
  {
   "cell_type": "code",
   "execution_count": 2,
   "metadata": {},
   "outputs": [
    {
     "data": {
      "text/html": [
       "<div>\n",
       "<style scoped>\n",
       "    .dataframe tbody tr th:only-of-type {\n",
       "        vertical-align: middle;\n",
       "    }\n",
       "\n",
       "    .dataframe tbody tr th {\n",
       "        vertical-align: top;\n",
       "    }\n",
       "\n",
       "    .dataframe thead th {\n",
       "        text-align: right;\n",
       "    }\n",
       "</style>\n",
       "<table border=\"1\" class=\"dataframe\">\n",
       "  <thead>\n",
       "    <tr style=\"text-align: right;\">\n",
       "      <th></th>\n",
       "      <th>participant_id</th>\n",
       "      <th>Gender</th>\n",
       "      <th>Age</th>\n",
       "      <th>Group</th>\n",
       "      <th>MMSE</th>\n",
       "      <th>alpha</th>\n",
       "      <th>beta</th>\n",
       "      <th>gamma</th>\n",
       "      <th>theta</th>\n",
       "      <th>delta</th>\n",
       "      <th>max_freq_band</th>\n",
       "    </tr>\n",
       "  </thead>\n",
       "  <tbody>\n",
       "    <tr>\n",
       "      <th>0</th>\n",
       "      <td>sub-001</td>\n",
       "      <td>F</td>\n",
       "      <td>57</td>\n",
       "      <td>A</td>\n",
       "      <td>16</td>\n",
       "      <td>4.487562e-09</td>\n",
       "      <td>8.151255e-09</td>\n",
       "      <td>3.232289e-08</td>\n",
       "      <td>1.807745e-08</td>\n",
       "      <td>1.829355e-07</td>\n",
       "      <td>delta</td>\n",
       "    </tr>\n",
       "    <tr>\n",
       "      <th>1</th>\n",
       "      <td>sub-002</td>\n",
       "      <td>F</td>\n",
       "      <td>78</td>\n",
       "      <td>A</td>\n",
       "      <td>22</td>\n",
       "      <td>6.760981e-09</td>\n",
       "      <td>9.113942e-08</td>\n",
       "      <td>4.419606e-07</td>\n",
       "      <td>1.837055e-08</td>\n",
       "      <td>1.923307e-07</td>\n",
       "      <td>gamma</td>\n",
       "    </tr>\n",
       "    <tr>\n",
       "      <th>2</th>\n",
       "      <td>sub-003</td>\n",
       "      <td>M</td>\n",
       "      <td>70</td>\n",
       "      <td>A</td>\n",
       "      <td>14</td>\n",
       "      <td>6.869602e-09</td>\n",
       "      <td>3.701308e-09</td>\n",
       "      <td>1.263973e-08</td>\n",
       "      <td>1.718834e-08</td>\n",
       "      <td>1.345857e-07</td>\n",
       "      <td>delta</td>\n",
       "    </tr>\n",
       "    <tr>\n",
       "      <th>3</th>\n",
       "      <td>sub-004</td>\n",
       "      <td>F</td>\n",
       "      <td>67</td>\n",
       "      <td>A</td>\n",
       "      <td>20</td>\n",
       "      <td>5.240635e-09</td>\n",
       "      <td>1.678292e-07</td>\n",
       "      <td>4.503802e-07</td>\n",
       "      <td>3.691043e-08</td>\n",
       "      <td>2.171671e-06</td>\n",
       "      <td>delta</td>\n",
       "    </tr>\n",
       "    <tr>\n",
       "      <th>4</th>\n",
       "      <td>sub-005</td>\n",
       "      <td>M</td>\n",
       "      <td>70</td>\n",
       "      <td>A</td>\n",
       "      <td>22</td>\n",
       "      <td>1.503867e-07</td>\n",
       "      <td>1.952402e-07</td>\n",
       "      <td>7.413559e-07</td>\n",
       "      <td>3.448303e-07</td>\n",
       "      <td>9.152342e-07</td>\n",
       "      <td>delta</td>\n",
       "    </tr>\n",
       "  </tbody>\n",
       "</table>\n",
       "</div>"
      ],
      "text/plain": [
       "  participant_id Gender  Age Group  MMSE         alpha          beta  \\\n",
       "0        sub-001      F   57     A    16  4.487562e-09  8.151255e-09   \n",
       "1        sub-002      F   78     A    22  6.760981e-09  9.113942e-08   \n",
       "2        sub-003      M   70     A    14  6.869602e-09  3.701308e-09   \n",
       "3        sub-004      F   67     A    20  5.240635e-09  1.678292e-07   \n",
       "4        sub-005      M   70     A    22  1.503867e-07  1.952402e-07   \n",
       "\n",
       "          gamma         theta         delta max_freq_band  \n",
       "0  3.232289e-08  1.807745e-08  1.829355e-07         delta  \n",
       "1  4.419606e-07  1.837055e-08  1.923307e-07         gamma  \n",
       "2  1.263973e-08  1.718834e-08  1.345857e-07         delta  \n",
       "3  4.503802e-07  3.691043e-08  2.171671e-06         delta  \n",
       "4  7.413559e-07  3.448303e-07  9.152342e-07         delta  "
      ]
     },
     "execution_count": 2,
     "metadata": {},
     "output_type": "execute_result"
    }
   ],
   "source": [
    "patients = pd.read_csv(\"./own_datasets/pre.csv\")\n",
    "\n",
    "patients.head()"
   ]
  },
  {
   "cell_type": "markdown",
   "metadata": {},
   "source": [
    "Randomly Label each Record with Either Active, Relaxed or Sleepy"
   ]
  },
  {
   "cell_type": "code",
   "execution_count": 3,
   "metadata": {},
   "outputs": [
    {
     "data": {
      "text/html": [
       "<div>\n",
       "<style scoped>\n",
       "    .dataframe tbody tr th:only-of-type {\n",
       "        vertical-align: middle;\n",
       "    }\n",
       "\n",
       "    .dataframe tbody tr th {\n",
       "        vertical-align: top;\n",
       "    }\n",
       "\n",
       "    .dataframe thead th {\n",
       "        text-align: right;\n",
       "    }\n",
       "</style>\n",
       "<table border=\"1\" class=\"dataframe\">\n",
       "  <thead>\n",
       "    <tr style=\"text-align: right;\">\n",
       "      <th></th>\n",
       "      <th>participant_id</th>\n",
       "      <th>Gender</th>\n",
       "      <th>Age</th>\n",
       "      <th>Group</th>\n",
       "      <th>MMSE</th>\n",
       "      <th>alpha</th>\n",
       "      <th>beta</th>\n",
       "      <th>gamma</th>\n",
       "      <th>theta</th>\n",
       "      <th>delta</th>\n",
       "      <th>max_freq_band</th>\n",
       "      <th>active_level</th>\n",
       "    </tr>\n",
       "  </thead>\n",
       "  <tbody>\n",
       "    <tr>\n",
       "      <th>0</th>\n",
       "      <td>sub-001</td>\n",
       "      <td>F</td>\n",
       "      <td>57</td>\n",
       "      <td>A</td>\n",
       "      <td>16</td>\n",
       "      <td>4.487562e-09</td>\n",
       "      <td>8.151255e-09</td>\n",
       "      <td>3.232289e-08</td>\n",
       "      <td>1.807745e-08</td>\n",
       "      <td>1.829355e-07</td>\n",
       "      <td>delta</td>\n",
       "      <td></td>\n",
       "    </tr>\n",
       "    <tr>\n",
       "      <th>1</th>\n",
       "      <td>sub-002</td>\n",
       "      <td>F</td>\n",
       "      <td>78</td>\n",
       "      <td>A</td>\n",
       "      <td>22</td>\n",
       "      <td>6.760981e-09</td>\n",
       "      <td>9.113942e-08</td>\n",
       "      <td>4.419606e-07</td>\n",
       "      <td>1.837055e-08</td>\n",
       "      <td>1.923307e-07</td>\n",
       "      <td>gamma</td>\n",
       "      <td></td>\n",
       "    </tr>\n",
       "    <tr>\n",
       "      <th>2</th>\n",
       "      <td>sub-003</td>\n",
       "      <td>M</td>\n",
       "      <td>70</td>\n",
       "      <td>A</td>\n",
       "      <td>14</td>\n",
       "      <td>6.869602e-09</td>\n",
       "      <td>3.701308e-09</td>\n",
       "      <td>1.263973e-08</td>\n",
       "      <td>1.718834e-08</td>\n",
       "      <td>1.345857e-07</td>\n",
       "      <td>delta</td>\n",
       "      <td></td>\n",
       "    </tr>\n",
       "    <tr>\n",
       "      <th>3</th>\n",
       "      <td>sub-004</td>\n",
       "      <td>F</td>\n",
       "      <td>67</td>\n",
       "      <td>A</td>\n",
       "      <td>20</td>\n",
       "      <td>5.240635e-09</td>\n",
       "      <td>1.678292e-07</td>\n",
       "      <td>4.503802e-07</td>\n",
       "      <td>3.691043e-08</td>\n",
       "      <td>2.171671e-06</td>\n",
       "      <td>delta</td>\n",
       "      <td></td>\n",
       "    </tr>\n",
       "    <tr>\n",
       "      <th>4</th>\n",
       "      <td>sub-005</td>\n",
       "      <td>M</td>\n",
       "      <td>70</td>\n",
       "      <td>A</td>\n",
       "      <td>22</td>\n",
       "      <td>1.503867e-07</td>\n",
       "      <td>1.952402e-07</td>\n",
       "      <td>7.413559e-07</td>\n",
       "      <td>3.448303e-07</td>\n",
       "      <td>9.152342e-07</td>\n",
       "      <td>delta</td>\n",
       "      <td></td>\n",
       "    </tr>\n",
       "  </tbody>\n",
       "</table>\n",
       "</div>"
      ],
      "text/plain": [
       "  participant_id Gender  Age Group  MMSE         alpha          beta  \\\n",
       "0        sub-001      F   57     A    16  4.487562e-09  8.151255e-09   \n",
       "1        sub-002      F   78     A    22  6.760981e-09  9.113942e-08   \n",
       "2        sub-003      M   70     A    14  6.869602e-09  3.701308e-09   \n",
       "3        sub-004      F   67     A    20  5.240635e-09  1.678292e-07   \n",
       "4        sub-005      M   70     A    22  1.503867e-07  1.952402e-07   \n",
       "\n",
       "          gamma         theta         delta max_freq_band active_level  \n",
       "0  3.232289e-08  1.807745e-08  1.829355e-07         delta               \n",
       "1  4.419606e-07  1.837055e-08  1.923307e-07         gamma               \n",
       "2  1.263973e-08  1.718834e-08  1.345857e-07         delta               \n",
       "3  4.503802e-07  3.691043e-08  2.171671e-06         delta               \n",
       "4  7.413559e-07  3.448303e-07  9.152342e-07         delta               "
      ]
     },
     "execution_count": 3,
     "metadata": {},
     "output_type": "execute_result"
    }
   ],
   "source": [
    "labels = ['active', 'relaxed', 'sleepy']\n",
    "\n",
    "patients['active_level'] = ''\n",
    "patients.head()"
   ]
  },
  {
   "cell_type": "markdown",
   "metadata": {},
   "source": [
    "**Labelling Method in Order of Comparison:**\n",
    "\n",
    "Top 2 Frequencies are Theta and Delta: Sleepy/Sad<br>\n",
    "Top 2 Frequencies are Alpha and Delta: Relaxed<br>\n",
    "Top 2 Frequencies are Beta and Gamma: Active<br>\n",
    "<br>\n",
    "High Beta/Gamma - Active<br>\n",
    "Top 2 Frequencies are Either Theta/Alpha - Relaxed<br>\n",
    "High Delta - Sleepy/Sad<br>"
   ]
  },
  {
   "cell_type": "code",
   "execution_count": 6,
   "metadata": {},
   "outputs": [
    {
     "name": "stderr",
     "output_type": "stream",
     "text": [
      "88it [00:00, 6747.69it/s]\n"
     ]
    },
    {
     "data": {
      "text/html": [
       "<div>\n",
       "<style scoped>\n",
       "    .dataframe tbody tr th:only-of-type {\n",
       "        vertical-align: middle;\n",
       "    }\n",
       "\n",
       "    .dataframe tbody tr th {\n",
       "        vertical-align: top;\n",
       "    }\n",
       "\n",
       "    .dataframe thead th {\n",
       "        text-align: right;\n",
       "    }\n",
       "</style>\n",
       "<table border=\"1\" class=\"dataframe\">\n",
       "  <thead>\n",
       "    <tr style=\"text-align: right;\">\n",
       "      <th></th>\n",
       "      <th>participant_id</th>\n",
       "      <th>Gender</th>\n",
       "      <th>Age</th>\n",
       "      <th>Group</th>\n",
       "      <th>MMSE</th>\n",
       "      <th>alpha</th>\n",
       "      <th>beta</th>\n",
       "      <th>gamma</th>\n",
       "      <th>theta</th>\n",
       "      <th>delta</th>\n",
       "      <th>max_freq_band</th>\n",
       "      <th>active_level</th>\n",
       "    </tr>\n",
       "  </thead>\n",
       "  <tbody>\n",
       "    <tr>\n",
       "      <th>0</th>\n",
       "      <td>sub-001</td>\n",
       "      <td>F</td>\n",
       "      <td>57</td>\n",
       "      <td>A</td>\n",
       "      <td>16</td>\n",
       "      <td>4.487562e-09</td>\n",
       "      <td>8.151255e-09</td>\n",
       "      <td>3.232289e-08</td>\n",
       "      <td>1.807745e-08</td>\n",
       "      <td>1.829355e-07</td>\n",
       "      <td>delta</td>\n",
       "      <td>sleepy</td>\n",
       "    </tr>\n",
       "    <tr>\n",
       "      <th>1</th>\n",
       "      <td>sub-002</td>\n",
       "      <td>F</td>\n",
       "      <td>78</td>\n",
       "      <td>A</td>\n",
       "      <td>22</td>\n",
       "      <td>6.760981e-09</td>\n",
       "      <td>9.113942e-08</td>\n",
       "      <td>4.419606e-07</td>\n",
       "      <td>1.837055e-08</td>\n",
       "      <td>1.923307e-07</td>\n",
       "      <td>gamma</td>\n",
       "      <td>active</td>\n",
       "    </tr>\n",
       "    <tr>\n",
       "      <th>2</th>\n",
       "      <td>sub-003</td>\n",
       "      <td>M</td>\n",
       "      <td>70</td>\n",
       "      <td>A</td>\n",
       "      <td>14</td>\n",
       "      <td>6.869602e-09</td>\n",
       "      <td>3.701308e-09</td>\n",
       "      <td>1.263973e-08</td>\n",
       "      <td>1.718834e-08</td>\n",
       "      <td>1.345857e-07</td>\n",
       "      <td>delta</td>\n",
       "      <td>relaxed</td>\n",
       "    </tr>\n",
       "    <tr>\n",
       "      <th>3</th>\n",
       "      <td>sub-004</td>\n",
       "      <td>F</td>\n",
       "      <td>67</td>\n",
       "      <td>A</td>\n",
       "      <td>20</td>\n",
       "      <td>5.240635e-09</td>\n",
       "      <td>1.678292e-07</td>\n",
       "      <td>4.503802e-07</td>\n",
       "      <td>3.691043e-08</td>\n",
       "      <td>2.171671e-06</td>\n",
       "      <td>delta</td>\n",
       "      <td>sleepy</td>\n",
       "    </tr>\n",
       "    <tr>\n",
       "      <th>4</th>\n",
       "      <td>sub-005</td>\n",
       "      <td>M</td>\n",
       "      <td>70</td>\n",
       "      <td>A</td>\n",
       "      <td>22</td>\n",
       "      <td>1.503867e-07</td>\n",
       "      <td>1.952402e-07</td>\n",
       "      <td>7.413559e-07</td>\n",
       "      <td>3.448303e-07</td>\n",
       "      <td>9.152342e-07</td>\n",
       "      <td>delta</td>\n",
       "      <td>sleepy</td>\n",
       "    </tr>\n",
       "  </tbody>\n",
       "</table>\n",
       "</div>"
      ],
      "text/plain": [
       "  participant_id Gender  Age Group  MMSE         alpha          beta  \\\n",
       "0        sub-001      F   57     A    16  4.487562e-09  8.151255e-09   \n",
       "1        sub-002      F   78     A    22  6.760981e-09  9.113942e-08   \n",
       "2        sub-003      M   70     A    14  6.869602e-09  3.701308e-09   \n",
       "3        sub-004      F   67     A    20  5.240635e-09  1.678292e-07   \n",
       "4        sub-005      M   70     A    22  1.503867e-07  1.952402e-07   \n",
       "\n",
       "          gamma         theta         delta max_freq_band active_level  \n",
       "0  3.232289e-08  1.807745e-08  1.829355e-07         delta       sleepy  \n",
       "1  4.419606e-07  1.837055e-08  1.923307e-07         gamma       active  \n",
       "2  1.263973e-08  1.718834e-08  1.345857e-07         delta      relaxed  \n",
       "3  4.503802e-07  3.691043e-08  2.171671e-06         delta       sleepy  \n",
       "4  7.413559e-07  3.448303e-07  9.152342e-07         delta       sleepy  "
      ]
     },
     "execution_count": 6,
     "metadata": {},
     "output_type": "execute_result"
    }
   ],
   "source": [
    "for id, patient in tqdm(patients.iterrows()):\n",
    "    active_level = ''\n",
    "    freq_bands = [(patient['alpha'], 'alpha'), (patient['beta'], 'beta'), (patient['gamma'], 'gamma'), (patient['theta'], 'theta'), (patient['delta'], 'delta')]\n",
    "    sorted_bands = sorted(freq_bands, reverse=True)\n",
    "\n",
    "    if sorted_bands[0][1] == 'theta' and sorted_bands[1][1] == 'delta':\n",
    "        active_level = labels[2]\n",
    "    elif sorted_bands[0][1] == 'alpha' and sorted_bands[1][1] == 'delta':\n",
    "        active_level = labels[1]\n",
    "    elif sorted_bands[0][1] == 'beta' and sorted_bands[1][1] == 'gamma':\n",
    "        active_level = labels[0]\n",
    "    elif sorted_bands[0][1] == 'beta' or sorted_bands[0][1] == 'gamma':\n",
    "        active_level = labels[0]\n",
    "    elif sorted_bands[0][1] == 'theta' or sorted_bands[1][1] == 'theta':\n",
    "        active_level = labels[1]\n",
    "    elif sorted_bands[0][1] == 'alpha' or sorted_bands[1][1] == 'alpha':\n",
    "        active_level = labels[1]\n",
    "    elif sorted_bands[0][1] == 'delta':\n",
    "        active_level = labels[2]\n",
    "    else:\n",
    "        active_level = 'others'\n",
    "    \n",
    "    patients.loc[id, 'active_level'] = active_level\n",
    "\n",
    "patients.head()"
   ]
  },
  {
   "cell_type": "code",
   "execution_count": 17,
   "metadata": {},
   "outputs": [],
   "source": [
    "patients.to_csv(\"./own_datasets/labelled.csv\", index=False)"
   ]
  },
  {
   "cell_type": "code",
   "execution_count": 60,
   "metadata": {},
   "outputs": [
    {
     "data": {
      "text/html": [
       "<div>\n",
       "<style scoped>\n",
       "    .dataframe tbody tr th:only-of-type {\n",
       "        vertical-align: middle;\n",
       "    }\n",
       "\n",
       "    .dataframe tbody tr th {\n",
       "        vertical-align: top;\n",
       "    }\n",
       "\n",
       "    .dataframe thead th {\n",
       "        text-align: right;\n",
       "    }\n",
       "</style>\n",
       "<table border=\"1\" class=\"dataframe\">\n",
       "  <thead>\n",
       "    <tr style=\"text-align: right;\">\n",
       "      <th></th>\n",
       "      <th>participant_id</th>\n",
       "      <th>Gender</th>\n",
       "      <th>Age</th>\n",
       "      <th>Group</th>\n",
       "      <th>MMSE</th>\n",
       "      <th>alpha</th>\n",
       "      <th>beta</th>\n",
       "      <th>gamma</th>\n",
       "      <th>theta</th>\n",
       "      <th>delta</th>\n",
       "      <th>max_freq_band</th>\n",
       "      <th>active_level</th>\n",
       "    </tr>\n",
       "  </thead>\n",
       "  <tbody>\n",
       "    <tr>\n",
       "      <th>0</th>\n",
       "      <td>sub-001</td>\n",
       "      <td>F</td>\n",
       "      <td>57</td>\n",
       "      <td>A</td>\n",
       "      <td>16</td>\n",
       "      <td>4.487562e-09</td>\n",
       "      <td>8.151255e-09</td>\n",
       "      <td>3.232289e-08</td>\n",
       "      <td>1.807745e-08</td>\n",
       "      <td>1.829355e-07</td>\n",
       "      <td>delta</td>\n",
       "      <td>sleepy</td>\n",
       "    </tr>\n",
       "    <tr>\n",
       "      <th>1</th>\n",
       "      <td>sub-002</td>\n",
       "      <td>F</td>\n",
       "      <td>78</td>\n",
       "      <td>A</td>\n",
       "      <td>22</td>\n",
       "      <td>6.760981e-09</td>\n",
       "      <td>9.113942e-08</td>\n",
       "      <td>4.419606e-07</td>\n",
       "      <td>1.837055e-08</td>\n",
       "      <td>1.923307e-07</td>\n",
       "      <td>gamma</td>\n",
       "      <td>active</td>\n",
       "    </tr>\n",
       "    <tr>\n",
       "      <th>2</th>\n",
       "      <td>sub-003</td>\n",
       "      <td>M</td>\n",
       "      <td>70</td>\n",
       "      <td>A</td>\n",
       "      <td>14</td>\n",
       "      <td>6.869602e-09</td>\n",
       "      <td>3.701308e-09</td>\n",
       "      <td>1.263973e-08</td>\n",
       "      <td>1.718834e-08</td>\n",
       "      <td>1.345857e-07</td>\n",
       "      <td>delta</td>\n",
       "      <td>relaxed</td>\n",
       "    </tr>\n",
       "    <tr>\n",
       "      <th>3</th>\n",
       "      <td>sub-004</td>\n",
       "      <td>F</td>\n",
       "      <td>67</td>\n",
       "      <td>A</td>\n",
       "      <td>20</td>\n",
       "      <td>5.240635e-09</td>\n",
       "      <td>1.678292e-07</td>\n",
       "      <td>4.503802e-07</td>\n",
       "      <td>3.691043e-08</td>\n",
       "      <td>2.171671e-06</td>\n",
       "      <td>delta</td>\n",
       "      <td>sleepy</td>\n",
       "    </tr>\n",
       "    <tr>\n",
       "      <th>4</th>\n",
       "      <td>sub-005</td>\n",
       "      <td>M</td>\n",
       "      <td>70</td>\n",
       "      <td>A</td>\n",
       "      <td>22</td>\n",
       "      <td>1.503867e-07</td>\n",
       "      <td>1.952402e-07</td>\n",
       "      <td>7.413559e-07</td>\n",
       "      <td>3.448303e-07</td>\n",
       "      <td>9.152342e-07</td>\n",
       "      <td>delta</td>\n",
       "      <td>sleepy</td>\n",
       "    </tr>\n",
       "    <tr>\n",
       "      <th>...</th>\n",
       "      <td>...</td>\n",
       "      <td>...</td>\n",
       "      <td>...</td>\n",
       "      <td>...</td>\n",
       "      <td>...</td>\n",
       "      <td>...</td>\n",
       "      <td>...</td>\n",
       "      <td>...</td>\n",
       "      <td>...</td>\n",
       "      <td>...</td>\n",
       "      <td>...</td>\n",
       "      <td>...</td>\n",
       "    </tr>\n",
       "    <tr>\n",
       "      <th>83</th>\n",
       "      <td>sub-084</td>\n",
       "      <td>F</td>\n",
       "      <td>71</td>\n",
       "      <td>F</td>\n",
       "      <td>24</td>\n",
       "      <td>5.435743e-09</td>\n",
       "      <td>3.720120e-08</td>\n",
       "      <td>4.874184e-07</td>\n",
       "      <td>1.177971e-08</td>\n",
       "      <td>1.238972e-07</td>\n",
       "      <td>gamma</td>\n",
       "      <td>active</td>\n",
       "    </tr>\n",
       "    <tr>\n",
       "      <th>84</th>\n",
       "      <td>sub-085</td>\n",
       "      <td>M</td>\n",
       "      <td>64</td>\n",
       "      <td>F</td>\n",
       "      <td>26</td>\n",
       "      <td>3.665966e-06</td>\n",
       "      <td>3.740734e-06</td>\n",
       "      <td>2.424464e-05</td>\n",
       "      <td>5.355802e-06</td>\n",
       "      <td>1.635907e-05</td>\n",
       "      <td>gamma</td>\n",
       "      <td>active</td>\n",
       "    </tr>\n",
       "    <tr>\n",
       "      <th>85</th>\n",
       "      <td>sub-086</td>\n",
       "      <td>M</td>\n",
       "      <td>49</td>\n",
       "      <td>F</td>\n",
       "      <td>26</td>\n",
       "      <td>3.067600e-08</td>\n",
       "      <td>2.072875e-07</td>\n",
       "      <td>9.462461e-07</td>\n",
       "      <td>2.062545e-08</td>\n",
       "      <td>8.242793e-07</td>\n",
       "      <td>gamma</td>\n",
       "      <td>active</td>\n",
       "    </tr>\n",
       "    <tr>\n",
       "      <th>86</th>\n",
       "      <td>sub-087</td>\n",
       "      <td>M</td>\n",
       "      <td>73</td>\n",
       "      <td>F</td>\n",
       "      <td>24</td>\n",
       "      <td>1.201528e-08</td>\n",
       "      <td>2.685936e-08</td>\n",
       "      <td>3.601303e-08</td>\n",
       "      <td>7.484330e-08</td>\n",
       "      <td>3.437138e-07</td>\n",
       "      <td>delta</td>\n",
       "      <td>relaxed</td>\n",
       "    </tr>\n",
       "    <tr>\n",
       "      <th>87</th>\n",
       "      <td>sub-088</td>\n",
       "      <td>M</td>\n",
       "      <td>55</td>\n",
       "      <td>F</td>\n",
       "      <td>24</td>\n",
       "      <td>7.041661e-09</td>\n",
       "      <td>1.424399e-08</td>\n",
       "      <td>2.986120e-07</td>\n",
       "      <td>1.632258e-08</td>\n",
       "      <td>2.093207e-07</td>\n",
       "      <td>gamma</td>\n",
       "      <td>active</td>\n",
       "    </tr>\n",
       "  </tbody>\n",
       "</table>\n",
       "<p>88 rows × 12 columns</p>\n",
       "</div>"
      ],
      "text/plain": [
       "   participant_id Gender  Age Group  MMSE         alpha          beta  \\\n",
       "0         sub-001      F   57     A    16  4.487562e-09  8.151255e-09   \n",
       "1         sub-002      F   78     A    22  6.760981e-09  9.113942e-08   \n",
       "2         sub-003      M   70     A    14  6.869602e-09  3.701308e-09   \n",
       "3         sub-004      F   67     A    20  5.240635e-09  1.678292e-07   \n",
       "4         sub-005      M   70     A    22  1.503867e-07  1.952402e-07   \n",
       "..            ...    ...  ...   ...   ...           ...           ...   \n",
       "83        sub-084      F   71     F    24  5.435743e-09  3.720120e-08   \n",
       "84        sub-085      M   64     F    26  3.665966e-06  3.740734e-06   \n",
       "85        sub-086      M   49     F    26  3.067600e-08  2.072875e-07   \n",
       "86        sub-087      M   73     F    24  1.201528e-08  2.685936e-08   \n",
       "87        sub-088      M   55     F    24  7.041661e-09  1.424399e-08   \n",
       "\n",
       "           gamma         theta         delta max_freq_band active_level  \n",
       "0   3.232289e-08  1.807745e-08  1.829355e-07         delta       sleepy  \n",
       "1   4.419606e-07  1.837055e-08  1.923307e-07         gamma       active  \n",
       "2   1.263973e-08  1.718834e-08  1.345857e-07         delta      relaxed  \n",
       "3   4.503802e-07  3.691043e-08  2.171671e-06         delta       sleepy  \n",
       "4   7.413559e-07  3.448303e-07  9.152342e-07         delta       sleepy  \n",
       "..           ...           ...           ...           ...          ...  \n",
       "83  4.874184e-07  1.177971e-08  1.238972e-07         gamma       active  \n",
       "84  2.424464e-05  5.355802e-06  1.635907e-05         gamma       active  \n",
       "85  9.462461e-07  2.062545e-08  8.242793e-07         gamma       active  \n",
       "86  3.601303e-08  7.484330e-08  3.437138e-07         delta      relaxed  \n",
       "87  2.986120e-07  1.632258e-08  2.093207e-07         gamma       active  \n",
       "\n",
       "[88 rows x 12 columns]"
      ]
     },
     "execution_count": 60,
     "metadata": {},
     "output_type": "execute_result"
    }
   ],
   "source": [
    "patients = pd.read_csv(\"./own_datasets/labelled.csv\")\n",
    "patients\n"
   ]
  },
  {
   "cell_type": "code",
   "execution_count": 61,
   "metadata": {},
   "outputs": [
    {
     "data": {
      "text/plain": [
       "active_level\n",
       "sleepy     51\n",
       "active     26\n",
       "relaxed    11\n",
       "Name: count, dtype: int64"
      ]
     },
     "execution_count": 61,
     "metadata": {},
     "output_type": "execute_result"
    }
   ],
   "source": [
    "patients['active_level'].value_counts()"
   ]
  },
  {
   "cell_type": "code",
   "execution_count": 62,
   "metadata": {},
   "outputs": [],
   "source": [
    "X = patients.drop(['participant_id', 'Group', 'MMSE', 'max_freq_band', 'active_level'], axis=1)\n",
    "y = patients['active_level']"
   ]
  },
  {
   "cell_type": "markdown",
   "metadata": {},
   "source": [
    "Preparing and Training Model WITHOUT Oversampling of Minority Classes"
   ]
  },
  {
   "cell_type": "code",
   "execution_count": 63,
   "metadata": {},
   "outputs": [],
   "source": [
    "from sklearn.model_selection import train_test_split\n",
    "from sklearn.svm import SVC\n",
    "from sklearn.metrics import classification_report, confusion_matrix, ConfusionMatrixDisplay\n",
    "from sklearn.preprocessing import LabelEncoder, StandardScaler, OrdinalEncoder"
   ]
  },
  {
   "cell_type": "code",
   "execution_count": 64,
   "metadata": {},
   "outputs": [
    {
     "name": "stdout",
     "output_type": "stream",
     "text": [
      "    Gender  Age         alpha          beta         gamma         theta  \\\n",
      "0      0.0   57  4.487562e-09  8.151255e-09  3.232289e-08  1.807745e-08   \n",
      "1      0.0   78  6.760981e-09  9.113942e-08  4.419606e-07  1.837055e-08   \n",
      "2      1.0   70  6.869602e-09  3.701308e-09  1.263973e-08  1.718834e-08   \n",
      "3      0.0   67  5.240635e-09  1.678292e-07  4.503802e-07  3.691043e-08   \n",
      "4      1.0   70  1.503867e-07  1.952402e-07  7.413559e-07  3.448303e-07   \n",
      "..     ...  ...           ...           ...           ...           ...   \n",
      "83     0.0   71  5.435743e-09  3.720120e-08  4.874184e-07  1.177971e-08   \n",
      "84     1.0   64  3.665966e-06  3.740734e-06  2.424464e-05  5.355802e-06   \n",
      "85     1.0   49  3.067600e-08  2.072875e-07  9.462461e-07  2.062545e-08   \n",
      "86     1.0   73  1.201528e-08  2.685936e-08  3.601303e-08  7.484330e-08   \n",
      "87     1.0   55  7.041661e-09  1.424399e-08  2.986120e-07  1.632258e-08   \n",
      "\n",
      "           delta  \n",
      "0   1.829355e-07  \n",
      "1   1.923307e-07  \n",
      "2   1.345857e-07  \n",
      "3   2.171671e-06  \n",
      "4   9.152342e-07  \n",
      "..           ...  \n",
      "83  1.238972e-07  \n",
      "84  1.635907e-05  \n",
      "85  8.242793e-07  \n",
      "86  3.437138e-07  \n",
      "87  2.093207e-07  \n",
      "\n",
      "[88 rows x 7 columns]\n",
      "[2 0 1 2 2 2 2 2 1 0 0 0 1 0 2 2 2 2 2 0 2 0 2 2 2 0 2 0 1 2 2 0 0 2 2 1 0\n",
      " 2 2 2 2 0 1 2 2 2 0 0 2 2 2 2 2 2 2 1 1 2 2 2 2 1 2 2 0 0 2 2 0 2 2 1 0 2\n",
      " 0 2 2 2 0 0 2 2 2 0 0 0 1 0]\n"
     ]
    }
   ],
   "source": [
    "oe = OrdinalEncoder(categories=[['F', 'M']])\n",
    "X['Gender'] = oe.fit_transform(X[['Gender']])\n",
    "print(X)\n",
    "\n",
    "le = LabelEncoder()\n",
    "y = le.fit_transform(y)\n",
    "print(y)"
   ]
  },
  {
   "cell_type": "code",
   "execution_count": 13,
   "metadata": {},
   "outputs": [
    {
     "name": "stdout",
     "output_type": "stream",
     "text": [
      "X Train Shape: (66, 7)\n",
      "X Test Shape: (22, 7)\n"
     ]
    }
   ],
   "source": [
    "X_train, X_test, y_train, y_test = train_test_split(X, y, test_size=0.25, random_state=0)\n",
    "\n",
    "sc = StandardScaler()\n",
    "\n",
    "X_train = sc.fit_transform(X_train)\n",
    "X_test = sc.fit_transform(X_test)\n",
    "\n",
    "print(\"X Train Shape:\", X_train.shape)\n",
    "print(\"X Test Shape:\", X_test.shape)"
   ]
  },
  {
   "cell_type": "code",
   "execution_count": 20,
   "metadata": {},
   "outputs": [
    {
     "data": {
      "text/html": [
       "<style>#sk-container-id-2 {color: black;background-color: white;}#sk-container-id-2 pre{padding: 0;}#sk-container-id-2 div.sk-toggleable {background-color: white;}#sk-container-id-2 label.sk-toggleable__label {cursor: pointer;display: block;width: 100%;margin-bottom: 0;padding: 0.3em;box-sizing: border-box;text-align: center;}#sk-container-id-2 label.sk-toggleable__label-arrow:before {content: \"▸\";float: left;margin-right: 0.25em;color: #696969;}#sk-container-id-2 label.sk-toggleable__label-arrow:hover:before {color: black;}#sk-container-id-2 div.sk-estimator:hover label.sk-toggleable__label-arrow:before {color: black;}#sk-container-id-2 div.sk-toggleable__content {max-height: 0;max-width: 0;overflow: hidden;text-align: left;background-color: #f0f8ff;}#sk-container-id-2 div.sk-toggleable__content pre {margin: 0.2em;color: black;border-radius: 0.25em;background-color: #f0f8ff;}#sk-container-id-2 input.sk-toggleable__control:checked~div.sk-toggleable__content {max-height: 200px;max-width: 100%;overflow: auto;}#sk-container-id-2 input.sk-toggleable__control:checked~label.sk-toggleable__label-arrow:before {content: \"▾\";}#sk-container-id-2 div.sk-estimator input.sk-toggleable__control:checked~label.sk-toggleable__label {background-color: #d4ebff;}#sk-container-id-2 div.sk-label input.sk-toggleable__control:checked~label.sk-toggleable__label {background-color: #d4ebff;}#sk-container-id-2 input.sk-hidden--visually {border: 0;clip: rect(1px 1px 1px 1px);clip: rect(1px, 1px, 1px, 1px);height: 1px;margin: -1px;overflow: hidden;padding: 0;position: absolute;width: 1px;}#sk-container-id-2 div.sk-estimator {font-family: monospace;background-color: #f0f8ff;border: 1px dotted black;border-radius: 0.25em;box-sizing: border-box;margin-bottom: 0.5em;}#sk-container-id-2 div.sk-estimator:hover {background-color: #d4ebff;}#sk-container-id-2 div.sk-parallel-item::after {content: \"\";width: 100%;border-bottom: 1px solid gray;flex-grow: 1;}#sk-container-id-2 div.sk-label:hover label.sk-toggleable__label {background-color: #d4ebff;}#sk-container-id-2 div.sk-serial::before {content: \"\";position: absolute;border-left: 1px solid gray;box-sizing: border-box;top: 0;bottom: 0;left: 50%;z-index: 0;}#sk-container-id-2 div.sk-serial {display: flex;flex-direction: column;align-items: center;background-color: white;padding-right: 0.2em;padding-left: 0.2em;position: relative;}#sk-container-id-2 div.sk-item {position: relative;z-index: 1;}#sk-container-id-2 div.sk-parallel {display: flex;align-items: stretch;justify-content: center;background-color: white;position: relative;}#sk-container-id-2 div.sk-item::before, #sk-container-id-2 div.sk-parallel-item::before {content: \"\";position: absolute;border-left: 1px solid gray;box-sizing: border-box;top: 0;bottom: 0;left: 50%;z-index: -1;}#sk-container-id-2 div.sk-parallel-item {display: flex;flex-direction: column;z-index: 1;position: relative;background-color: white;}#sk-container-id-2 div.sk-parallel-item:first-child::after {align-self: flex-end;width: 50%;}#sk-container-id-2 div.sk-parallel-item:last-child::after {align-self: flex-start;width: 50%;}#sk-container-id-2 div.sk-parallel-item:only-child::after {width: 0;}#sk-container-id-2 div.sk-dashed-wrapped {border: 1px dashed gray;margin: 0 0.4em 0.5em 0.4em;box-sizing: border-box;padding-bottom: 0.4em;background-color: white;}#sk-container-id-2 div.sk-label label {font-family: monospace;font-weight: bold;display: inline-block;line-height: 1.2em;}#sk-container-id-2 div.sk-label-container {text-align: center;}#sk-container-id-2 div.sk-container {/* jupyter's `normalize.less` sets `[hidden] { display: none; }` but bootstrap.min.css set `[hidden] { display: none !important; }` so we also need the `!important` here to be able to override the default hidden behavior on the sphinx rendered scikit-learn.org. See: https://github.com/scikit-learn/scikit-learn/issues/21755 */display: inline-block !important;position: relative;}#sk-container-id-2 div.sk-text-repr-fallback {display: none;}</style><div id=\"sk-container-id-2\" class=\"sk-top-container\"><div class=\"sk-text-repr-fallback\"><pre>SVC(gamma=0.1, random_state=0)</pre><b>In a Jupyter environment, please rerun this cell to show the HTML representation or trust the notebook. <br />On GitHub, the HTML representation is unable to render, please try loading this page with nbviewer.org.</b></div><div class=\"sk-container\" hidden><div class=\"sk-item\"><div class=\"sk-estimator sk-toggleable\"><input class=\"sk-toggleable__control sk-hidden--visually\" id=\"sk-estimator-id-2\" type=\"checkbox\" checked><label for=\"sk-estimator-id-2\" class=\"sk-toggleable__label sk-toggleable__label-arrow\">SVC</label><div class=\"sk-toggleable__content\"><pre>SVC(gamma=0.1, random_state=0)</pre></div></div></div></div></div>"
      ],
      "text/plain": [
       "SVC(gamma=0.1, random_state=0)"
      ]
     },
     "execution_count": 20,
     "metadata": {},
     "output_type": "execute_result"
    }
   ],
   "source": [
    "svm = SVC(kernel='rbf', C=1.0, decision_function_shape='ovr', gamma=0.1, random_state=0)\n",
    "svm.fit(X_train, y_train)"
   ]
  },
  {
   "cell_type": "code",
   "execution_count": 21,
   "metadata": {},
   "outputs": [
    {
     "name": "stdout",
     "output_type": "stream",
     "text": [
      "              precision    recall  f1-score   support\n",
      "\n",
      "           0       0.33      0.33      0.33         3\n",
      "           1       0.00      0.00      0.00         4\n",
      "           2       0.68      0.87      0.76        15\n",
      "\n",
      "    accuracy                           0.64        22\n",
      "   macro avg       0.34      0.40      0.37        22\n",
      "weighted avg       0.51      0.64      0.57        22\n",
      "\n"
     ]
    },
    {
     "name": "stderr",
     "output_type": "stream",
     "text": [
      "c:\\Users\\couts\\anaconda3\\envs\\aurawave-data\\lib\\site-packages\\sklearn\\metrics\\_classification.py:1334: UndefinedMetricWarning: Precision and F-score are ill-defined and being set to 0.0 in labels with no predicted samples. Use `zero_division` parameter to control this behavior.\n",
      "  _warn_prf(average, modifier, msg_start, len(result))\n",
      "c:\\Users\\couts\\anaconda3\\envs\\aurawave-data\\lib\\site-packages\\sklearn\\metrics\\_classification.py:1334: UndefinedMetricWarning: Precision and F-score are ill-defined and being set to 0.0 in labels with no predicted samples. Use `zero_division` parameter to control this behavior.\n",
      "  _warn_prf(average, modifier, msg_start, len(result))\n",
      "c:\\Users\\couts\\anaconda3\\envs\\aurawave-data\\lib\\site-packages\\sklearn\\metrics\\_classification.py:1334: UndefinedMetricWarning: Precision and F-score are ill-defined and being set to 0.0 in labels with no predicted samples. Use `zero_division` parameter to control this behavior.\n",
      "  _warn_prf(average, modifier, msg_start, len(result))\n"
     ]
    }
   ],
   "source": [
    "y_pred = svm.predict(X_test)\n",
    "\n",
    "print(classification_report(y_test, y_pred))"
   ]
  },
  {
   "cell_type": "code",
   "execution_count": 22,
   "metadata": {},
   "outputs": [
    {
     "data": {
      "image/png": "[encoded data removed]",
      "text/plain": [
       "<Figure size 640x480 with 2 Axes>"
      ]
     },
     "metadata": {},
     "output_type": "display_data"
    }
   ],
   "source": [
    "cm = confusion_matrix(y_test, y_pred, normalize='true')\n",
    "disp = ConfusionMatrixDisplay(confusion_matrix=cm, display_labels=labels)\n",
    "disp.plot(cmap=plt.cm.Blues)\n",
    "plt.title(\"Confusion Matrix of Model #1\")\n",
    "plt.grid(False)\n",
    "plt.show()"
   ]
  },
  {
   "cell_type": "markdown",
   "metadata": {},
   "source": [
    "Prepare and Train Model using SMOTE"
   ]
  },
  {
   "cell_type": "code",
   "execution_count": 65,
   "metadata": {},
   "outputs": [],
   "source": [
    "from imblearn.over_sampling import SMOTE"
   ]
  },
  {
   "cell_type": "code",
   "execution_count": 66,
   "metadata": {},
   "outputs": [
    {
     "name": "stdout",
     "output_type": "stream",
     "text": [
      "Class     Sum\n",
      "active    26\n",
      "relaxed   11\n",
      "sleepy    51\n",
      "\n",
      "Total: 88\n"
     ]
    }
   ],
   "source": [
    "def get_class_distribution(y):\n",
    "    print(f\"{'Class':<9} {'Sum'}\")\n",
    "    for i in range(len(labels)):\n",
    "        n = np.count_nonzero(y == i)\n",
    "        print(f\"{labels[i]:<9} {n}\")\n",
    "    print(\"\\nTotal:\", len(y))\n",
    "    \n",
    "get_class_distribution(y)"
   ]
  },
  {
   "cell_type": "code",
   "execution_count": 67,
   "metadata": {},
   "outputs": [
    {
     "name": "stdout",
     "output_type": "stream",
     "text": [
      "Class     Sum\n",
      "active    45\n",
      "relaxed   49\n",
      "sleepy    51\n",
      "\n",
      "Total: 145\n"
     ]
    }
   ],
   "source": [
    "def run_sampler(X_data, oversampling_dict):\n",
    "    oversampler = SMOTE(sampling_strategy=oversampling_dict, random_state=0)\n",
    "\n",
    "    X_sample, y_sample = oversampler.fit_resample(X_data, y)\n",
    "    return X_sample, y_sample\n",
    "\n",
    "X_sample, y_sample = run_sampler(X, {0:45, 1:49, 2:51})\n",
    "get_class_distribution(y_sample)"
   ]
  },
  {
   "cell_type": "code",
   "execution_count": 21,
   "metadata": {},
   "outputs": [
    {
     "name": "stdout",
     "output_type": "stream",
     "text": [
      "     Gender  Age         alpha          beta         gamma         theta  \\\n",
      "0         0   57  4.487562e-09  8.151255e-09  3.232289e-08  1.807745e-08   \n",
      "1         0   78  6.760981e-09  9.113942e-08  4.419606e-07  1.837055e-08   \n",
      "2         1   70  6.869602e-09  3.701308e-09  1.263973e-08  1.718834e-08   \n",
      "3         0   67  5.240635e-09  1.678292e-07  4.503802e-07  3.691043e-08   \n",
      "4         1   70  1.503867e-07  1.952402e-07  7.413559e-07  3.448303e-07   \n",
      "..      ...  ...           ...           ...           ...           ...   \n",
      "140       0   74  9.714684e-09  1.963683e-08  2.827320e-08  5.541626e-08   \n",
      "141       0   56  5.533581e-06  7.381361e-06  9.479233e-06  1.613634e-05   \n",
      "142       0   64  1.267616e-05  3.485283e-05  3.194511e-05  3.794349e-05   \n",
      "143       1   71  2.467807e-06  5.127778e-06  4.205567e-06  5.977408e-06   \n",
      "144       0   57  8.871463e-06  1.183781e-05  1.520020e-05  2.588401e-05   \n",
      "\n",
      "            delta  \n",
      "0    1.829355e-07  \n",
      "1    1.923307e-07  \n",
      "2    1.345857e-07  \n",
      "3    2.171671e-06  \n",
      "4    9.152342e-07  \n",
      "..            ...  \n",
      "140  3.169674e-07  \n",
      "141  9.137659e-05  \n",
      "142  3.241100e-05  \n",
      "143  1.391941e-05  \n",
      "144  1.464845e-04  \n",
      "\n",
      "[145 rows x 7 columns]\n",
      "[2 0 1 2 2 2 2 2 1 0 0 0 1 0 2 2 2 2 2 0 2 0 2 2 2 0 2 0 1 2 2 0 0 2 2 1 0\n",
      " 2 2 2 2 0 1 2 2 2 0 0 2 2 2 2 2 2 2 1 1 2 2 2 2 1 2 2 0 0 2 2 0 2 2 1 0 2\n",
      " 0 2 2 2 0 0 2 2 2 0 0 0 1 0 0 0 0 0 0 0 0 0 0 0 0 0 0 0 0 0 0 0 0 1 1 1 1\n",
      " 1 1 1 1 1 1 1 1 1 1 1 1 1 1 1 1 1 1 1 1 1 1 1 1 1 1 1 1 1 1 1 1 1 1]\n"
     ]
    }
   ],
   "source": [
    "le = LabelEncoder()\n",
    "X_sample['Gender'] = le.fit_transform(X_sample['Gender'])\n",
    "print(X_sample)\n",
    "\n",
    "y_sample = le.fit_transform(y_sample)\n",
    "print(y_sample)"
   ]
  },
  {
   "cell_type": "code",
   "execution_count": 22,
   "metadata": {},
   "outputs": [
    {
     "name": "stdout",
     "output_type": "stream",
     "text": [
      "X Train Shape: (108, 7)\n",
      "X Test Shape: (37, 7)\n"
     ]
    }
   ],
   "source": [
    "X_train, X_test, y_train, y_test = train_test_split(X_sample, y_sample, test_size=0.25, random_state=0)\n",
    "\n",
    "sc = StandardScaler()\n",
    "\n",
    "X_train = sc.fit_transform(X_train)\n",
    "X_test = sc.fit_transform(X_test)\n",
    "\n",
    "print(\"X Train Shape:\", X_train.shape)\n",
    "print(\"X Test Shape:\", X_test.shape)"
   ]
  },
  {
   "cell_type": "code",
   "execution_count": 28,
   "metadata": {},
   "outputs": [
    {
     "data": {
      "text/html": [
       "<style>#sk-container-id-3 {color: black;background-color: white;}#sk-container-id-3 pre{padding: 0;}#sk-container-id-3 div.sk-toggleable {background-color: white;}#sk-container-id-3 label.sk-toggleable__label {cursor: pointer;display: block;width: 100%;margin-bottom: 0;padding: 0.3em;box-sizing: border-box;text-align: center;}#sk-container-id-3 label.sk-toggleable__label-arrow:before {content: \"▸\";float: left;margin-right: 0.25em;color: #696969;}#sk-container-id-3 label.sk-toggleable__label-arrow:hover:before {color: black;}#sk-container-id-3 div.sk-estimator:hover label.sk-toggleable__label-arrow:before {color: black;}#sk-container-id-3 div.sk-toggleable__content {max-height: 0;max-width: 0;overflow: hidden;text-align: left;background-color: #f0f8ff;}#sk-container-id-3 div.sk-toggleable__content pre {margin: 0.2em;color: black;border-radius: 0.25em;background-color: #f0f8ff;}#sk-container-id-3 input.sk-toggleable__control:checked~div.sk-toggleable__content {max-height: 200px;max-width: 100%;overflow: auto;}#sk-container-id-3 input.sk-toggleable__control:checked~label.sk-toggleable__label-arrow:before {content: \"▾\";}#sk-container-id-3 div.sk-estimator input.sk-toggleable__control:checked~label.sk-toggleable__label {background-color: #d4ebff;}#sk-container-id-3 div.sk-label input.sk-toggleable__control:checked~label.sk-toggleable__label {background-color: #d4ebff;}#sk-container-id-3 input.sk-hidden--visually {border: 0;clip: rect(1px 1px 1px 1px);clip: rect(1px, 1px, 1px, 1px);height: 1px;margin: -1px;overflow: hidden;padding: 0;position: absolute;width: 1px;}#sk-container-id-3 div.sk-estimator {font-family: monospace;background-color: #f0f8ff;border: 1px dotted black;border-radius: 0.25em;box-sizing: border-box;margin-bottom: 0.5em;}#sk-container-id-3 div.sk-estimator:hover {background-color: #d4ebff;}#sk-container-id-3 div.sk-parallel-item::after {content: \"\";width: 100%;border-bottom: 1px solid gray;flex-grow: 1;}#sk-container-id-3 div.sk-label:hover label.sk-toggleable__label {background-color: #d4ebff;}#sk-container-id-3 div.sk-serial::before {content: \"\";position: absolute;border-left: 1px solid gray;box-sizing: border-box;top: 0;bottom: 0;left: 50%;z-index: 0;}#sk-container-id-3 div.sk-serial {display: flex;flex-direction: column;align-items: center;background-color: white;padding-right: 0.2em;padding-left: 0.2em;position: relative;}#sk-container-id-3 div.sk-item {position: relative;z-index: 1;}#sk-container-id-3 div.sk-parallel {display: flex;align-items: stretch;justify-content: center;background-color: white;position: relative;}#sk-container-id-3 div.sk-item::before, #sk-container-id-3 div.sk-parallel-item::before {content: \"\";position: absolute;border-left: 1px solid gray;box-sizing: border-box;top: 0;bottom: 0;left: 50%;z-index: -1;}#sk-container-id-3 div.sk-parallel-item {display: flex;flex-direction: column;z-index: 1;position: relative;background-color: white;}#sk-container-id-3 div.sk-parallel-item:first-child::after {align-self: flex-end;width: 50%;}#sk-container-id-3 div.sk-parallel-item:last-child::after {align-self: flex-start;width: 50%;}#sk-container-id-3 div.sk-parallel-item:only-child::after {width: 0;}#sk-container-id-3 div.sk-dashed-wrapped {border: 1px dashed gray;margin: 0 0.4em 0.5em 0.4em;box-sizing: border-box;padding-bottom: 0.4em;background-color: white;}#sk-container-id-3 div.sk-label label {font-family: monospace;font-weight: bold;display: inline-block;line-height: 1.2em;}#sk-container-id-3 div.sk-label-container {text-align: center;}#sk-container-id-3 div.sk-container {/* jupyter's `normalize.less` sets `[hidden] { display: none; }` but bootstrap.min.css set `[hidden] { display: none !important; }` so we also need the `!important` here to be able to override the default hidden behavior on the sphinx rendered scikit-learn.org. See: https://github.com/scikit-learn/scikit-learn/issues/21755 */display: inline-block !important;position: relative;}#sk-container-id-3 div.sk-text-repr-fallback {display: none;}</style><div id=\"sk-container-id-3\" class=\"sk-top-container\"><div class=\"sk-text-repr-fallback\"><pre>SVC(gamma=1.0, kernel=&#x27;poly&#x27;, random_state=0)</pre><b>In a Jupyter environment, please rerun this cell to show the HTML representation or trust the notebook. <br />On GitHub, the HTML representation is unable to render, please try loading this page with nbviewer.org.</b></div><div class=\"sk-container\" hidden><div class=\"sk-item\"><div class=\"sk-estimator sk-toggleable\"><input class=\"sk-toggleable__control sk-hidden--visually\" id=\"sk-estimator-id-3\" type=\"checkbox\" checked><label for=\"sk-estimator-id-3\" class=\"sk-toggleable__label sk-toggleable__label-arrow\">SVC</label><div class=\"sk-toggleable__content\"><pre>SVC(gamma=1.0, kernel=&#x27;poly&#x27;, random_state=0)</pre></div></div></div></div></div>"
      ],
      "text/plain": [
       "SVC(gamma=1.0, kernel='poly', random_state=0)"
      ]
     },
     "execution_count": 28,
     "metadata": {},
     "output_type": "execute_result"
    }
   ],
   "source": [
    "svm = SVC(kernel='poly', C=1.0, decision_function_shape='ovr', gamma=1.0, random_state=0)\n",
    "svm.fit(X_train, y_train)"
   ]
  },
  {
   "cell_type": "code",
   "execution_count": 29,
   "metadata": {},
   "outputs": [
    {
     "name": "stdout",
     "output_type": "stream",
     "text": [
      "              precision    recall  f1-score   support\n",
      "\n",
      "           0       0.58      0.78      0.67         9\n",
      "           1       0.60      0.75      0.67        12\n",
      "           2       0.80      0.50      0.62        16\n",
      "\n",
      "    accuracy                           0.65        37\n",
      "   macro avg       0.66      0.68      0.65        37\n",
      "weighted avg       0.68      0.65      0.64        37\n",
      "\n"
     ]
    }
   ],
   "source": [
    "y_pred = svm.predict(X_test)\n",
    "\n",
    "print(classification_report(y_test, y_pred))"
   ]
  },
  {
   "cell_type": "code",
   "execution_count": 30,
   "metadata": {},
   "outputs": [
    {
     "data": {
      "image/png": "[encoded data removed]",
      "text/plain": [
       "<Figure size 640x480 with 2 Axes>"
      ]
     },
     "metadata": {},
     "output_type": "display_data"
    }
   ],
   "source": [
    "cm = confusion_matrix(y_test, y_pred, normalize='true')\n",
    "disp = ConfusionMatrixDisplay(confusion_matrix=cm, display_labels=labels)\n",
    "disp.plot(cmap=plt.cm.Blues)\n",
    "plt.title(\"Confusion Matrix of Model #1\")\n",
    "plt.grid(False)\n",
    "plt.show()"
   ]
  },
  {
   "cell_type": "markdown",
   "metadata": {},
   "source": [
    "Using Random Forest Classifier"
   ]
  },
  {
   "cell_type": "code",
   "execution_count": 23,
   "metadata": {},
   "outputs": [],
   "source": [
    "from sklearn.ensemble import RandomForestClassifier\n",
    "from sklearn.model_selection import RandomizedSearchCV, train_test_split\n",
    "from scipy.stats import randint"
   ]
  },
  {
   "cell_type": "code",
   "execution_count": 119,
   "metadata": {},
   "outputs": [],
   "source": [
    "X_train, X_test, y_train, y_test = train_test_split(X_sample, y_sample, test_size=0.25, random_state=0)"
   ]
  },
  {
   "cell_type": "code",
   "execution_count": 120,
   "metadata": {},
   "outputs": [
    {
     "data": {
      "text/html": [
       "<style>#sk-container-id-29 {color: black;background-color: white;}#sk-container-id-29 pre{padding: 0;}#sk-container-id-29 div.sk-toggleable {background-color: white;}#sk-container-id-29 label.sk-toggleable__label {cursor: pointer;display: block;width: 100%;margin-bottom: 0;padding: 0.3em;box-sizing: border-box;text-align: center;}#sk-container-id-29 label.sk-toggleable__label-arrow:before {content: \"▸\";float: left;margin-right: 0.25em;color: #696969;}#sk-container-id-29 label.sk-toggleable__label-arrow:hover:before {color: black;}#sk-container-id-29 div.sk-estimator:hover label.sk-toggleable__label-arrow:before {color: black;}#sk-container-id-29 div.sk-toggleable__content {max-height: 0;max-width: 0;overflow: hidden;text-align: left;background-color: #f0f8ff;}#sk-container-id-29 div.sk-toggleable__content pre {margin: 0.2em;color: black;border-radius: 0.25em;background-color: #f0f8ff;}#sk-container-id-29 input.sk-toggleable__control:checked~div.sk-toggleable__content {max-height: 200px;max-width: 100%;overflow: auto;}#sk-container-id-29 input.sk-toggleable__control:checked~label.sk-toggleable__label-arrow:before {content: \"▾\";}#sk-container-id-29 div.sk-estimator input.sk-toggleable__control:checked~label.sk-toggleable__label {background-color: #d4ebff;}#sk-container-id-29 div.sk-label input.sk-toggleable__control:checked~label.sk-toggleable__label {background-color: #d4ebff;}#sk-container-id-29 input.sk-hidden--visually {border: 0;clip: rect(1px 1px 1px 1px);clip: rect(1px, 1px, 1px, 1px);height: 1px;margin: -1px;overflow: hidden;padding: 0;position: absolute;width: 1px;}#sk-container-id-29 div.sk-estimator {font-family: monospace;background-color: #f0f8ff;border: 1px dotted black;border-radius: 0.25em;box-sizing: border-box;margin-bottom: 0.5em;}#sk-container-id-29 div.sk-estimator:hover {background-color: #d4ebff;}#sk-container-id-29 div.sk-parallel-item::after {content: \"\";width: 100%;border-bottom: 1px solid gray;flex-grow: 1;}#sk-container-id-29 div.sk-label:hover label.sk-toggleable__label {background-color: #d4ebff;}#sk-container-id-29 div.sk-serial::before {content: \"\";position: absolute;border-left: 1px solid gray;box-sizing: border-box;top: 0;bottom: 0;left: 50%;z-index: 0;}#sk-container-id-29 div.sk-serial {display: flex;flex-direction: column;align-items: center;background-color: white;padding-right: 0.2em;padding-left: 0.2em;position: relative;}#sk-container-id-29 div.sk-item {position: relative;z-index: 1;}#sk-container-id-29 div.sk-parallel {display: flex;align-items: stretch;justify-content: center;background-color: white;position: relative;}#sk-container-id-29 div.sk-item::before, #sk-container-id-29 div.sk-parallel-item::before {content: \"\";position: absolute;border-left: 1px solid gray;box-sizing: border-box;top: 0;bottom: 0;left: 50%;z-index: -1;}#sk-container-id-29 div.sk-parallel-item {display: flex;flex-direction: column;z-index: 1;position: relative;background-color: white;}#sk-container-id-29 div.sk-parallel-item:first-child::after {align-self: flex-end;width: 50%;}#sk-container-id-29 div.sk-parallel-item:last-child::after {align-self: flex-start;width: 50%;}#sk-container-id-29 div.sk-parallel-item:only-child::after {width: 0;}#sk-container-id-29 div.sk-dashed-wrapped {border: 1px dashed gray;margin: 0 0.4em 0.5em 0.4em;box-sizing: border-box;padding-bottom: 0.4em;background-color: white;}#sk-container-id-29 div.sk-label label {font-family: monospace;font-weight: bold;display: inline-block;line-height: 1.2em;}#sk-container-id-29 div.sk-label-container {text-align: center;}#sk-container-id-29 div.sk-container {/* jupyter's `normalize.less` sets `[hidden] { display: none; }` but bootstrap.min.css set `[hidden] { display: none !important; }` so we also need the `!important` here to be able to override the default hidden behavior on the sphinx rendered scikit-learn.org. See: https://github.com/scikit-learn/scikit-learn/issues/21755 */display: inline-block !important;position: relative;}#sk-container-id-29 div.sk-text-repr-fallback {display: none;}</style><div id=\"sk-container-id-29\" class=\"sk-top-container\"><div class=\"sk-text-repr-fallback\"><pre>RandomizedSearchCV(cv=5, estimator=RandomForestClassifier(), n_iter=50,\n",
       "                   param_distributions={&#x27;max_depth&#x27;: &lt;scipy.stats._distn_infrastructure.rv_frozen object at 0x0000021078F7FC40&gt;,\n",
       "                                        &#x27;n_estimators&#x27;: &lt;scipy.stats._distn_infrastructure.rv_frozen object at 0x0000021077BB89A0&gt;})</pre><b>In a Jupyter environment, please rerun this cell to show the HTML representation or trust the notebook. <br />On GitHub, the HTML representation is unable to render, please try loading this page with nbviewer.org.</b></div><div class=\"sk-container\" hidden><div class=\"sk-item sk-dashed-wrapped\"><div class=\"sk-label-container\"><div class=\"sk-label sk-toggleable\"><input class=\"sk-toggleable__control sk-hidden--visually\" id=\"sk-estimator-id-35\" type=\"checkbox\" ><label for=\"sk-estimator-id-35\" class=\"sk-toggleable__label sk-toggleable__label-arrow\">RandomizedSearchCV</label><div class=\"sk-toggleable__content\"><pre>RandomizedSearchCV(cv=5, estimator=RandomForestClassifier(), n_iter=50,\n",
       "                   param_distributions={&#x27;max_depth&#x27;: &lt;scipy.stats._distn_infrastructure.rv_frozen object at 0x0000021078F7FC40&gt;,\n",
       "                                        &#x27;n_estimators&#x27;: &lt;scipy.stats._distn_infrastructure.rv_frozen object at 0x0000021077BB89A0&gt;})</pre></div></div></div><div class=\"sk-parallel\"><div class=\"sk-parallel-item\"><div class=\"sk-item\"><div class=\"sk-label-container\"><div class=\"sk-label sk-toggleable\"><input class=\"sk-toggleable__control sk-hidden--visually\" id=\"sk-estimator-id-36\" type=\"checkbox\" ><label for=\"sk-estimator-id-36\" class=\"sk-toggleable__label sk-toggleable__label-arrow\">estimator: RandomForestClassifier</label><div class=\"sk-toggleable__content\"><pre>RandomForestClassifier()</pre></div></div></div><div class=\"sk-serial\"><div class=\"sk-item\"><div class=\"sk-estimator sk-toggleable\"><input class=\"sk-toggleable__control sk-hidden--visually\" id=\"sk-estimator-id-37\" type=\"checkbox\" ><label for=\"sk-estimator-id-37\" class=\"sk-toggleable__label sk-toggleable__label-arrow\">RandomForestClassifier</label><div class=\"sk-toggleable__content\"><pre>RandomForestClassifier()</pre></div></div></div></div></div></div></div></div></div></div>"
      ],
      "text/plain": [
       "RandomizedSearchCV(cv=5, estimator=RandomForestClassifier(), n_iter=50,\n",
       "                   param_distributions={'max_depth': <scipy.stats._distn_infrastructure.rv_frozen object at 0x0000021078F7FC40>,\n",
       "                                        'n_estimators': <scipy.stats._distn_infrastructure.rv_frozen object at 0x0000021077BB89A0>})"
      ]
     },
     "execution_count": 120,
     "metadata": {},
     "output_type": "execute_result"
    }
   ],
   "source": [
    "param_dist = {'n_estimators': randint(50,500),\n",
    "              'max_depth': randint(1,20)}\n",
    "\n",
    "# Create a random forest classifier\n",
    "rf = RandomForestClassifier()\n",
    "\n",
    "# Use random search to find the best hyperparameters\n",
    "random_search = RandomizedSearchCV(rf, \n",
    "                                 param_distributions = param_dist, \n",
    "                                 n_iter=50, \n",
    "                                 cv=5)\n",
    "\n",
    "# Fit the random search object to the data\n",
    "random_search.fit(X_train, y_train)"
   ]
  },
  {
   "cell_type": "code",
   "execution_count": 121,
   "metadata": {},
   "outputs": [
    {
     "name": "stdout",
     "output_type": "stream",
     "text": [
      "Best hyperparameters: {'max_depth': 13, 'n_estimators': 323}\n"
     ]
    }
   ],
   "source": [
    "best_rf = random_search.best_estimator_\n",
    "\n",
    "print('Best hyperparameters:',  random_search.best_params_)"
   ]
  },
  {
   "cell_type": "code",
   "execution_count": 122,
   "metadata": {},
   "outputs": [
    {
     "name": "stdout",
     "output_type": "stream",
     "text": [
      "              precision    recall  f1-score   support\n",
      "\n",
      "           0       0.75      1.00      0.86         9\n",
      "           1       0.75      0.75      0.75        12\n",
      "           2       0.77      0.62      0.69        16\n",
      "\n",
      "    accuracy                           0.76        37\n",
      "   macro avg       0.76      0.79      0.77        37\n",
      "weighted avg       0.76      0.76      0.75        37\n",
      "\n"
     ]
    }
   ],
   "source": [
    "y_pred = best_rf.predict(X_test)\n",
    "\n",
    "print(classification_report(y_test, y_pred))"
   ]
  },
  {
   "cell_type": "code",
   "execution_count": 123,
   "metadata": {},
   "outputs": [
    {
     "data": {
      "image/png": "[encoded data removed]",
      "text/plain": [
       "<Figure size 640x480 with 2 Axes>"
      ]
     },
     "metadata": {},
     "output_type": "display_data"
    }
   ],
   "source": [
    "cm = confusion_matrix(y_test, y_pred, normalize='true')\n",
    "disp = ConfusionMatrixDisplay(confusion_matrix=cm, display_labels=labels)\n",
    "disp.plot(cmap=plt.cm.Blues)\n",
    "plt.title(\"Confusion Matrix of Model #1\")\n",
    "plt.grid(False)\n",
    "plt.show()"
   ]
  },
  {
   "cell_type": "markdown",
   "metadata": {},
   "source": [
    "This new model is the best so far but is unable to learn a very clear distinction between Relaxed and Sleepy. But it is able to learn a very clear distinction for Active"
   ]
  },
  {
   "cell_type": "markdown",
   "metadata": {},
   "source": [
    "Use Extreme Gradient Boosting (Preparation into Pipeline)"
   ]
  },
  {
   "cell_type": "code",
   "execution_count": 68,
   "metadata": {},
   "outputs": [],
   "source": [
    "from sklearn.utils.class_weight import compute_sample_weight\n",
    "from xgboost import XGBClassifier"
   ]
  },
  {
   "cell_type": "code",
   "execution_count": 69,
   "metadata": {},
   "outputs": [],
   "source": [
    "X_train, X_test, y_train, y_test = train_test_split(X_sample, y_sample, test_size=0.25, random_state=0)"
   ]
  },
  {
   "cell_type": "code",
   "execution_count": 76,
   "metadata": {},
   "outputs": [
    {
     "name": "stdout",
     "output_type": "stream",
     "text": [
      "              precision    recall  f1-score   support\n",
      "\n",
      "      active       0.80      0.89      0.84         9\n",
      "     relaxed       0.91      0.83      0.87        12\n",
      "      sleepy       0.81      0.81      0.81        16\n",
      "\n",
      "    accuracy                           0.84        37\n",
      "   macro avg       0.84      0.84      0.84        37\n",
      "weighted avg       0.84      0.84      0.84        37\n",
      "\n"
     ]
    }
   ],
   "source": [
    "class_weights = {0:0.8, 1:1.5, 2:12}\n",
    "sample_weights = compute_sample_weight(class_weight=class_weights, y=y_train)\n",
    "\n",
    "xgb_model = XGBClassifier(colsample_bytree=0.8, gamma=1.1, learning_rate=0.05, max_depth=200, min_child_weight=0.1, n_estimators=500, num_class=len(labels), objective='multi:softprob')\n",
    "xgb_model.fit(X_train, y_train, sample_weight=sample_weights)\n",
    "\n",
    "y_pred = xgb_model.predict(X_test)\n",
    "print(classification_report(y_test, y_pred, target_names=labels))"
   ]
  },
  {
   "cell_type": "code",
   "execution_count": 23,
   "metadata": {},
   "outputs": [],
   "source": [
    "# cm = confusion_matrix(y_test, y_pred, normalize='true')\n",
    "# disp = ConfusionMatrixDisplay(confusion_matrix=cm, display_labels=labels)\n",
    "# disp.plot(cmap=plt.cm.Blues)\n",
    "# plt.title(\"Confusion Matrix of Model #4\")\n",
    "# plt.grid(False)\n",
    "# plt.show()"
   ]
  },
  {
   "cell_type": "markdown",
   "metadata": {},
   "source": [
    "Build Pipeline for Model Deployment"
   ]
  },
  {
   "cell_type": "code",
   "execution_count": 46,
   "metadata": {},
   "outputs": [],
   "source": [
    "from sklearn.pipeline import Pipeline\n",
    "from sklearn import set_config\n",
    "from sklearn.compose import ColumnTransformer\n",
    "from sklearn.preprocessing import OrdinalEncoder"
   ]
  },
  {
   "cell_type": "code",
   "execution_count": 51,
   "metadata": {},
   "outputs": [
    {
     "data": {
      "text/html": [
       "<style>#sk-container-id-5 {color: black;background-color: white;}#sk-container-id-5 pre{padding: 0;}#sk-container-id-5 div.sk-toggleable {background-color: white;}#sk-container-id-5 label.sk-toggleable__label {cursor: pointer;display: block;width: 100%;margin-bottom: 0;padding: 0.3em;box-sizing: border-box;text-align: center;}#sk-container-id-5 label.sk-toggleable__label-arrow:before {content: \"▸\";float: left;margin-right: 0.25em;color: #696969;}#sk-container-id-5 label.sk-toggleable__label-arrow:hover:before {color: black;}#sk-container-id-5 div.sk-estimator:hover label.sk-toggleable__label-arrow:before {color: black;}#sk-container-id-5 div.sk-toggleable__content {max-height: 0;max-width: 0;overflow: hidden;text-align: left;background-color: #f0f8ff;}#sk-container-id-5 div.sk-toggleable__content pre {margin: 0.2em;color: black;border-radius: 0.25em;background-color: #f0f8ff;}#sk-container-id-5 input.sk-toggleable__control:checked~div.sk-toggleable__content {max-height: 200px;max-width: 100%;overflow: auto;}#sk-container-id-5 input.sk-toggleable__control:checked~label.sk-toggleable__label-arrow:before {content: \"▾\";}#sk-container-id-5 div.sk-estimator input.sk-toggleable__control:checked~label.sk-toggleable__label {background-color: #d4ebff;}#sk-container-id-5 div.sk-label input.sk-toggleable__control:checked~label.sk-toggleable__label {background-color: #d4ebff;}#sk-container-id-5 input.sk-hidden--visually {border: 0;clip: rect(1px 1px 1px 1px);clip: rect(1px, 1px, 1px, 1px);height: 1px;margin: -1px;overflow: hidden;padding: 0;position: absolute;width: 1px;}#sk-container-id-5 div.sk-estimator {font-family: monospace;background-color: #f0f8ff;border: 1px dotted black;border-radius: 0.25em;box-sizing: border-box;margin-bottom: 0.5em;}#sk-container-id-5 div.sk-estimator:hover {background-color: #d4ebff;}#sk-container-id-5 div.sk-parallel-item::after {content: \"\";width: 100%;border-bottom: 1px solid gray;flex-grow: 1;}#sk-container-id-5 div.sk-label:hover label.sk-toggleable__label {background-color: #d4ebff;}#sk-container-id-5 div.sk-serial::before {content: \"\";position: absolute;border-left: 1px solid gray;box-sizing: border-box;top: 0;bottom: 0;left: 50%;z-index: 0;}#sk-container-id-5 div.sk-serial {display: flex;flex-direction: column;align-items: center;background-color: white;padding-right: 0.2em;padding-left: 0.2em;position: relative;}#sk-container-id-5 div.sk-item {position: relative;z-index: 1;}#sk-container-id-5 div.sk-parallel {display: flex;align-items: stretch;justify-content: center;background-color: white;position: relative;}#sk-container-id-5 div.sk-item::before, #sk-container-id-5 div.sk-parallel-item::before {content: \"\";position: absolute;border-left: 1px solid gray;box-sizing: border-box;top: 0;bottom: 0;left: 50%;z-index: -1;}#sk-container-id-5 div.sk-parallel-item {display: flex;flex-direction: column;z-index: 1;position: relative;background-color: white;}#sk-container-id-5 div.sk-parallel-item:first-child::after {align-self: flex-end;width: 50%;}#sk-container-id-5 div.sk-parallel-item:last-child::after {align-self: flex-start;width: 50%;}#sk-container-id-5 div.sk-parallel-item:only-child::after {width: 0;}#sk-container-id-5 div.sk-dashed-wrapped {border: 1px dashed gray;margin: 0 0.4em 0.5em 0.4em;box-sizing: border-box;padding-bottom: 0.4em;background-color: white;}#sk-container-id-5 div.sk-label label {font-family: monospace;font-weight: bold;display: inline-block;line-height: 1.2em;}#sk-container-id-5 div.sk-label-container {text-align: center;}#sk-container-id-5 div.sk-container {/* jupyter's `normalize.less` sets `[hidden] { display: none; }` but bootstrap.min.css set `[hidden] { display: none !important; }` so we also need the `!important` here to be able to override the default hidden behavior on the sphinx rendered scikit-learn.org. See: https://github.com/scikit-learn/scikit-learn/issues/21755 */display: inline-block !important;position: relative;}#sk-container-id-5 div.sk-text-repr-fallback {display: none;}</style><div id=\"sk-container-id-5\" class=\"sk-top-container\"><div class=\"sk-text-repr-fallback\"><pre>Pipeline(steps=[(&#x27;preprocessor&#x27;,\n",
       "                 ColumnTransformer(transformers=[(&#x27;cat_x&#x27;,\n",
       "                                                  OrdinalEncoder(categories=[[&#x27;F&#x27;,\n",
       "                                                                              &#x27;M&#x27;]]),\n",
       "                                                  [&#x27;Gender&#x27;]),\n",
       "                                                 (&#x27;num&#x27;, StandardScaler(),\n",
       "                                                  [&#x27;Gender&#x27;, &#x27;Age&#x27;, &#x27;alpha&#x27;,\n",
       "                                                   &#x27;beta&#x27;, &#x27;gamma&#x27;, &#x27;theta&#x27;,\n",
       "                                                   &#x27;delta&#x27;])])),\n",
       "                (&#x27;model&#x27;,\n",
       "                 XGBClassifier(base_score=None, booster=None, callbacks=None,\n",
       "                               colsample_bylevel=None, colsample_bynode=None,\n",
       "                               colsample_bytree=0.7, device=No...\n",
       "                               feature_types=None, gamma=1.1, grow_policy=None,\n",
       "                               importance_type=None,\n",
       "                               interaction_constraints=None, learning_rate=0.05,\n",
       "                               max_bin=None, max_cat_threshold=None,\n",
       "                               max_cat_to_onehot=None, max_delta_step=None,\n",
       "                               max_depth=200, max_leaves=None,\n",
       "                               min_child_weight=0.1, missing=nan,\n",
       "                               monotone_constraints=None, multi_strategy=None,\n",
       "                               n_estimators=500, n_jobs=None, num_class=3,\n",
       "                               num_parallel_tree=None, ...))])</pre><b>In a Jupyter environment, please rerun this cell to show the HTML representation or trust the notebook. <br />On GitHub, the HTML representation is unable to render, please try loading this page with nbviewer.org.</b></div><div class=\"sk-container\" hidden><div class=\"sk-item sk-dashed-wrapped\"><div class=\"sk-label-container\"><div class=\"sk-label sk-toggleable\"><input class=\"sk-toggleable__control sk-hidden--visually\" id=\"sk-estimator-id-29\" type=\"checkbox\" ><label for=\"sk-estimator-id-29\" class=\"sk-toggleable__label sk-toggleable__label-arrow\">Pipeline</label><div class=\"sk-toggleable__content\"><pre>Pipeline(steps=[(&#x27;preprocessor&#x27;,\n",
       "                 ColumnTransformer(transformers=[(&#x27;cat_x&#x27;,\n",
       "                                                  OrdinalEncoder(categories=[[&#x27;F&#x27;,\n",
       "                                                                              &#x27;M&#x27;]]),\n",
       "                                                  [&#x27;Gender&#x27;]),\n",
       "                                                 (&#x27;num&#x27;, StandardScaler(),\n",
       "                                                  [&#x27;Gender&#x27;, &#x27;Age&#x27;, &#x27;alpha&#x27;,\n",
       "                                                   &#x27;beta&#x27;, &#x27;gamma&#x27;, &#x27;theta&#x27;,\n",
       "                                                   &#x27;delta&#x27;])])),\n",
       "                (&#x27;model&#x27;,\n",
       "                 XGBClassifier(base_score=None, booster=None, callbacks=None,\n",
       "                               colsample_bylevel=None, colsample_bynode=None,\n",
       "                               colsample_bytree=0.7, device=No...\n",
       "                               feature_types=None, gamma=1.1, grow_policy=None,\n",
       "                               importance_type=None,\n",
       "                               interaction_constraints=None, learning_rate=0.05,\n",
       "                               max_bin=None, max_cat_threshold=None,\n",
       "                               max_cat_to_onehot=None, max_delta_step=None,\n",
       "                               max_depth=200, max_leaves=None,\n",
       "                               min_child_weight=0.1, missing=nan,\n",
       "                               monotone_constraints=None, multi_strategy=None,\n",
       "                               n_estimators=500, n_jobs=None, num_class=3,\n",
       "                               num_parallel_tree=None, ...))])</pre></div></div></div><div class=\"sk-serial\"><div class=\"sk-item sk-dashed-wrapped\"><div class=\"sk-label-container\"><div class=\"sk-label sk-toggleable\"><input class=\"sk-toggleable__control sk-hidden--visually\" id=\"sk-estimator-id-30\" type=\"checkbox\" ><label for=\"sk-estimator-id-30\" class=\"sk-toggleable__label sk-toggleable__label-arrow\">preprocessor: ColumnTransformer</label><div class=\"sk-toggleable__content\"><pre>ColumnTransformer(transformers=[(&#x27;cat_x&#x27;,\n",
       "                                 OrdinalEncoder(categories=[[&#x27;F&#x27;, &#x27;M&#x27;]]),\n",
       "                                 [&#x27;Gender&#x27;]),\n",
       "                                (&#x27;num&#x27;, StandardScaler(),\n",
       "                                 [&#x27;Gender&#x27;, &#x27;Age&#x27;, &#x27;alpha&#x27;, &#x27;beta&#x27;, &#x27;gamma&#x27;,\n",
       "                                  &#x27;theta&#x27;, &#x27;delta&#x27;])])</pre></div></div></div><div class=\"sk-parallel\"><div class=\"sk-parallel-item\"><div class=\"sk-item\"><div class=\"sk-label-container\"><div class=\"sk-label sk-toggleable\"><input class=\"sk-toggleable__control sk-hidden--visually\" id=\"sk-estimator-id-31\" type=\"checkbox\" ><label for=\"sk-estimator-id-31\" class=\"sk-toggleable__label sk-toggleable__label-arrow\">cat_x</label><div class=\"sk-toggleable__content\"><pre>[&#x27;Gender&#x27;]</pre></div></div></div><div class=\"sk-serial\"><div class=\"sk-item\"><div class=\"sk-estimator sk-toggleable\"><input class=\"sk-toggleable__control sk-hidden--visually\" id=\"sk-estimator-id-32\" type=\"checkbox\" ><label for=\"sk-estimator-id-32\" class=\"sk-toggleable__label sk-toggleable__label-arrow\">OrdinalEncoder</label><div class=\"sk-toggleable__content\"><pre>OrdinalEncoder(categories=[[&#x27;F&#x27;, &#x27;M&#x27;]])</pre></div></div></div></div></div></div><div class=\"sk-parallel-item\"><div class=\"sk-item\"><div class=\"sk-label-container\"><div class=\"sk-label sk-toggleable\"><input class=\"sk-toggleable__control sk-hidden--visually\" id=\"sk-estimator-id-33\" type=\"checkbox\" ><label for=\"sk-estimator-id-33\" class=\"sk-toggleable__label sk-toggleable__label-arrow\">num</label><div class=\"sk-toggleable__content\"><pre>[&#x27;Gender&#x27;, &#x27;Age&#x27;, &#x27;alpha&#x27;, &#x27;beta&#x27;, &#x27;gamma&#x27;, &#x27;theta&#x27;, &#x27;delta&#x27;]</pre></div></div></div><div class=\"sk-serial\"><div class=\"sk-item\"><div class=\"sk-estimator sk-toggleable\"><input class=\"sk-toggleable__control sk-hidden--visually\" id=\"sk-estimator-id-34\" type=\"checkbox\" ><label for=\"sk-estimator-id-34\" class=\"sk-toggleable__label sk-toggleable__label-arrow\">StandardScaler</label><div class=\"sk-toggleable__content\"><pre>StandardScaler()</pre></div></div></div></div></div></div></div></div><div class=\"sk-item\"><div class=\"sk-estimator sk-toggleable\"><input class=\"sk-toggleable__control sk-hidden--visually\" id=\"sk-estimator-id-35\" type=\"checkbox\" ><label for=\"sk-estimator-id-35\" class=\"sk-toggleable__label sk-toggleable__label-arrow\">XGBClassifier</label><div class=\"sk-toggleable__content\"><pre>XGBClassifier(base_score=None, booster=None, callbacks=None,\n",
       "              colsample_bylevel=None, colsample_bynode=None,\n",
       "              colsample_bytree=0.7, device=None, early_stopping_rounds=None,\n",
       "              enable_categorical=False, eval_metric=None, feature_types=None,\n",
       "              gamma=1.1, grow_policy=None, importance_type=None,\n",
       "              interaction_constraints=None, learning_rate=0.05, max_bin=None,\n",
       "              max_cat_threshold=None, max_cat_to_onehot=None,\n",
       "              max_delta_step=None, max_depth=200, max_leaves=None,\n",
       "              min_child_weight=0.1, missing=nan, monotone_constraints=None,\n",
       "              multi_strategy=None, n_estimators=500, n_jobs=None, num_class=3,\n",
       "              num_parallel_tree=None, ...)</pre></div></div></div></div></div></div></div>"
      ],
      "text/plain": [
       "Pipeline(steps=[('preprocessor',\n",
       "                 ColumnTransformer(transformers=[('cat_x',\n",
       "                                                  OrdinalEncoder(categories=[['F',\n",
       "                                                                              'M']]),\n",
       "                                                  ['Gender']),\n",
       "                                                 ('num', StandardScaler(),\n",
       "                                                  ['Gender', 'Age', 'alpha',\n",
       "                                                   'beta', 'gamma', 'theta',\n",
       "                                                   'delta'])])),\n",
       "                ('model',\n",
       "                 XGBClassifier(base_score=None, booster=None, callbacks=None,\n",
       "                               colsample_bylevel=None, colsample_bynode=None,\n",
       "                               colsample_bytree=0.7, device=No...\n",
       "                               feature_types=None, gamma=1.1, grow_policy=None,\n",
       "                               importance_type=None,\n",
       "                               interaction_constraints=None, learning_rate=0.05,\n",
       "                               max_bin=None, max_cat_threshold=None,\n",
       "                               max_cat_to_onehot=None, max_delta_step=None,\n",
       "                               max_depth=200, max_leaves=None,\n",
       "                               min_child_weight=0.1, missing=nan,\n",
       "                               monotone_constraints=None, multi_strategy=None,\n",
       "                               n_estimators=500, n_jobs=None, num_class=3,\n",
       "                               num_parallel_tree=None, ...))])"
      ]
     },
     "execution_count": 51,
     "metadata": {},
     "output_type": "execute_result"
    }
   ],
   "source": [
    "# categorical_processor = Pipeline(steps=[('label_encoder', LabelEncoder(), ['Gender']),\n",
    "#                                         ('ordinal_encoder', OrdinalEncoder(categories=[labels]), ['active_level'])])\n",
    "\n",
    "preprocessor_transformer = ColumnTransformer(transformers=[(\"cat_x\", OrdinalEncoder(categories=[['F', 'M']]), ['Gender']),\n",
    "                                                           (\"num\", StandardScaler(), ['Gender', 'Age', 'alpha', 'beta', 'gamma', 'theta', 'delta'])])\n",
    "\n",
    "pipe = Pipeline(steps=[('preprocessor', preprocessor_transformer),\n",
    "                       ('model', xgb_model)])\n",
    "\n",
    "set_config(display=\"diagram\")\n",
    "\n",
    "pipe"
   ]
  },
  {
   "cell_type": "code",
   "execution_count": 52,
   "metadata": {},
   "outputs": [
    {
     "ename": "ValueError",
     "evalue": "could not convert string to float: 'F'",
     "output_type": "error",
     "traceback": [
      "\u001b[1;31m---------------------------------------------------------------------------\u001b[0m",
      "\u001b[1;31mValueError\u001b[0m                                Traceback (most recent call last)",
      "Cell \u001b[1;32mIn[52], line 1\u001b[0m\n\u001b[1;32m----> 1\u001b[0m pipe\u001b[38;5;241m.\u001b[39mfit(X_train, y_train, \u001b[38;5;241m*\u001b[39m\u001b[38;5;241m*\u001b[39m{\u001b[38;5;124m'\u001b[39m\u001b[38;5;124mmodel__sample_weight\u001b[39m\u001b[38;5;124m'\u001b[39m: sample_weights})\n",
      "File \u001b[1;32mc:\\Users\\couts\\anaconda3\\envs\\aurawave-data\\lib\\site-packages\\sklearn\\pipeline.py:378\u001b[0m, in \u001b[0;36mPipeline.fit\u001b[1;34m(self, X, y, **fit_params)\u001b[0m\n\u001b[0;32m    352\u001b[0m \u001b[38;5;250m\u001b[39m\u001b[38;5;124;03m\"\"\"Fit the model.\u001b[39;00m\n\u001b[0;32m    353\u001b[0m \n\u001b[0;32m    354\u001b[0m \u001b[38;5;124;03mFit all the transformers one after the other and transform the\u001b[39;00m\n\u001b[1;32m   (...)\u001b[0m\n\u001b[0;32m    375\u001b[0m \u001b[38;5;124;03m    Pipeline with fitted steps.\u001b[39;00m\n\u001b[0;32m    376\u001b[0m \u001b[38;5;124;03m\"\"\"\u001b[39;00m\n\u001b[0;32m    377\u001b[0m fit_params_steps \u001b[38;5;241m=\u001b[39m \u001b[38;5;28mself\u001b[39m\u001b[38;5;241m.\u001b[39m_check_fit_params(\u001b[38;5;241m*\u001b[39m\u001b[38;5;241m*\u001b[39mfit_params)\n\u001b[1;32m--> 378\u001b[0m Xt \u001b[38;5;241m=\u001b[39m \u001b[38;5;28mself\u001b[39m\u001b[38;5;241m.\u001b[39m_fit(X, y, \u001b[38;5;241m*\u001b[39m\u001b[38;5;241m*\u001b[39mfit_params_steps)\n\u001b[0;32m    379\u001b[0m \u001b[38;5;28;01mwith\u001b[39;00m _print_elapsed_time(\u001b[38;5;124m\"\u001b[39m\u001b[38;5;124mPipeline\u001b[39m\u001b[38;5;124m\"\u001b[39m, \u001b[38;5;28mself\u001b[39m\u001b[38;5;241m.\u001b[39m_log_message(\u001b[38;5;28mlen\u001b[39m(\u001b[38;5;28mself\u001b[39m\u001b[38;5;241m.\u001b[39msteps) \u001b[38;5;241m-\u001b[39m \u001b[38;5;241m1\u001b[39m)):\n\u001b[0;32m    380\u001b[0m     \u001b[38;5;28;01mif\u001b[39;00m \u001b[38;5;28mself\u001b[39m\u001b[38;5;241m.\u001b[39m_final_estimator \u001b[38;5;241m!=\u001b[39m \u001b[38;5;124m\"\u001b[39m\u001b[38;5;124mpassthrough\u001b[39m\u001b[38;5;124m\"\u001b[39m:\n",
      "File \u001b[1;32mc:\\Users\\couts\\anaconda3\\envs\\aurawave-data\\lib\\site-packages\\sklearn\\pipeline.py:336\u001b[0m, in \u001b[0;36mPipeline._fit\u001b[1;34m(self, X, y, **fit_params_steps)\u001b[0m\n\u001b[0;32m    334\u001b[0m     cloned_transformer \u001b[38;5;241m=\u001b[39m clone(transformer)\n\u001b[0;32m    335\u001b[0m \u001b[38;5;66;03m# Fit or load from cache the current transformer\u001b[39;00m\n\u001b[1;32m--> 336\u001b[0m X, fitted_transformer \u001b[38;5;241m=\u001b[39m fit_transform_one_cached(\n\u001b[0;32m    337\u001b[0m     cloned_transformer,\n\u001b[0;32m    338\u001b[0m     X,\n\u001b[0;32m    339\u001b[0m     y,\n\u001b[0;32m    340\u001b[0m     \u001b[38;5;28;01mNone\u001b[39;00m,\n\u001b[0;32m    341\u001b[0m     message_clsname\u001b[38;5;241m=\u001b[39m\u001b[38;5;124m\"\u001b[39m\u001b[38;5;124mPipeline\u001b[39m\u001b[38;5;124m\"\u001b[39m,\n\u001b[0;32m    342\u001b[0m     message\u001b[38;5;241m=\u001b[39m\u001b[38;5;28mself\u001b[39m\u001b[38;5;241m.\u001b[39m_log_message(step_idx),\n\u001b[0;32m    343\u001b[0m     \u001b[38;5;241m*\u001b[39m\u001b[38;5;241m*\u001b[39mfit_params_steps[name],\n\u001b[0;32m    344\u001b[0m )\n\u001b[0;32m    345\u001b[0m \u001b[38;5;66;03m# Replace the transformer of the step with the fitted\u001b[39;00m\n\u001b[0;32m    346\u001b[0m \u001b[38;5;66;03m# transformer. This is necessary when loading the transformer\u001b[39;00m\n\u001b[0;32m    347\u001b[0m \u001b[38;5;66;03m# from the cache.\u001b[39;00m\n\u001b[0;32m    348\u001b[0m \u001b[38;5;28mself\u001b[39m\u001b[38;5;241m.\u001b[39msteps[step_idx] \u001b[38;5;241m=\u001b[39m (name, fitted_transformer)\n",
      "File \u001b[1;32mc:\\Users\\couts\\anaconda3\\envs\\aurawave-data\\lib\\site-packages\\joblib\\memory.py:353\u001b[0m, in \u001b[0;36mNotMemorizedFunc.__call__\u001b[1;34m(self, *args, **kwargs)\u001b[0m\n\u001b[0;32m    352\u001b[0m \u001b[38;5;28;01mdef\u001b[39;00m \u001b[38;5;21m__call__\u001b[39m(\u001b[38;5;28mself\u001b[39m, \u001b[38;5;241m*\u001b[39margs, \u001b[38;5;241m*\u001b[39m\u001b[38;5;241m*\u001b[39mkwargs):\n\u001b[1;32m--> 353\u001b[0m     \u001b[38;5;28;01mreturn\u001b[39;00m \u001b[38;5;28mself\u001b[39m\u001b[38;5;241m.\u001b[39mfunc(\u001b[38;5;241m*\u001b[39margs, \u001b[38;5;241m*\u001b[39m\u001b[38;5;241m*\u001b[39mkwargs)\n",
      "File \u001b[1;32mc:\\Users\\couts\\anaconda3\\envs\\aurawave-data\\lib\\site-packages\\sklearn\\pipeline.py:870\u001b[0m, in \u001b[0;36m_fit_transform_one\u001b[1;34m(transformer, X, y, weight, message_clsname, message, **fit_params)\u001b[0m\n\u001b[0;32m    868\u001b[0m \u001b[38;5;28;01mwith\u001b[39;00m _print_elapsed_time(message_clsname, message):\n\u001b[0;32m    869\u001b[0m     \u001b[38;5;28;01mif\u001b[39;00m \u001b[38;5;28mhasattr\u001b[39m(transformer, \u001b[38;5;124m\"\u001b[39m\u001b[38;5;124mfit_transform\u001b[39m\u001b[38;5;124m\"\u001b[39m):\n\u001b[1;32m--> 870\u001b[0m         res \u001b[38;5;241m=\u001b[39m transformer\u001b[38;5;241m.\u001b[39mfit_transform(X, y, \u001b[38;5;241m*\u001b[39m\u001b[38;5;241m*\u001b[39mfit_params)\n\u001b[0;32m    871\u001b[0m     \u001b[38;5;28;01melse\u001b[39;00m:\n\u001b[0;32m    872\u001b[0m         res \u001b[38;5;241m=\u001b[39m transformer\u001b[38;5;241m.\u001b[39mfit(X, y, \u001b[38;5;241m*\u001b[39m\u001b[38;5;241m*\u001b[39mfit_params)\u001b[38;5;241m.\u001b[39mtransform(X)\n",
      "File \u001b[1;32mc:\\Users\\couts\\anaconda3\\envs\\aurawave-data\\lib\\site-packages\\sklearn\\compose\\_column_transformer.py:690\u001b[0m, in \u001b[0;36mColumnTransformer.fit_transform\u001b[1;34m(self, X, y)\u001b[0m\n\u001b[0;32m    687\u001b[0m \u001b[38;5;28mself\u001b[39m\u001b[38;5;241m.\u001b[39m_validate_column_callables(X)\n\u001b[0;32m    688\u001b[0m \u001b[38;5;28mself\u001b[39m\u001b[38;5;241m.\u001b[39m_validate_remainder(X)\n\u001b[1;32m--> 690\u001b[0m result \u001b[38;5;241m=\u001b[39m \u001b[38;5;28;43mself\u001b[39;49m\u001b[38;5;241;43m.\u001b[39;49m\u001b[43m_fit_transform\u001b[49m\u001b[43m(\u001b[49m\u001b[43mX\u001b[49m\u001b[43m,\u001b[49m\u001b[43m \u001b[49m\u001b[43my\u001b[49m\u001b[43m,\u001b[49m\u001b[43m \u001b[49m\u001b[43m_fit_transform_one\u001b[49m\u001b[43m)\u001b[49m\n\u001b[0;32m    692\u001b[0m \u001b[38;5;28;01mif\u001b[39;00m \u001b[38;5;129;01mnot\u001b[39;00m result:\n\u001b[0;32m    693\u001b[0m     \u001b[38;5;28mself\u001b[39m\u001b[38;5;241m.\u001b[39m_update_fitted_transformers([])\n",
      "File \u001b[1;32mc:\\Users\\couts\\anaconda3\\envs\\aurawave-data\\lib\\site-packages\\sklearn\\compose\\_column_transformer.py:621\u001b[0m, in \u001b[0;36mColumnTransformer._fit_transform\u001b[1;34m(self, X, y, func, fitted, column_as_strings)\u001b[0m\n\u001b[0;32m    615\u001b[0m transformers \u001b[38;5;241m=\u001b[39m \u001b[38;5;28mlist\u001b[39m(\n\u001b[0;32m    616\u001b[0m     \u001b[38;5;28mself\u001b[39m\u001b[38;5;241m.\u001b[39m_iter(\n\u001b[0;32m    617\u001b[0m         fitted\u001b[38;5;241m=\u001b[39mfitted, replace_strings\u001b[38;5;241m=\u001b[39m\u001b[38;5;28;01mTrue\u001b[39;00m, column_as_strings\u001b[38;5;241m=\u001b[39mcolumn_as_strings\n\u001b[0;32m    618\u001b[0m     )\n\u001b[0;32m    619\u001b[0m )\n\u001b[0;32m    620\u001b[0m \u001b[38;5;28;01mtry\u001b[39;00m:\n\u001b[1;32m--> 621\u001b[0m     \u001b[38;5;28;01mreturn\u001b[39;00m \u001b[43mParallel\u001b[49m\u001b[43m(\u001b[49m\u001b[43mn_jobs\u001b[49m\u001b[38;5;241;43m=\u001b[39;49m\u001b[38;5;28;43mself\u001b[39;49m\u001b[38;5;241;43m.\u001b[39;49m\u001b[43mn_jobs\u001b[49m\u001b[43m)\u001b[49m\u001b[43m(\u001b[49m\n\u001b[0;32m    622\u001b[0m \u001b[43m        \u001b[49m\u001b[43mdelayed\u001b[49m\u001b[43m(\u001b[49m\u001b[43mfunc\u001b[49m\u001b[43m)\u001b[49m\u001b[43m(\u001b[49m\n\u001b[0;32m    623\u001b[0m \u001b[43m            \u001b[49m\u001b[43mtransformer\u001b[49m\u001b[38;5;241;43m=\u001b[39;49m\u001b[43mclone\u001b[49m\u001b[43m(\u001b[49m\u001b[43mtrans\u001b[49m\u001b[43m)\u001b[49m\u001b[43m \u001b[49m\u001b[38;5;28;43;01mif\u001b[39;49;00m\u001b[43m \u001b[49m\u001b[38;5;129;43;01mnot\u001b[39;49;00m\u001b[43m \u001b[49m\u001b[43mfitted\u001b[49m\u001b[43m \u001b[49m\u001b[38;5;28;43;01melse\u001b[39;49;00m\u001b[43m \u001b[49m\u001b[43mtrans\u001b[49m\u001b[43m,\u001b[49m\n\u001b[0;32m    624\u001b[0m \u001b[43m            \u001b[49m\u001b[43mX\u001b[49m\u001b[38;5;241;43m=\u001b[39;49m\u001b[43m_safe_indexing\u001b[49m\u001b[43m(\u001b[49m\u001b[43mX\u001b[49m\u001b[43m,\u001b[49m\u001b[43m \u001b[49m\u001b[43mcolumn\u001b[49m\u001b[43m,\u001b[49m\u001b[43m \u001b[49m\u001b[43maxis\u001b[49m\u001b[38;5;241;43m=\u001b[39;49m\u001b[38;5;241;43m1\u001b[39;49m\u001b[43m)\u001b[49m\u001b[43m,\u001b[49m\n\u001b[0;32m    625\u001b[0m \u001b[43m            \u001b[49m\u001b[43my\u001b[49m\u001b[38;5;241;43m=\u001b[39;49m\u001b[43my\u001b[49m\u001b[43m,\u001b[49m\n\u001b[0;32m    626\u001b[0m \u001b[43m            \u001b[49m\u001b[43mweight\u001b[49m\u001b[38;5;241;43m=\u001b[39;49m\u001b[43mweight\u001b[49m\u001b[43m,\u001b[49m\n\u001b[0;32m    627\u001b[0m \u001b[43m            \u001b[49m\u001b[43mmessage_clsname\u001b[49m\u001b[38;5;241;43m=\u001b[39;49m\u001b[38;5;124;43m\"\u001b[39;49m\u001b[38;5;124;43mColumnTransformer\u001b[39;49m\u001b[38;5;124;43m\"\u001b[39;49m\u001b[43m,\u001b[49m\n\u001b[0;32m    628\u001b[0m \u001b[43m            \u001b[49m\u001b[43mmessage\u001b[49m\u001b[38;5;241;43m=\u001b[39;49m\u001b[38;5;28;43mself\u001b[39;49m\u001b[38;5;241;43m.\u001b[39;49m\u001b[43m_log_message\u001b[49m\u001b[43m(\u001b[49m\u001b[43mname\u001b[49m\u001b[43m,\u001b[49m\u001b[43m \u001b[49m\u001b[43midx\u001b[49m\u001b[43m,\u001b[49m\u001b[43m \u001b[49m\u001b[38;5;28;43mlen\u001b[39;49m\u001b[43m(\u001b[49m\u001b[43mtransformers\u001b[49m\u001b[43m)\u001b[49m\u001b[43m)\u001b[49m\u001b[43m,\u001b[49m\n\u001b[0;32m    629\u001b[0m \u001b[43m        \u001b[49m\u001b[43m)\u001b[49m\n\u001b[0;32m    630\u001b[0m \u001b[43m        \u001b[49m\u001b[38;5;28;43;01mfor\u001b[39;49;00m\u001b[43m \u001b[49m\u001b[43midx\u001b[49m\u001b[43m,\u001b[49m\u001b[43m \u001b[49m\u001b[43m(\u001b[49m\u001b[43mname\u001b[49m\u001b[43m,\u001b[49m\u001b[43m \u001b[49m\u001b[43mtrans\u001b[49m\u001b[43m,\u001b[49m\u001b[43m \u001b[49m\u001b[43mcolumn\u001b[49m\u001b[43m,\u001b[49m\u001b[43m \u001b[49m\u001b[43mweight\u001b[49m\u001b[43m)\u001b[49m\u001b[43m \u001b[49m\u001b[38;5;129;43;01min\u001b[39;49;00m\u001b[43m \u001b[49m\u001b[38;5;28;43menumerate\u001b[39;49m\u001b[43m(\u001b[49m\u001b[43mtransformers\u001b[49m\u001b[43m,\u001b[49m\u001b[43m \u001b[49m\u001b[38;5;241;43m1\u001b[39;49m\u001b[43m)\u001b[49m\n\u001b[0;32m    631\u001b[0m \u001b[43m    \u001b[49m\u001b[43m)\u001b[49m\n\u001b[0;32m    632\u001b[0m \u001b[38;5;28;01mexcept\u001b[39;00m \u001b[38;5;167;01mValueError\u001b[39;00m \u001b[38;5;28;01mas\u001b[39;00m e:\n\u001b[0;32m    633\u001b[0m     \u001b[38;5;28;01mif\u001b[39;00m \u001b[38;5;124m\"\u001b[39m\u001b[38;5;124mExpected 2D array, got 1D array instead\u001b[39m\u001b[38;5;124m\"\u001b[39m \u001b[38;5;129;01min\u001b[39;00m \u001b[38;5;28mstr\u001b[39m(e):\n",
      "File \u001b[1;32mc:\\Users\\couts\\anaconda3\\envs\\aurawave-data\\lib\\site-packages\\joblib\\parallel.py:1863\u001b[0m, in \u001b[0;36mParallel.__call__\u001b[1;34m(self, iterable)\u001b[0m\n\u001b[0;32m   1861\u001b[0m     output \u001b[38;5;241m=\u001b[39m \u001b[38;5;28mself\u001b[39m\u001b[38;5;241m.\u001b[39m_get_sequential_output(iterable)\n\u001b[0;32m   1862\u001b[0m     \u001b[38;5;28mnext\u001b[39m(output)\n\u001b[1;32m-> 1863\u001b[0m     \u001b[38;5;28;01mreturn\u001b[39;00m output \u001b[38;5;28;01mif\u001b[39;00m \u001b[38;5;28mself\u001b[39m\u001b[38;5;241m.\u001b[39mreturn_generator \u001b[38;5;28;01melse\u001b[39;00m \u001b[38;5;28;43mlist\u001b[39;49m\u001b[43m(\u001b[49m\u001b[43moutput\u001b[49m\u001b[43m)\u001b[49m\n\u001b[0;32m   1865\u001b[0m \u001b[38;5;66;03m# Let's create an ID that uniquely identifies the current call. If the\u001b[39;00m\n\u001b[0;32m   1866\u001b[0m \u001b[38;5;66;03m# call is interrupted early and that the same instance is immediately\u001b[39;00m\n\u001b[0;32m   1867\u001b[0m \u001b[38;5;66;03m# re-used, this id will be used to prevent workers that were\u001b[39;00m\n\u001b[0;32m   1868\u001b[0m \u001b[38;5;66;03m# concurrently finalizing a task from the previous call to run the\u001b[39;00m\n\u001b[0;32m   1869\u001b[0m \u001b[38;5;66;03m# callback.\u001b[39;00m\n\u001b[0;32m   1870\u001b[0m \u001b[38;5;28;01mwith\u001b[39;00m \u001b[38;5;28mself\u001b[39m\u001b[38;5;241m.\u001b[39m_lock:\n",
      "File \u001b[1;32mc:\\Users\\couts\\anaconda3\\envs\\aurawave-data\\lib\\site-packages\\joblib\\parallel.py:1792\u001b[0m, in \u001b[0;36mParallel._get_sequential_output\u001b[1;34m(self, iterable)\u001b[0m\n\u001b[0;32m   1790\u001b[0m \u001b[38;5;28mself\u001b[39m\u001b[38;5;241m.\u001b[39mn_dispatched_batches \u001b[38;5;241m+\u001b[39m\u001b[38;5;241m=\u001b[39m \u001b[38;5;241m1\u001b[39m\n\u001b[0;32m   1791\u001b[0m \u001b[38;5;28mself\u001b[39m\u001b[38;5;241m.\u001b[39mn_dispatched_tasks \u001b[38;5;241m+\u001b[39m\u001b[38;5;241m=\u001b[39m \u001b[38;5;241m1\u001b[39m\n\u001b[1;32m-> 1792\u001b[0m res \u001b[38;5;241m=\u001b[39m func(\u001b[38;5;241m*\u001b[39margs, \u001b[38;5;241m*\u001b[39m\u001b[38;5;241m*\u001b[39mkwargs)\n\u001b[0;32m   1793\u001b[0m \u001b[38;5;28mself\u001b[39m\u001b[38;5;241m.\u001b[39mn_completed_tasks \u001b[38;5;241m+\u001b[39m\u001b[38;5;241m=\u001b[39m \u001b[38;5;241m1\u001b[39m\n\u001b[0;32m   1794\u001b[0m \u001b[38;5;28mself\u001b[39m\u001b[38;5;241m.\u001b[39mprint_progress()\n",
      "File \u001b[1;32mc:\\Users\\couts\\anaconda3\\envs\\aurawave-data\\lib\\site-packages\\sklearn\\utils\\fixes.py:117\u001b[0m, in \u001b[0;36m_FuncWrapper.__call__\u001b[1;34m(self, *args, **kwargs)\u001b[0m\n\u001b[0;32m    115\u001b[0m \u001b[38;5;28;01mdef\u001b[39;00m \u001b[38;5;21m__call__\u001b[39m(\u001b[38;5;28mself\u001b[39m, \u001b[38;5;241m*\u001b[39margs, \u001b[38;5;241m*\u001b[39m\u001b[38;5;241m*\u001b[39mkwargs):\n\u001b[0;32m    116\u001b[0m     \u001b[38;5;28;01mwith\u001b[39;00m config_context(\u001b[38;5;241m*\u001b[39m\u001b[38;5;241m*\u001b[39m\u001b[38;5;28mself\u001b[39m\u001b[38;5;241m.\u001b[39mconfig):\n\u001b[1;32m--> 117\u001b[0m         \u001b[38;5;28;01mreturn\u001b[39;00m \u001b[38;5;28mself\u001b[39m\u001b[38;5;241m.\u001b[39mfunction(\u001b[38;5;241m*\u001b[39margs, \u001b[38;5;241m*\u001b[39m\u001b[38;5;241m*\u001b[39mkwargs)\n",
      "File \u001b[1;32mc:\\Users\\couts\\anaconda3\\envs\\aurawave-data\\lib\\site-packages\\sklearn\\pipeline.py:870\u001b[0m, in \u001b[0;36m_fit_transform_one\u001b[1;34m(transformer, X, y, weight, message_clsname, message, **fit_params)\u001b[0m\n\u001b[0;32m    868\u001b[0m \u001b[38;5;28;01mwith\u001b[39;00m _print_elapsed_time(message_clsname, message):\n\u001b[0;32m    869\u001b[0m     \u001b[38;5;28;01mif\u001b[39;00m \u001b[38;5;28mhasattr\u001b[39m(transformer, \u001b[38;5;124m\"\u001b[39m\u001b[38;5;124mfit_transform\u001b[39m\u001b[38;5;124m\"\u001b[39m):\n\u001b[1;32m--> 870\u001b[0m         res \u001b[38;5;241m=\u001b[39m transformer\u001b[38;5;241m.\u001b[39mfit_transform(X, y, \u001b[38;5;241m*\u001b[39m\u001b[38;5;241m*\u001b[39mfit_params)\n\u001b[0;32m    871\u001b[0m     \u001b[38;5;28;01melse\u001b[39;00m:\n\u001b[0;32m    872\u001b[0m         res \u001b[38;5;241m=\u001b[39m transformer\u001b[38;5;241m.\u001b[39mfit(X, y, \u001b[38;5;241m*\u001b[39m\u001b[38;5;241m*\u001b[39mfit_params)\u001b[38;5;241m.\u001b[39mtransform(X)\n",
      "File \u001b[1;32mc:\\Users\\couts\\anaconda3\\envs\\aurawave-data\\lib\\site-packages\\sklearn\\base.py:870\u001b[0m, in \u001b[0;36mTransformerMixin.fit_transform\u001b[1;34m(self, X, y, **fit_params)\u001b[0m\n\u001b[0;32m    867\u001b[0m     \u001b[38;5;28;01mreturn\u001b[39;00m \u001b[38;5;28mself\u001b[39m\u001b[38;5;241m.\u001b[39mfit(X, \u001b[38;5;241m*\u001b[39m\u001b[38;5;241m*\u001b[39mfit_params)\u001b[38;5;241m.\u001b[39mtransform(X)\n\u001b[0;32m    868\u001b[0m \u001b[38;5;28;01melse\u001b[39;00m:\n\u001b[0;32m    869\u001b[0m     \u001b[38;5;66;03m# fit method of arity 2 (supervised transformation)\u001b[39;00m\n\u001b[1;32m--> 870\u001b[0m     \u001b[38;5;28;01mreturn\u001b[39;00m \u001b[38;5;28mself\u001b[39m\u001b[38;5;241m.\u001b[39mfit(X, y, \u001b[38;5;241m*\u001b[39m\u001b[38;5;241m*\u001b[39mfit_params)\u001b[38;5;241m.\u001b[39mtransform(X)\n",
      "File \u001b[1;32mc:\\Users\\couts\\anaconda3\\envs\\aurawave-data\\lib\\site-packages\\sklearn\\preprocessing\\_encoders.py:1294\u001b[0m, in \u001b[0;36mOrdinalEncoder.fit\u001b[1;34m(self, X, y)\u001b[0m\n\u001b[0;32m   1287\u001b[0m     \u001b[38;5;28;01mraise\u001b[39;00m \u001b[38;5;167;01mTypeError\u001b[39;00m(\n\u001b[0;32m   1288\u001b[0m         \u001b[38;5;124m\"\u001b[39m\u001b[38;5;124munknown_value should only be set when \u001b[39m\u001b[38;5;124m\"\u001b[39m\n\u001b[0;32m   1289\u001b[0m         \u001b[38;5;124m\"\u001b[39m\u001b[38;5;124mhandle_unknown is \u001b[39m\u001b[38;5;124m'\u001b[39m\u001b[38;5;124muse_encoded_value\u001b[39m\u001b[38;5;124m'\u001b[39m\u001b[38;5;124m, \u001b[39m\u001b[38;5;124m\"\u001b[39m\n\u001b[0;32m   1290\u001b[0m         \u001b[38;5;124mf\u001b[39m\u001b[38;5;124m\"\u001b[39m\u001b[38;5;124mgot \u001b[39m\u001b[38;5;132;01m{\u001b[39;00m\u001b[38;5;28mself\u001b[39m\u001b[38;5;241m.\u001b[39munknown_value\u001b[38;5;132;01m}\u001b[39;00m\u001b[38;5;124m.\u001b[39m\u001b[38;5;124m\"\u001b[39m\n\u001b[0;32m   1291\u001b[0m     )\n\u001b[0;32m   1293\u001b[0m \u001b[38;5;66;03m# `_fit` will only raise an error when `self.handle_unknown=\"error\"`\u001b[39;00m\n\u001b[1;32m-> 1294\u001b[0m \u001b[38;5;28;43mself\u001b[39;49m\u001b[38;5;241;43m.\u001b[39;49m\u001b[43m_fit\u001b[49m\u001b[43m(\u001b[49m\u001b[43mX\u001b[49m\u001b[43m,\u001b[49m\u001b[43m \u001b[49m\u001b[43mhandle_unknown\u001b[49m\u001b[38;5;241;43m=\u001b[39;49m\u001b[38;5;28;43mself\u001b[39;49m\u001b[38;5;241;43m.\u001b[39;49m\u001b[43mhandle_unknown\u001b[49m\u001b[43m,\u001b[49m\u001b[43m \u001b[49m\u001b[43mforce_all_finite\u001b[49m\u001b[38;5;241;43m=\u001b[39;49m\u001b[38;5;124;43m\"\u001b[39;49m\u001b[38;5;124;43mallow-nan\u001b[39;49m\u001b[38;5;124;43m\"\u001b[39;49m\u001b[43m)\u001b[49m\n\u001b[0;32m   1296\u001b[0m \u001b[38;5;28;01mif\u001b[39;00m \u001b[38;5;28mself\u001b[39m\u001b[38;5;241m.\u001b[39mhandle_unknown \u001b[38;5;241m==\u001b[39m \u001b[38;5;124m\"\u001b[39m\u001b[38;5;124muse_encoded_value\u001b[39m\u001b[38;5;124m\"\u001b[39m:\n\u001b[0;32m   1297\u001b[0m     \u001b[38;5;28;01mfor\u001b[39;00m feature_cats \u001b[38;5;129;01min\u001b[39;00m \u001b[38;5;28mself\u001b[39m\u001b[38;5;241m.\u001b[39mcategories_:\n",
      "File \u001b[1;32mc:\\Users\\couts\\anaconda3\\envs\\aurawave-data\\lib\\site-packages\\sklearn\\preprocessing\\_encoders.py:106\u001b[0m, in \u001b[0;36m_BaseEncoder._fit\u001b[1;34m(self, X, handle_unknown, force_all_finite, return_counts)\u001b[0m\n\u001b[0;32m    104\u001b[0m         cats \u001b[38;5;241m=\u001b[39m result\n\u001b[0;32m    105\u001b[0m \u001b[38;5;28;01melse\u001b[39;00m:\n\u001b[1;32m--> 106\u001b[0m     cats \u001b[38;5;241m=\u001b[39m \u001b[43mnp\u001b[49m\u001b[38;5;241;43m.\u001b[39;49m\u001b[43marray\u001b[49m\u001b[43m(\u001b[49m\u001b[38;5;28;43mself\u001b[39;49m\u001b[38;5;241;43m.\u001b[39;49m\u001b[43mcategories\u001b[49m\u001b[43m[\u001b[49m\u001b[43mi\u001b[49m\u001b[43m]\u001b[49m\u001b[43m,\u001b[49m\u001b[43m \u001b[49m\u001b[43mdtype\u001b[49m\u001b[38;5;241;43m=\u001b[39;49m\u001b[43mXi\u001b[49m\u001b[38;5;241;43m.\u001b[39;49m\u001b[43mdtype\u001b[49m\u001b[43m)\u001b[49m\n\u001b[0;32m    107\u001b[0m     \u001b[38;5;28;01mif\u001b[39;00m Xi\u001b[38;5;241m.\u001b[39mdtype\u001b[38;5;241m.\u001b[39mkind \u001b[38;5;129;01mnot\u001b[39;00m \u001b[38;5;129;01min\u001b[39;00m \u001b[38;5;124m\"\u001b[39m\u001b[38;5;124mOUS\u001b[39m\u001b[38;5;124m\"\u001b[39m:\n\u001b[0;32m    108\u001b[0m         sorted_cats \u001b[38;5;241m=\u001b[39m np\u001b[38;5;241m.\u001b[39msort(cats)\n",
      "\u001b[1;31mValueError\u001b[0m: could not convert string to float: 'F'"
     ]
    }
   ],
   "source": [
    "pipe.fit(X_train, y_train, **{'model__sample_weight': sample_weights})"
   ]
  },
  {
   "cell_type": "code",
   "execution_count": 28,
   "metadata": {},
   "outputs": [
    {
     "name": "stdout",
     "output_type": "stream",
     "text": [
      "              precision    recall  f1-score   support\n",
      "\n",
      "      active       0.80      0.89      0.84         9\n",
      "     relaxed       0.91      0.83      0.87        12\n",
      "      sleepy       0.81      0.81      0.81        16\n",
      "\n",
      "    accuracy                           0.84        37\n",
      "   macro avg       0.84      0.84      0.84        37\n",
      "weighted avg       0.84      0.84      0.84        37\n",
      "\n"
     ]
    }
   ],
   "source": [
    "y_pred = pipe.predict(X_test)\n",
    "print(classification_report(y_test, y_pred, target_names=labels))"
   ]
  },
  {
   "cell_type": "code",
   "execution_count": 29,
   "metadata": {},
   "outputs": [
    {
     "data": {
      "image/png": "[encoded data removed]",
      "text/plain": [
       "<Figure size 640x480 with 2 Axes>"
      ]
     },
     "metadata": {},
     "output_type": "display_data"
    }
   ],
   "source": [
    "cm = confusion_matrix(y_test, y_pred, normalize='true')\n",
    "disp = ConfusionMatrixDisplay(confusion_matrix=cm, display_labels=labels)\n",
    "disp.plot(cmap=plt.cm.Blues)\n",
    "plt.title(\"Confusion Matrix of Model with Pipeline\")\n",
    "plt.grid(False)\n",
    "plt.show()"
   ]
  },
  {
   "cell_type": "markdown",
   "metadata": {},
   "source": [
    "Save Model and Pipeline"
   ]
  },
  {
   "cell_type": "code",
   "execution_count": 30,
   "metadata": {},
   "outputs": [],
   "source": [
    "import pickle\n",
    "\n",
    "pickle.dump(xgb_model, open('./models/active_level_classification_model.pkl', 'wb'))\n",
    "# pickle.dump(pipe, open('./models/active_level_pipeline.pkl', 'wb'))"
   ]
  },
  {
   "cell_type": "code",
   "execution_count": null,
   "metadata": {},
   "outputs": [],
   "source": []
  },
  {
   "cell_type": "markdown",
   "metadata": {},
   "source": [
    "Labelling of Individual Music By Activeness Level"
   ]
  },
  {
   "cell_type": "code",
   "execution_count": 628,
   "metadata": {},
   "outputs": [
    {
     "data": {
      "text/html": [
       "<div>\n",
       "<style scoped>\n",
       "    .dataframe tbody tr th:only-of-type {\n",
       "        vertical-align: middle;\n",
       "    }\n",
       "\n",
       "    .dataframe tbody tr th {\n",
       "        vertical-align: top;\n",
       "    }\n",
       "\n",
       "    .dataframe thead th {\n",
       "        text-align: right;\n",
       "    }\n",
       "</style>\n",
       "<table border=\"1\" class=\"dataframe\">\n",
       "  <thead>\n",
       "    <tr style=\"text-align: right;\">\n",
       "      <th></th>\n",
       "      <th>Gender</th>\n",
       "      <th>Age</th>\n",
       "      <th>alpha</th>\n",
       "      <th>beta</th>\n",
       "      <th>gamma</th>\n",
       "      <th>theta</th>\n",
       "      <th>delta</th>\n",
       "      <th>active_level</th>\n",
       "      <th>music</th>\n",
       "    </tr>\n",
       "  </thead>\n",
       "  <tbody>\n",
       "    <tr>\n",
       "      <th>0</th>\n",
       "      <td>0</td>\n",
       "      <td>57</td>\n",
       "      <td>4.487562e-09</td>\n",
       "      <td>8.151255e-09</td>\n",
       "      <td>3.232289e-08</td>\n",
       "      <td>1.807745e-08</td>\n",
       "      <td>1.829355e-07</td>\n",
       "      <td>2</td>\n",
       "      <td></td>\n",
       "    </tr>\n",
       "    <tr>\n",
       "      <th>1</th>\n",
       "      <td>0</td>\n",
       "      <td>78</td>\n",
       "      <td>6.760981e-09</td>\n",
       "      <td>9.113942e-08</td>\n",
       "      <td>4.419606e-07</td>\n",
       "      <td>1.837055e-08</td>\n",
       "      <td>1.923307e-07</td>\n",
       "      <td>0</td>\n",
       "      <td></td>\n",
       "    </tr>\n",
       "    <tr>\n",
       "      <th>2</th>\n",
       "      <td>1</td>\n",
       "      <td>70</td>\n",
       "      <td>6.869602e-09</td>\n",
       "      <td>3.701308e-09</td>\n",
       "      <td>1.263973e-08</td>\n",
       "      <td>1.718834e-08</td>\n",
       "      <td>1.345857e-07</td>\n",
       "      <td>1</td>\n",
       "      <td></td>\n",
       "    </tr>\n",
       "    <tr>\n",
       "      <th>3</th>\n",
       "      <td>0</td>\n",
       "      <td>67</td>\n",
       "      <td>5.240635e-09</td>\n",
       "      <td>1.678292e-07</td>\n",
       "      <td>4.503802e-07</td>\n",
       "      <td>3.691043e-08</td>\n",
       "      <td>2.171671e-06</td>\n",
       "      <td>2</td>\n",
       "      <td></td>\n",
       "    </tr>\n",
       "    <tr>\n",
       "      <th>4</th>\n",
       "      <td>1</td>\n",
       "      <td>70</td>\n",
       "      <td>1.503867e-07</td>\n",
       "      <td>1.952402e-07</td>\n",
       "      <td>7.413559e-07</td>\n",
       "      <td>3.448303e-07</td>\n",
       "      <td>9.152342e-07</td>\n",
       "      <td>2</td>\n",
       "      <td></td>\n",
       "    </tr>\n",
       "    <tr>\n",
       "      <th>...</th>\n",
       "      <td>...</td>\n",
       "      <td>...</td>\n",
       "      <td>...</td>\n",
       "      <td>...</td>\n",
       "      <td>...</td>\n",
       "      <td>...</td>\n",
       "      <td>...</td>\n",
       "      <td>...</td>\n",
       "      <td>...</td>\n",
       "    </tr>\n",
       "    <tr>\n",
       "      <th>140</th>\n",
       "      <td>0</td>\n",
       "      <td>74</td>\n",
       "      <td>9.714684e-09</td>\n",
       "      <td>1.963683e-08</td>\n",
       "      <td>2.827320e-08</td>\n",
       "      <td>5.541626e-08</td>\n",
       "      <td>3.169674e-07</td>\n",
       "      <td>1</td>\n",
       "      <td></td>\n",
       "    </tr>\n",
       "    <tr>\n",
       "      <th>141</th>\n",
       "      <td>0</td>\n",
       "      <td>56</td>\n",
       "      <td>5.533581e-06</td>\n",
       "      <td>7.381361e-06</td>\n",
       "      <td>9.479233e-06</td>\n",
       "      <td>1.613634e-05</td>\n",
       "      <td>9.137659e-05</td>\n",
       "      <td>1</td>\n",
       "      <td></td>\n",
       "    </tr>\n",
       "    <tr>\n",
       "      <th>142</th>\n",
       "      <td>0</td>\n",
       "      <td>64</td>\n",
       "      <td>1.267616e-05</td>\n",
       "      <td>3.485283e-05</td>\n",
       "      <td>3.194511e-05</td>\n",
       "      <td>3.794349e-05</td>\n",
       "      <td>3.241100e-05</td>\n",
       "      <td>1</td>\n",
       "      <td></td>\n",
       "    </tr>\n",
       "    <tr>\n",
       "      <th>143</th>\n",
       "      <td>1</td>\n",
       "      <td>71</td>\n",
       "      <td>2.467807e-06</td>\n",
       "      <td>5.127778e-06</td>\n",
       "      <td>4.205567e-06</td>\n",
       "      <td>5.977408e-06</td>\n",
       "      <td>1.391941e-05</td>\n",
       "      <td>1</td>\n",
       "      <td></td>\n",
       "    </tr>\n",
       "    <tr>\n",
       "      <th>144</th>\n",
       "      <td>0</td>\n",
       "      <td>57</td>\n",
       "      <td>8.871463e-06</td>\n",
       "      <td>1.183781e-05</td>\n",
       "      <td>1.520020e-05</td>\n",
       "      <td>2.588401e-05</td>\n",
       "      <td>1.464845e-04</td>\n",
       "      <td>1</td>\n",
       "      <td></td>\n",
       "    </tr>\n",
       "  </tbody>\n",
       "</table>\n",
       "<p>145 rows × 9 columns</p>\n",
       "</div>"
      ],
      "text/plain": [
       "     Gender  Age         alpha          beta         gamma         theta  \\\n",
       "0         0   57  4.487562e-09  8.151255e-09  3.232289e-08  1.807745e-08   \n",
       "1         0   78  6.760981e-09  9.113942e-08  4.419606e-07  1.837055e-08   \n",
       "2         1   70  6.869602e-09  3.701308e-09  1.263973e-08  1.718834e-08   \n",
       "3         0   67  5.240635e-09  1.678292e-07  4.503802e-07  3.691043e-08   \n",
       "4         1   70  1.503867e-07  1.952402e-07  7.413559e-07  3.448303e-07   \n",
       "..      ...  ...           ...           ...           ...           ...   \n",
       "140       0   74  9.714684e-09  1.963683e-08  2.827320e-08  5.541626e-08   \n",
       "141       0   56  5.533581e-06  7.381361e-06  9.479233e-06  1.613634e-05   \n",
       "142       0   64  1.267616e-05  3.485283e-05  3.194511e-05  3.794349e-05   \n",
       "143       1   71  2.467807e-06  5.127778e-06  4.205567e-06  5.977408e-06   \n",
       "144       0   57  8.871463e-06  1.183781e-05  1.520020e-05  2.588401e-05   \n",
       "\n",
       "            delta  active_level music  \n",
       "0    1.829355e-07             2        \n",
       "1    1.923307e-07             0        \n",
       "2    1.345857e-07             1        \n",
       "3    2.171671e-06             2        \n",
       "4    9.152342e-07             2        \n",
       "..            ...           ...   ...  \n",
       "140  3.169674e-07             1        \n",
       "141  9.137659e-05             1        \n",
       "142  3.241100e-05             1        \n",
       "143  1.391941e-05             1        \n",
       "144  1.464845e-04             1        \n",
       "\n",
       "[145 rows x 9 columns]"
      ]
     },
     "execution_count": 628,
     "metadata": {},
     "output_type": "execute_result"
    }
   ],
   "source": [
    "patients_sampled = X_sample\n",
    "patients_sampled['active_level'] = y_sample\n",
    "patients_sampled['music'] = ''\n",
    "\n",
    "patients_sampled"
   ]
  },
  {
   "cell_type": "code",
   "execution_count": 632,
   "metadata": {},
   "outputs": [],
   "source": [
    "import glob\n",
    "from random import randint\n",
    "from sklearn.preprocessing import OrdinalEncoder"
   ]
  },
  {
   "cell_type": "code",
   "execution_count": 630,
   "metadata": {},
   "outputs": [
    {
     "data": {
      "text/plain": [
       "{'active': ['abba_dancing_queen',\n",
       "  'circle_of_life',\n",
       "  'survivor_eye_of_the_tiger'],\n",
       " 'relaxed': ['airstream_electra',\n",
       "  'dj_shah_mellomaniac',\n",
       "  'marcino_union_weightless'],\n",
       " 'sleepy': ['here_comes_the_sun', 'the_climb', 'you_raise_me_up']}"
      ]
     },
     "execution_count": 630,
     "metadata": {},
     "output_type": "execute_result"
    }
   ],
   "source": [
    "# music_dict = {}\n",
    "\n",
    "# for level in labels:\n",
    "#     music_dict[level] = [os.path.basename(x).replace('.mp3', '') for x in glob.glob(f'./sample_music/{level}/*.mp3')]\n",
    "\n",
    "# music_dict"
   ]
  },
  {
   "cell_type": "code",
   "execution_count": 631,
   "metadata": {},
   "outputs": [
    {
     "data": {
      "text/html": [
       "<div>\n",
       "<style scoped>\n",
       "    .dataframe tbody tr th:only-of-type {\n",
       "        vertical-align: middle;\n",
       "    }\n",
       "\n",
       "    .dataframe tbody tr th {\n",
       "        vertical-align: top;\n",
       "    }\n",
       "\n",
       "    .dataframe thead th {\n",
       "        text-align: right;\n",
       "    }\n",
       "</style>\n",
       "<table border=\"1\" class=\"dataframe\">\n",
       "  <thead>\n",
       "    <tr style=\"text-align: right;\">\n",
       "      <th></th>\n",
       "      <th>Gender</th>\n",
       "      <th>Age</th>\n",
       "      <th>alpha</th>\n",
       "      <th>beta</th>\n",
       "      <th>gamma</th>\n",
       "      <th>theta</th>\n",
       "      <th>delta</th>\n",
       "      <th>active_level</th>\n",
       "      <th>music</th>\n",
       "    </tr>\n",
       "  </thead>\n",
       "  <tbody>\n",
       "    <tr>\n",
       "      <th>0</th>\n",
       "      <td>0</td>\n",
       "      <td>57</td>\n",
       "      <td>4.487562e-09</td>\n",
       "      <td>8.151255e-09</td>\n",
       "      <td>3.232289e-08</td>\n",
       "      <td>1.807745e-08</td>\n",
       "      <td>1.829355e-07</td>\n",
       "      <td>2</td>\n",
       "      <td>the_climb</td>\n",
       "    </tr>\n",
       "    <tr>\n",
       "      <th>1</th>\n",
       "      <td>0</td>\n",
       "      <td>78</td>\n",
       "      <td>6.760981e-09</td>\n",
       "      <td>9.113942e-08</td>\n",
       "      <td>4.419606e-07</td>\n",
       "      <td>1.837055e-08</td>\n",
       "      <td>1.923307e-07</td>\n",
       "      <td>0</td>\n",
       "      <td>circle_of_life</td>\n",
       "    </tr>\n",
       "    <tr>\n",
       "      <th>2</th>\n",
       "      <td>1</td>\n",
       "      <td>70</td>\n",
       "      <td>6.869602e-09</td>\n",
       "      <td>3.701308e-09</td>\n",
       "      <td>1.263973e-08</td>\n",
       "      <td>1.718834e-08</td>\n",
       "      <td>1.345857e-07</td>\n",
       "      <td>1</td>\n",
       "      <td>airstream_electra</td>\n",
       "    </tr>\n",
       "    <tr>\n",
       "      <th>3</th>\n",
       "      <td>0</td>\n",
       "      <td>67</td>\n",
       "      <td>5.240635e-09</td>\n",
       "      <td>1.678292e-07</td>\n",
       "      <td>4.503802e-07</td>\n",
       "      <td>3.691043e-08</td>\n",
       "      <td>2.171671e-06</td>\n",
       "      <td>2</td>\n",
       "      <td>you_raise_me_up</td>\n",
       "    </tr>\n",
       "    <tr>\n",
       "      <th>4</th>\n",
       "      <td>1</td>\n",
       "      <td>70</td>\n",
       "      <td>1.503867e-07</td>\n",
       "      <td>1.952402e-07</td>\n",
       "      <td>7.413559e-07</td>\n",
       "      <td>3.448303e-07</td>\n",
       "      <td>9.152342e-07</td>\n",
       "      <td>2</td>\n",
       "      <td>the_climb</td>\n",
       "    </tr>\n",
       "    <tr>\n",
       "      <th>...</th>\n",
       "      <td>...</td>\n",
       "      <td>...</td>\n",
       "      <td>...</td>\n",
       "      <td>...</td>\n",
       "      <td>...</td>\n",
       "      <td>...</td>\n",
       "      <td>...</td>\n",
       "      <td>...</td>\n",
       "      <td>...</td>\n",
       "    </tr>\n",
       "    <tr>\n",
       "      <th>140</th>\n",
       "      <td>0</td>\n",
       "      <td>74</td>\n",
       "      <td>9.714684e-09</td>\n",
       "      <td>1.963683e-08</td>\n",
       "      <td>2.827320e-08</td>\n",
       "      <td>5.541626e-08</td>\n",
       "      <td>3.169674e-07</td>\n",
       "      <td>1</td>\n",
       "      <td>airstream_electra</td>\n",
       "    </tr>\n",
       "    <tr>\n",
       "      <th>141</th>\n",
       "      <td>0</td>\n",
       "      <td>56</td>\n",
       "      <td>5.533581e-06</td>\n",
       "      <td>7.381361e-06</td>\n",
       "      <td>9.479233e-06</td>\n",
       "      <td>1.613634e-05</td>\n",
       "      <td>9.137659e-05</td>\n",
       "      <td>1</td>\n",
       "      <td>airstream_electra</td>\n",
       "    </tr>\n",
       "    <tr>\n",
       "      <th>142</th>\n",
       "      <td>0</td>\n",
       "      <td>64</td>\n",
       "      <td>1.267616e-05</td>\n",
       "      <td>3.485283e-05</td>\n",
       "      <td>3.194511e-05</td>\n",
       "      <td>3.794349e-05</td>\n",
       "      <td>3.241100e-05</td>\n",
       "      <td>1</td>\n",
       "      <td>dj_shah_mellomaniac</td>\n",
       "    </tr>\n",
       "    <tr>\n",
       "      <th>143</th>\n",
       "      <td>1</td>\n",
       "      <td>71</td>\n",
       "      <td>2.467807e-06</td>\n",
       "      <td>5.127778e-06</td>\n",
       "      <td>4.205567e-06</td>\n",
       "      <td>5.977408e-06</td>\n",
       "      <td>1.391941e-05</td>\n",
       "      <td>1</td>\n",
       "      <td>dj_shah_mellomaniac</td>\n",
       "    </tr>\n",
       "    <tr>\n",
       "      <th>144</th>\n",
       "      <td>0</td>\n",
       "      <td>57</td>\n",
       "      <td>8.871463e-06</td>\n",
       "      <td>1.183781e-05</td>\n",
       "      <td>1.520020e-05</td>\n",
       "      <td>2.588401e-05</td>\n",
       "      <td>1.464845e-04</td>\n",
       "      <td>1</td>\n",
       "      <td>marcino_union_weightless</td>\n",
       "    </tr>\n",
       "  </tbody>\n",
       "</table>\n",
       "<p>145 rows × 9 columns</p>\n",
       "</div>"
      ],
      "text/plain": [
       "     Gender  Age         alpha          beta         gamma         theta  \\\n",
       "0         0   57  4.487562e-09  8.151255e-09  3.232289e-08  1.807745e-08   \n",
       "1         0   78  6.760981e-09  9.113942e-08  4.419606e-07  1.837055e-08   \n",
       "2         1   70  6.869602e-09  3.701308e-09  1.263973e-08  1.718834e-08   \n",
       "3         0   67  5.240635e-09  1.678292e-07  4.503802e-07  3.691043e-08   \n",
       "4         1   70  1.503867e-07  1.952402e-07  7.413559e-07  3.448303e-07   \n",
       "..      ...  ...           ...           ...           ...           ...   \n",
       "140       0   74  9.714684e-09  1.963683e-08  2.827320e-08  5.541626e-08   \n",
       "141       0   56  5.533581e-06  7.381361e-06  9.479233e-06  1.613634e-05   \n",
       "142       0   64  1.267616e-05  3.485283e-05  3.194511e-05  3.794349e-05   \n",
       "143       1   71  2.467807e-06  5.127778e-06  4.205567e-06  5.977408e-06   \n",
       "144       0   57  8.871463e-06  1.183781e-05  1.520020e-05  2.588401e-05   \n",
       "\n",
       "            delta  active_level                     music  \n",
       "0    1.829355e-07             2                 the_climb  \n",
       "1    1.923307e-07             0            circle_of_life  \n",
       "2    1.345857e-07             1         airstream_electra  \n",
       "3    2.171671e-06             2           you_raise_me_up  \n",
       "4    9.152342e-07             2                 the_climb  \n",
       "..            ...           ...                       ...  \n",
       "140  3.169674e-07             1         airstream_electra  \n",
       "141  9.137659e-05             1         airstream_electra  \n",
       "142  3.241100e-05             1       dj_shah_mellomaniac  \n",
       "143  1.391941e-05             1       dj_shah_mellomaniac  \n",
       "144  1.464845e-04             1  marcino_union_weightless  \n",
       "\n",
       "[145 rows x 9 columns]"
      ]
     },
     "execution_count": 631,
     "metadata": {},
     "output_type": "execute_result"
    }
   ],
   "source": [
    "# for i, level in enumerate(labels):\n",
    "#     for id, row in patients_sampled.iterrows():\n",
    "#         if row['active_level'] == i:\n",
    "#             patients_sampled.loc[id, 'music'] = music_dict[level][randint(0, len(music_dict[level]) - 1)]\n",
    "\n",
    "# patients_sampled"
   ]
  },
  {
   "cell_type": "code",
   "execution_count": 231,
   "metadata": {},
   "outputs": [],
   "source": [
    "# patients_sampled.to_csv('./own_datasets/music_labelled.csv', index=None)"
   ]
  },
  {
   "cell_type": "code",
   "execution_count": 633,
   "metadata": {},
   "outputs": [],
   "source": [
    "patients_sampled = pd.read_csv('./own_datasets/music_labelled.csv')"
   ]
  },
  {
   "cell_type": "code",
   "execution_count": 634,
   "metadata": {},
   "outputs": [
    {
     "data": {
      "text/plain": [
       "['abba_dancing_queen',\n",
       " 'circle_of_life',\n",
       " 'survivor_eye_of_the_tiger',\n",
       " 'airstream_electra',\n",
       " 'dj_shah_mellomaniac',\n",
       " 'marcino_union_weightless',\n",
       " 'here_comes_the_sun',\n",
       " 'the_climb',\n",
       " 'you_raise_me_up']"
      ]
     },
     "execution_count": 634,
     "metadata": {},
     "output_type": "execute_result"
    }
   ],
   "source": [
    "music_labels = [music for x in music_dict.values() for music in x]\n",
    "\n",
    "music_labels"
   ]
  },
  {
   "cell_type": "code",
   "execution_count": 635,
   "metadata": {},
   "outputs": [
    {
     "name": "stdout",
     "output_type": "stream",
     "text": [
      "Class                     Sum\n",
      "abba_dancing_queen        17\n",
      "circle_of_life            13\n",
      "survivor_eye_of_the_tiger 15\n",
      "airstream_electra         13\n",
      "dj_shah_mellomaniac       17\n",
      "marcino_union_weightless  19\n",
      "here_comes_the_sun        14\n",
      "the_climb                 23\n",
      "you_raise_me_up           14\n",
      "\n",
      "Total: 145\n"
     ]
    }
   ],
   "source": [
    "X_music = patients_sampled.drop(['music'], axis=1)\n",
    "y_music = patients_sampled['music']\n",
    "\n",
    "def get_music_distribution(y):\n",
    "    print(f\"{'Class':<25} {'Sum'}\")\n",
    "    for music in music_labels:\n",
    "        n = np.count_nonzero(y == music)\n",
    "        print(f\"{music:<25} {n}\")\n",
    "    print(\"\\nTotal:\", len(y))\n",
    "get_music_distribution(y_music)"
   ]
  },
  {
   "cell_type": "code",
   "execution_count": 636,
   "metadata": {},
   "outputs": [
    {
     "name": "stdout",
     "output_type": "stream",
     "text": [
      "active - 45\n",
      "relaxed - 49\n",
      "sleepy - 51\n"
     ]
    },
    {
     "name": "stderr",
     "output_type": "stream",
     "text": [
      "C:\\Users\\couts\\AppData\\Local\\Temp\\ipykernel_2956\\3518275363.py:7: SettingWithCopyWarning: \n",
      "A value is trying to be set on a copy of a slice from a DataFrame.\n",
      "Try using .loc[row_indexer,col_indexer] = value instead\n",
      "\n",
      "See the caveats in the documentation: https://pandas.pydata.org/pandas-docs/stable/user_guide/indexing.html#returning-a-view-versus-a-copy\n",
      "  df_music_level['music'] = oe.fit_transform(df_music_level[['music']])\n",
      "C:\\Users\\couts\\AppData\\Local\\Temp\\ipykernel_2956\\3518275363.py:7: SettingWithCopyWarning: \n",
      "A value is trying to be set on a copy of a slice from a DataFrame.\n",
      "Try using .loc[row_indexer,col_indexer] = value instead\n",
      "\n",
      "See the caveats in the documentation: https://pandas.pydata.org/pandas-docs/stable/user_guide/indexing.html#returning-a-view-versus-a-copy\n",
      "  df_music_level['music'] = oe.fit_transform(df_music_level[['music']])\n",
      "C:\\Users\\couts\\AppData\\Local\\Temp\\ipykernel_2956\\3518275363.py:7: SettingWithCopyWarning: \n",
      "A value is trying to be set on a copy of a slice from a DataFrame.\n",
      "Try using .loc[row_indexer,col_indexer] = value instead\n",
      "\n",
      "See the caveats in the documentation: https://pandas.pydata.org/pandas-docs/stable/user_guide/indexing.html#returning-a-view-versus-a-copy\n",
      "  df_music_level['music'] = oe.fit_transform(df_music_level[['music']])\n"
     ]
    }
   ],
   "source": [
    "X_music_level = {}\n",
    "y_music_level = {}\n",
    "\n",
    "for i, level in enumerate(labels):\n",
    "    df_music_level = patients_sampled[patients_sampled['active_level'] == i]\n",
    "    oe = OrdinalEncoder(categories=[music_labels])\n",
    "    df_music_level['music'] = oe.fit_transform(df_music_level[['music']])\n",
    "\n",
    "    X_music_level[level] = df_music_level.drop(['music'], axis=1)\n",
    "    y_music_level[level] = df_music_level['music']\n",
    "\n",
    "    print(f\"{level} - {df_music_level.shape[0]}\")"
   ]
  },
  {
   "cell_type": "code",
   "execution_count": null,
   "metadata": {},
   "outputs": [],
   "source": [
    "# def run_sampler(X_data, oversampling_dict):\n",
    "#     oversampler = SMOTE(sampling_strategy=oversampling_dict, random_state=0)\n",
    "\n",
    "#     X_sample, y_sample = oversampler.fit_resample(X_data, y)\n",
    "#     return X_sample, y_sample\n",
    "\n",
    "# X_sample_music, y_sample_music = run_sampler(X_music, )\n",
    "# get_class_distribution(y_sample_music)"
   ]
  },
  {
   "cell_type": "code",
   "execution_count": 637,
   "metadata": {},
   "outputs": [],
   "source": [
    "def run_music_classifier(model, level, scale=False):\n",
    "    X_train, X_test, y_train, y_test = train_test_split(X_music_level[level], y_music_level[level], test_size=0.25, random_state=0)\n",
    "\n",
    "    if scale:\n",
    "        sc = StandardScaler()\n",
    "        X_train = sc.fit_transform(X_train)\n",
    "        X_test = sc.fit_transform(X_test)\n",
    "\n",
    "    rf = RandomForestClassifier()\n",
    "\n",
    "    # Use random search to find the best hyperparameters\n",
    "    random_search = RandomizedSearchCV(rf, \n",
    "                                    param_distributions = param_dist, \n",
    "                                    n_iter=100, \n",
    "                                    cv=5)\n",
    "    random_search.fit(X_train, y_train)\n",
    "    best_rf = random_search.best_estimator_\n",
    "\n",
    "    y_pred = best_rf.predict(X_test)\n",
    "    print(level + \":\")\n",
    "    print(classification_report(y_test, y_pred, target_names=music_dict[level]))"
   ]
  },
  {
   "cell_type": "code",
   "execution_count": 265,
   "metadata": {},
   "outputs": [
    {
     "data": {
      "text/html": [
       "<style>#sk-container-id-4 {color: black;background-color: white;}#sk-container-id-4 pre{padding: 0;}#sk-container-id-4 div.sk-toggleable {background-color: white;}#sk-container-id-4 label.sk-toggleable__label {cursor: pointer;display: block;width: 100%;margin-bottom: 0;padding: 0.3em;box-sizing: border-box;text-align: center;}#sk-container-id-4 label.sk-toggleable__label-arrow:before {content: \"▸\";float: left;margin-right: 0.25em;color: #696969;}#sk-container-id-4 label.sk-toggleable__label-arrow:hover:before {color: black;}#sk-container-id-4 div.sk-estimator:hover label.sk-toggleable__label-arrow:before {color: black;}#sk-container-id-4 div.sk-toggleable__content {max-height: 0;max-width: 0;overflow: hidden;text-align: left;background-color: #f0f8ff;}#sk-container-id-4 div.sk-toggleable__content pre {margin: 0.2em;color: black;border-radius: 0.25em;background-color: #f0f8ff;}#sk-container-id-4 input.sk-toggleable__control:checked~div.sk-toggleable__content {max-height: 200px;max-width: 100%;overflow: auto;}#sk-container-id-4 input.sk-toggleable__control:checked~label.sk-toggleable__label-arrow:before {content: \"▾\";}#sk-container-id-4 div.sk-estimator input.sk-toggleable__control:checked~label.sk-toggleable__label {background-color: #d4ebff;}#sk-container-id-4 div.sk-label input.sk-toggleable__control:checked~label.sk-toggleable__label {background-color: #d4ebff;}#sk-container-id-4 input.sk-hidden--visually {border: 0;clip: rect(1px 1px 1px 1px);clip: rect(1px, 1px, 1px, 1px);height: 1px;margin: -1px;overflow: hidden;padding: 0;position: absolute;width: 1px;}#sk-container-id-4 div.sk-estimator {font-family: monospace;background-color: #f0f8ff;border: 1px dotted black;border-radius: 0.25em;box-sizing: border-box;margin-bottom: 0.5em;}#sk-container-id-4 div.sk-estimator:hover {background-color: #d4ebff;}#sk-container-id-4 div.sk-parallel-item::after {content: \"\";width: 100%;border-bottom: 1px solid gray;flex-grow: 1;}#sk-container-id-4 div.sk-label:hover label.sk-toggleable__label {background-color: #d4ebff;}#sk-container-id-4 div.sk-serial::before {content: \"\";position: absolute;border-left: 1px solid gray;box-sizing: border-box;top: 0;bottom: 0;left: 50%;z-index: 0;}#sk-container-id-4 div.sk-serial {display: flex;flex-direction: column;align-items: center;background-color: white;padding-right: 0.2em;padding-left: 0.2em;position: relative;}#sk-container-id-4 div.sk-item {position: relative;z-index: 1;}#sk-container-id-4 div.sk-parallel {display: flex;align-items: stretch;justify-content: center;background-color: white;position: relative;}#sk-container-id-4 div.sk-item::before, #sk-container-id-4 div.sk-parallel-item::before {content: \"\";position: absolute;border-left: 1px solid gray;box-sizing: border-box;top: 0;bottom: 0;left: 50%;z-index: -1;}#sk-container-id-4 div.sk-parallel-item {display: flex;flex-direction: column;z-index: 1;position: relative;background-color: white;}#sk-container-id-4 div.sk-parallel-item:first-child::after {align-self: flex-end;width: 50%;}#sk-container-id-4 div.sk-parallel-item:last-child::after {align-self: flex-start;width: 50%;}#sk-container-id-4 div.sk-parallel-item:only-child::after {width: 0;}#sk-container-id-4 div.sk-dashed-wrapped {border: 1px dashed gray;margin: 0 0.4em 0.5em 0.4em;box-sizing: border-box;padding-bottom: 0.4em;background-color: white;}#sk-container-id-4 div.sk-label label {font-family: monospace;font-weight: bold;display: inline-block;line-height: 1.2em;}#sk-container-id-4 div.sk-label-container {text-align: center;}#sk-container-id-4 div.sk-container {/* jupyter's `normalize.less` sets `[hidden] { display: none; }` but bootstrap.min.css set `[hidden] { display: none !important; }` so we also need the `!important` here to be able to override the default hidden behavior on the sphinx rendered scikit-learn.org. See: https://github.com/scikit-learn/scikit-learn/issues/21755 */display: inline-block !important;position: relative;}#sk-container-id-4 div.sk-text-repr-fallback {display: none;}</style><div id=\"sk-container-id-4\" class=\"sk-top-container\"><div class=\"sk-text-repr-fallback\"><pre>RandomizedSearchCV(cv=5, estimator=RandomForestClassifier(), n_iter=100,\n",
       "                   param_distributions={&#x27;max_depth&#x27;: &lt;scipy.stats._distn_infrastructure.rv_frozen object at 0x00000193D4CFBAC0&gt;,\n",
       "                                        &#x27;n_estimators&#x27;: &lt;scipy.stats._distn_infrastructure.rv_frozen object at 0x00000193D80A2260&gt;})</pre><b>In a Jupyter environment, please rerun this cell to show the HTML representation or trust the notebook. <br />On GitHub, the HTML representation is unable to render, please try loading this page with nbviewer.org.</b></div><div class=\"sk-container\" hidden><div class=\"sk-item sk-dashed-wrapped\"><div class=\"sk-label-container\"><div class=\"sk-label sk-toggleable\"><input class=\"sk-toggleable__control sk-hidden--visually\" id=\"sk-estimator-id-4\" type=\"checkbox\" ><label for=\"sk-estimator-id-4\" class=\"sk-toggleable__label sk-toggleable__label-arrow\">RandomizedSearchCV</label><div class=\"sk-toggleable__content\"><pre>RandomizedSearchCV(cv=5, estimator=RandomForestClassifier(), n_iter=100,\n",
       "                   param_distributions={&#x27;max_depth&#x27;: &lt;scipy.stats._distn_infrastructure.rv_frozen object at 0x00000193D4CFBAC0&gt;,\n",
       "                                        &#x27;n_estimators&#x27;: &lt;scipy.stats._distn_infrastructure.rv_frozen object at 0x00000193D80A2260&gt;})</pre></div></div></div><div class=\"sk-parallel\"><div class=\"sk-parallel-item\"><div class=\"sk-item\"><div class=\"sk-label-container\"><div class=\"sk-label sk-toggleable\"><input class=\"sk-toggleable__control sk-hidden--visually\" id=\"sk-estimator-id-5\" type=\"checkbox\" ><label for=\"sk-estimator-id-5\" class=\"sk-toggleable__label sk-toggleable__label-arrow\">estimator: RandomForestClassifier</label><div class=\"sk-toggleable__content\"><pre>RandomForestClassifier()</pre></div></div></div><div class=\"sk-serial\"><div class=\"sk-item\"><div class=\"sk-estimator sk-toggleable\"><input class=\"sk-toggleable__control sk-hidden--visually\" id=\"sk-estimator-id-6\" type=\"checkbox\" ><label for=\"sk-estimator-id-6\" class=\"sk-toggleable__label sk-toggleable__label-arrow\">RandomForestClassifier</label><div class=\"sk-toggleable__content\"><pre>RandomForestClassifier()</pre></div></div></div></div></div></div></div></div></div></div>"
      ],
      "text/plain": [
       "RandomizedSearchCV(cv=5, estimator=RandomForestClassifier(), n_iter=100,\n",
       "                   param_distributions={'max_depth': <scipy.stats._distn_infrastructure.rv_frozen object at 0x00000193D4CFBAC0>,\n",
       "                                        'n_estimators': <scipy.stats._distn_infrastructure.rv_frozen object at 0x00000193D80A2260>})"
      ]
     },
     "execution_count": 265,
     "metadata": {},
     "output_type": "execute_result"
    }
   ],
   "source": [
    "# param_dist = {'n_estimators': randint(50,500),\n",
    "#               'max_depth': randint(1,20)}\n",
    "\n",
    "# # Create a random forest classifier\n",
    "# rf = RandomForestClassifier()\n",
    "\n",
    "# # Use random search to find the best hyperparameters\n",
    "# random_search = RandomizedSearchCV(rf, \n",
    "#                                  param_distributions = param_dist, \n",
    "#                                  n_iter=100, \n",
    "#                                  cv=5)\n",
    "\n",
    "# # Fit the random search object to the data\n",
    "# random_search.fit(X_train, y_train)"
   ]
  },
  {
   "cell_type": "code",
   "execution_count": 267,
   "metadata": {},
   "outputs": [
    {
     "name": "stdout",
     "output_type": "stream",
     "text": [
      "Best hyperparameters: {'max_depth': 19, 'n_estimators': 315}\n"
     ]
    }
   ],
   "source": [
    "# best_rf = random_search.best_estimator_\n",
    "\n",
    "# print('Best hyperparameters:',  random_search.best_params_)"
   ]
  },
  {
   "cell_type": "code",
   "execution_count": 271,
   "metadata": {},
   "outputs": [
    {
     "name": "stdout",
     "output_type": "stream",
     "text": [
      "                           precision    recall  f1-score   support\n",
      "\n",
      "       abba_dancing_queen       0.50      0.33      0.40         6\n",
      "           circle_of_life       0.25      0.50      0.33         2\n",
      "survivor_eye_of_the_tiger       0.00      0.00      0.00         1\n",
      "        airstream_electra       0.00      0.00      0.00         2\n",
      "      dj_shah_mellomaniac       0.33      0.17      0.22         6\n",
      " marcino_union_weightless       0.14      0.25      0.18         4\n",
      "       here_comes_the_sun       0.00      0.00      0.00         1\n",
      "                the_climb       0.50      0.27      0.35        11\n",
      "          you_raise_me_up       0.33      0.25      0.29         4\n",
      "\n",
      "                 accuracy                           0.24        37\n",
      "                macro avg       0.23      0.20      0.20        37\n",
      "             weighted avg       0.35      0.24      0.27        37\n",
      "\n"
     ]
    }
   ],
   "source": [
    "# y_pred = best_rf.predict(X_test)\n",
    "\n",
    "# print(classification_report(y_test, y_pred, target_names=music_labels))"
   ]
  },
  {
   "cell_type": "code",
   "execution_count": 638,
   "metadata": {},
   "outputs": [
    {
     "name": "stdout",
     "output_type": "stream",
     "text": [
      "active:\n",
      "                           precision    recall  f1-score   support\n",
      "\n",
      "       abba_dancing_queen       0.29      0.67      0.40         3\n",
      "           circle_of_life       0.40      0.67      0.50         3\n",
      "survivor_eye_of_the_tiger       0.00      0.00      0.00         6\n",
      "\n",
      "                 accuracy                           0.33        12\n",
      "                macro avg       0.23      0.44      0.30        12\n",
      "             weighted avg       0.17      0.33      0.23        12\n",
      "\n"
     ]
    },
    {
     "name": "stderr",
     "output_type": "stream",
     "text": [
      "c:\\Users\\couts\\anaconda3\\envs\\aurawave-data\\lib\\site-packages\\sklearn\\metrics\\_classification.py:1334: UndefinedMetricWarning: Precision and F-score are ill-defined and being set to 0.0 in labels with no predicted samples. Use `zero_division` parameter to control this behavior.\n",
      "  _warn_prf(average, modifier, msg_start, len(result))\n",
      "c:\\Users\\couts\\anaconda3\\envs\\aurawave-data\\lib\\site-packages\\sklearn\\metrics\\_classification.py:1334: UndefinedMetricWarning: Precision and F-score are ill-defined and being set to 0.0 in labels with no predicted samples. Use `zero_division` parameter to control this behavior.\n",
      "  _warn_prf(average, modifier, msg_start, len(result))\n",
      "c:\\Users\\couts\\anaconda3\\envs\\aurawave-data\\lib\\site-packages\\sklearn\\metrics\\_classification.py:1334: UndefinedMetricWarning: Precision and F-score are ill-defined and being set to 0.0 in labels with no predicted samples. Use `zero_division` parameter to control this behavior.\n",
      "  _warn_prf(average, modifier, msg_start, len(result))\n"
     ]
    },
    {
     "name": "stdout",
     "output_type": "stream",
     "text": [
      "relaxed:\n",
      "                          precision    recall  f1-score   support\n",
      "\n",
      "       airstream_electra       0.25      0.50      0.33         4\n",
      "     dj_shah_mellomaniac       0.00      0.00      0.00         3\n",
      "marcino_union_weightless       0.75      0.50      0.60         6\n",
      "\n",
      "                accuracy                           0.38        13\n",
      "               macro avg       0.33      0.33      0.31        13\n",
      "            weighted avg       0.42      0.38      0.38        13\n",
      "\n",
      "sleepy:\n",
      "                    precision    recall  f1-score   support\n",
      "\n",
      "here_comes_the_sun       0.00      0.00      0.00         5\n",
      "         the_climb       0.23      1.00      0.38         3\n",
      "   you_raise_me_up       0.00      0.00      0.00         5\n",
      "\n",
      "          accuracy                           0.23        13\n",
      "         macro avg       0.08      0.33      0.12        13\n",
      "      weighted avg       0.05      0.23      0.09        13\n",
      "\n"
     ]
    },
    {
     "name": "stderr",
     "output_type": "stream",
     "text": [
      "c:\\Users\\couts\\anaconda3\\envs\\aurawave-data\\lib\\site-packages\\sklearn\\metrics\\_classification.py:1334: UndefinedMetricWarning: Precision and F-score are ill-defined and being set to 0.0 in labels with no predicted samples. Use `zero_division` parameter to control this behavior.\n",
      "  _warn_prf(average, modifier, msg_start, len(result))\n",
      "c:\\Users\\couts\\anaconda3\\envs\\aurawave-data\\lib\\site-packages\\sklearn\\metrics\\_classification.py:1334: UndefinedMetricWarning: Precision and F-score are ill-defined and being set to 0.0 in labels with no predicted samples. Use `zero_division` parameter to control this behavior.\n",
      "  _warn_prf(average, modifier, msg_start, len(result))\n",
      "c:\\Users\\couts\\anaconda3\\envs\\aurawave-data\\lib\\site-packages\\sklearn\\metrics\\_classification.py:1334: UndefinedMetricWarning: Precision and F-score are ill-defined and being set to 0.0 in labels with no predicted samples. Use `zero_division` parameter to control this behavior.\n",
      "  _warn_prf(average, modifier, msg_start, len(result))\n"
     ]
    }
   ],
   "source": [
    "# svm = SVC(kernel='rbf', C=1.0, decision_function_shape='ovr', gamma=0.1, random_state=0)\n",
    "\n",
    "# run_music_classifier(svm, labels[0], False)\n",
    "\n",
    "for level in labels:\n",
    "    run_music_classifier(None, level, False)"
   ]
  },
  {
   "cell_type": "code",
   "execution_count": null,
   "metadata": {},
   "outputs": [],
   "source": []
  }
 ],
 "metadata": {
  "kernelspec": {
   "display_name": "aurawave-data",
   "language": "python",
   "name": "python3"
  },
  "language_info": {
   "codemirror_mode": {
    "name": "ipython",
    "version": 3
   },
   "file_extension": ".py",
   "mimetype": "text/x-python",
   "name": "python",
   "nbconvert_exporter": "python",
   "pygments_lexer": "ipython3",
   "version": "3.10.13"
  }
 },
 "nbformat": 4,
 "nbformat_minor": 2
}
